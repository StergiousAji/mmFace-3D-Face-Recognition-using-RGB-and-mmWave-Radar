{
 "cells": [
  {
   "cell_type": "markdown",
   "metadata": {},
   "source": [
    "# InsightFace for RGB Data"
   ]
  },
  {
   "cell_type": "code",
   "execution_count": 1,
   "metadata": {},
   "outputs": [
    {
     "name": "stdout",
     "output_type": "stream",
     "text": [
      "Applied providers: ['CUDAExecutionProvider', 'CPUExecutionProvider'], with options: {'CUDAExecutionProvider': {'do_copy_in_default_stream': '1', 'cudnn_conv_algo_search': 'EXHAUSTIVE', 'device_id': '0', 'gpu_external_alloc': '0', 'enable_cuda_graph': '0', 'gpu_mem_limit': '18446744073709551615', 'gpu_external_free': '0', 'gpu_external_empty_cache': '0', 'arena_extend_strategy': 'kNextPowerOfTwo', 'cudnn_conv_use_max_workspace': '1', 'cudnn_conv1d_pad_to_nc1d': '0', 'tunable_op_enable': '0', 'tunable_op_tuning_enable': '0', 'enable_skip_layer_norm_strict_mode': '0'}, 'CPUExecutionProvider': {}}\n",
      "Applied providers: ['CUDAExecutionProvider', 'CPUExecutionProvider'], with options: {'CUDAExecutionProvider': {'do_copy_in_default_stream': '1', 'cudnn_conv_algo_search': 'EXHAUSTIVE', 'device_id': '0', 'gpu_external_alloc': '0', 'enable_cuda_graph': '0', 'gpu_mem_limit': '18446744073709551615', 'gpu_external_free': '0', 'gpu_external_empty_cache': '0', 'arena_extend_strategy': 'kNextPowerOfTwo', 'cudnn_conv_use_max_workspace': '1', 'cudnn_conv1d_pad_to_nc1d': '0', 'tunable_op_enable': '0', 'tunable_op_tuning_enable': '0', 'enable_skip_layer_norm_strict_mode': '0'}, 'CPUExecutionProvider': {}}\n"
     ]
    }
   ],
   "source": [
    "import insightface\n",
    "from insightface.app.common import Face\n",
    "from insightface.model_zoo import model_zoo\n",
    "import os\n",
    "# REQUIRED FOR CUDA TO BE USED\n",
    "import torch\n",
    "\n",
    "num_subjects = 19\n",
    "BASE_DIR = os.getcwd()\n",
    "\n",
    "det_model_path = os.path.join(BASE_DIR, \"../models\", \"buffalo_l\", \"det_10g.onnx\")\n",
    "rec_model_path = os.path.join(BASE_DIR, \"../models\", \"buffalo_l\", \"w600k_r50.onnx\")\n",
    "\n",
    "det_model = model_zoo.get_model(det_model_path)\n",
    "rec_model = model_zoo.get_model(rec_model_path)\n",
    "\n",
    "det_model.prepare(ctx_id=0, input_size=(480, 640), det_thres=0.5)"
   ]
  },
  {
   "cell_type": "markdown",
   "metadata": {},
   "source": [
    "## Embedding"
   ]
  },
  {
   "cell_type": "code",
   "execution_count": 4,
   "metadata": {},
   "outputs": [
    {
     "name": "stdout",
     "output_type": "stream",
     "text": [
      "Subject: 2\n"
     ]
    },
    {
     "name": "stderr",
     "output_type": "stream",
     "text": [
      "  0%|          | 0/15 [00:00<?, ?it/s]"
     ]
    },
    {
     "name": "stderr",
     "output_type": "stream",
     "text": [
      "100%|██████████| 15/15 [00:06<00:00,  2.44it/s]"
     ]
    },
    {
     "name": "stdout",
     "output_type": "stream",
     "text": [
      "(150, 512)\n",
      "(1200, 512)\n",
      "(1200, 512)\n",
      "1200\n",
      "1200\n"
     ]
    },
    {
     "name": "stderr",
     "output_type": "stream",
     "text": [
      "\n"
     ]
    }
   ],
   "source": [
    "from glob import glob\n",
    "import numpy as np\n",
    "from tqdm import tqdm\n",
    "from utils import by_experiment\n",
    "import json\n",
    "\n",
    "def process_images(path, subjects=[0]):\n",
    "    undetected = []\n",
    "\n",
    "    for subject in subjects:\n",
    "        embs_subject_path = f\"data/InsightFace_embs/embs_{subject}.npy\"\n",
    "        if not os.path.exists(embs_subject_path):\n",
    "            subject_embeddings = []\n",
    "            print(f\"Subject: {subject}\")\n",
    "\n",
    "            for img_path in tqdm(sorted(glob(rf\"{path}\\{subject}\\*_colour.npy\"), key=by_experiment)):\n",
    "                for i, img in enumerate(np.load(img_path).astype(np.float32)):\n",
    "                    # Reformat to BGR for OpenCV\n",
    "                    img = img[..., ::-1]\n",
    "                    bboxes, kpss = det_model.detect(img, max_num=0, metric=\"default\")\n",
    "                    # If no face detected, log and add dummy embedding with np.infs\n",
    "                    if len(bboxes) != 1:\n",
    "                        undetected.append((img_path.split('\\\\')[-1], i))\n",
    "                        subject_embeddings.append(np.zeros((512)) + np.inf)\n",
    "                        continue\n",
    "                    face = Face(bbox=bboxes[0, :4], kps=kpss[0], det_score=bboxes[0, 4])\n",
    "                    rec_model.get(img, face)\n",
    "                    subject_embeddings.append(face.normed_embedding)\n",
    "\n",
    "            subject_embeddings = np.stack(subject_embeddings, axis=0)\n",
    "            print(subject_embeddings.shape)\n",
    "            np.save(embs_subject_path, subject_embeddings)\n",
    "    \n",
    "    if len(undetected) > 0:\n",
    "        with open('data/InsightFace_embs/undetected.json', 'w', encoding='utf-8') as f:\n",
    "            json.dump(undetected, f, ensure_ascii=False, indent=4)\n",
    "\n",
    "def load_embeddings(path, subjects=[0]):\n",
    "    labels, unseen_labels = [], []\n",
    "    embeddings, unseen_embeddings = [], []\n",
    "    for subject in subjects:\n",
    "        embs_path = f\"{path}/embs_{subject}.npy\"\n",
    "        if os.path.exists(embs_path):\n",
    "            subject_embeddings = np.load(embs_path)\n",
    "            h = len(subject_embeddings)//2\n",
    "            embeddings.append(subject_embeddings[:h])\n",
    "            unseen_embeddings.append(subject_embeddings[h:])\n",
    "            labels += [subject]*len(subject_embeddings[:h])\n",
    "            unseen_labels += [subject]*len(subject_embeddings[h:])\n",
    "\n",
    "    embeddings = np.concatenate(embeddings, axis=0)\n",
    "    unseen_embeddings = np.concatenate(unseen_embeddings, axis=0)\n",
    "\n",
    "    print(embeddings.shape)\n",
    "    print(unseen_embeddings.shape)\n",
    "    print(len(labels))\n",
    "    print(len(unseen_labels))\n",
    "    return labels, embeddings, unseen_labels, unseen_embeddings\n",
    "\n",
    "DATA_DIR = os.path.relpath(f\"../../Soli/soli_realsense/data\")\n",
    "subjects = range(num_subjects)\n",
    "process_images(DATA_DIR, subjects)\n",
    "labels, embeddings, unseen_labels, unseen_embeddings = load_embeddings(\"data/RGB\", subjects)"
   ]
  },
  {
   "cell_type": "markdown",
   "metadata": {},
   "source": [
    "## Prediction"
   ]
  },
  {
   "cell_type": "code",
   "execution_count": 5,
   "metadata": {},
   "outputs": [],
   "source": [
    "from collections import defaultdict\n",
    "\n",
    "def search_flatten(embeddings, labels, unseen_embeddings, threshold=0.5):\n",
    "    pred_names = []\n",
    "    for emb in unseen_embeddings:\n",
    "        scores = np.dot(emb, embeddings.T)\n",
    "        scores = np.clip(scores, 0., 1.)\n",
    "\n",
    "        idx = np.argmax(scores)\n",
    "        if scores[idx] > threshold:\n",
    "            pred_names.append(labels[idx])\n",
    "        else:\n",
    "            pred_names.append(None)\n",
    "    \n",
    "    return pred_names\n",
    "\n",
    "def get_averages(labels, scores):\n",
    "    d = defaultdict(list)\n",
    "    for l, s in zip(labels, scores):\n",
    "        d[l].append(s)\n",
    "    \n",
    "    return {n:np.mean(s) for n, s in d.items()}\n",
    "\n",
    "def search_average(embeddings, labels, unseen_embeddings, threshold=0.5):\n",
    "    pred_names = []\n",
    "    for emb in unseen_embeddings:\n",
    "        scores = np.dot(emb, embeddings.T)\n",
    "        scores = np.clip(scores, 0., 1.)\n",
    "\n",
    "        averages = get_averages(labels, scores)\n",
    "        pred = sorted(averages, key=lambda x: averages[x], reverse=True)[0]\n",
    "\n",
    "        if averages[pred] > threshold:\n",
    "            pred_names.append(pred)\n",
    "        else:\n",
    "            pred_names.append(None)\n",
    "    \n",
    "    return pred_names"
   ]
  },
  {
   "cell_type": "markdown",
   "metadata": {},
   "source": [
    "## Evaluation"
   ]
  },
  {
   "cell_type": "code",
   "execution_count": 6,
   "metadata": {},
   "outputs": [],
   "source": [
    "from sklearn.metrics import confusion_matrix\n",
    "\n",
    "def evaluate(true_labels, pred_labels, classes):\n",
    "    coverage = np.mean([n is not None for n in pred_labels]) * 100.\n",
    "\n",
    "    is_corrects = [t == p for t, p in zip(true_labels, pred_labels) if p]\n",
    "    if not is_corrects:\n",
    "        is_corrects.append(False)\n",
    "\n",
    "    accuracy = np.mean(is_corrects) * 100.\n",
    "\n",
    "    prec_cm = confusion_matrix(true_labels, pred_labels)\n",
    "\n",
    "    return accuracy, coverage, prec_cm"
   ]
  },
  {
   "cell_type": "markdown",
   "metadata": {},
   "source": [
    "### Accuracy and Coverage"
   ]
  },
  {
   "cell_type": "code",
   "execution_count": 7,
   "metadata": {},
   "outputs": [
    {
     "data": {
      "text/html": [
       "<div>\n",
       "<style scoped>\n",
       "    .dataframe tbody tr th:only-of-type {\n",
       "        vertical-align: middle;\n",
       "    }\n",
       "\n",
       "    .dataframe tbody tr th {\n",
       "        vertical-align: top;\n",
       "    }\n",
       "\n",
       "    .dataframe thead th {\n",
       "        text-align: right;\n",
       "    }\n",
       "</style>\n",
       "<table border=\"1\" class=\"dataframe\">\n",
       "  <thead>\n",
       "    <tr style=\"text-align: right;\">\n",
       "      <th></th>\n",
       "      <th>method</th>\n",
       "      <th>accuracy</th>\n",
       "      <th>coverage</th>\n",
       "    </tr>\n",
       "  </thead>\n",
       "  <tbody>\n",
       "    <tr>\n",
       "      <th>0</th>\n",
       "      <td>flatten</td>\n",
       "      <td>100.0</td>\n",
       "      <td>98.333333</td>\n",
       "    </tr>\n",
       "    <tr>\n",
       "      <th>1</th>\n",
       "      <td>average</td>\n",
       "      <td>100.0</td>\n",
       "      <td>95.583333</td>\n",
       "    </tr>\n",
       "  </tbody>\n",
       "</table>\n",
       "</div>"
      ],
      "text/plain": [
       "    method  accuracy   coverage\n",
       "0  flatten     100.0  98.333333\n",
       "1  average     100.0  95.583333"
      ]
     },
     "execution_count": 7,
     "metadata": {},
     "output_type": "execute_result"
    }
   ],
   "source": [
    "import pandas as pd\n",
    "\n",
    "pred_names = search_flatten(embeddings, labels, unseen_embeddings, threshold=0)\n",
    "acc_flatten, cov_flatten = evaluate(unseen_labels, pred_names)\n",
    "\n",
    "pred_names = search_average(embeddings, labels, unseen_embeddings, threshold=0)\n",
    "acc_average, cov_average = evaluate(unseen_labels, pred_names)\n",
    "\n",
    "# TODO: ALSO ACCOUNT FOR FAILURES -> UNDETECTED FACES ETC.\n",
    "results = pd.DataFrame([\n",
    "    {'method': 'flatten', 'accuracy': acc_flatten, 'coverage': cov_flatten},\n",
    "    {'method': 'average', 'accuracy': acc_average, 'coverage': cov_average},\n",
    "])\n",
    "\n",
    "results"
   ]
  },
  {
   "cell_type": "markdown",
   "metadata": {},
   "source": [
    "# Analysing Best Threshold"
   ]
  },
  {
   "cell_type": "code",
   "execution_count": null,
   "metadata": {},
   "outputs": [],
   "source": [
    "import matplotlib.pyplot as plt\n",
    "\n",
    "thresholds = np.arange(0, 1, 0.05)\n",
    "accuracies = []\n",
    "coverages = []\n",
    "for t in thresholds:\n",
    "    # BEST PERFORMING IS FLATTEN\n",
    "    pred_names = search_flatten(embeddings, labels, unseen_embeddings, t)\n",
    "    # pred_names = search_average(known_embeddings, known_names, unknown_embeddings, t)\n",
    "    acc, cov = evaluate(unseen_labels, pred_names)\n",
    "    accuracies.append(acc)\n",
    "    coverages.append(cov)\n",
    "\n",
    "plt.plot(thresholds, accuracies)\n",
    "plt.plot(thresholds, coverages)\n",
    "plt.show()"
   ]
  },
  {
   "cell_type": "markdown",
   "metadata": {},
   "source": [
    "# InsightFace Classifiers"
   ]
  },
  {
   "cell_type": "markdown",
   "metadata": {},
   "source": [
    "### Load Models and Dataset"
   ]
  },
  {
   "cell_type": "code",
   "execution_count": 18,
   "metadata": {},
   "outputs": [
    {
     "name": "stdout",
     "output_type": "stream",
     "text": [
      "cuda\n",
      "Applied providers: ['CUDAExecutionProvider', 'CPUExecutionProvider'], with options: {'CUDAExecutionProvider': {'do_copy_in_default_stream': '1', 'cudnn_conv_algo_search': 'EXHAUSTIVE', 'device_id': '0', 'gpu_external_alloc': '0', 'enable_cuda_graph': '0', 'gpu_mem_limit': '18446744073709551615', 'gpu_external_free': '0', 'gpu_external_empty_cache': '0', 'arena_extend_strategy': 'kNextPowerOfTwo', 'cudnn_conv_use_max_workspace': '1', 'cudnn_conv1d_pad_to_nc1d': '0', 'tunable_op_enable': '0', 'tunable_op_tuning_enable': '0', 'enable_skip_layer_norm_strict_mode': '0'}, 'CPUExecutionProvider': {}}\n",
      "Applied providers: ['CUDAExecutionProvider', 'CPUExecutionProvider'], with options: {'CUDAExecutionProvider': {'do_copy_in_default_stream': '1', 'cudnn_conv_algo_search': 'EXHAUSTIVE', 'device_id': '0', 'gpu_external_alloc': '0', 'enable_cuda_graph': '0', 'gpu_mem_limit': '18446744073709551615', 'gpu_external_free': '0', 'gpu_external_empty_cache': '0', 'arena_extend_strategy': 'kNextPowerOfTwo', 'cudnn_conv_use_max_workspace': '1', 'cudnn_conv1d_pad_to_nc1d': '0', 'tunable_op_enable': '0', 'tunable_op_tuning_enable': '0', 'enable_skip_layer_norm_strict_mode': '0'}, 'CPUExecutionProvider': {}}\n"
     ]
    }
   ],
   "source": [
    "import insightface\n",
    "from insightface.app.common import Face\n",
    "from insightface.model_zoo import model_zoo\n",
    "from tqdm import tqdm\n",
    "import os\n",
    "# REQUIRED FOR CUDA TO BE USED\n",
    "import torch\n",
    "\n",
    "device = torch.device(\"cuda\" if torch.cuda.is_available() else \"cpu\")\n",
    "print(device)\n",
    "BASE_DIR = os.getcwd()\n",
    "\n",
    "det_model_path = os.path.join(BASE_DIR, \"../models\", \"buffalo_l\", \"det_10g.onnx\")\n",
    "rec_model_path = os.path.join(BASE_DIR, \"../models\", \"buffalo_l\", \"w600k_r50.onnx\")\n",
    "\n",
    "det_model = model_zoo.get_model(det_model_path)\n",
    "rec_model = model_zoo.get_model(rec_model_path)\n",
    "\n",
    "det_model.prepare(ctx_id=0, input_size=(480, 640), det_thres=0.5)"
   ]
  },
  {
   "cell_type": "code",
   "execution_count": 19,
   "metadata": {},
   "outputs": [
    {
     "name": "stderr",
     "output_type": "stream",
     "text": [
      "100%|██████████| 21/21 [02:03<00:00,  5.89s/it]\n"
     ]
    },
    {
     "name": "stdout",
     "output_type": "stream",
     "text": [
      "(21, 15, 10, 512)\n"
     ]
    },
    {
     "name": "stderr",
     "output_type": "stream",
     "text": [
      "100%|██████████| 21/21 [00:23<00:00,  1.13s/it]\n"
     ]
    },
    {
     "name": "stdout",
     "output_type": "stream",
     "text": [
      "(21, 15, 10, 512)\n",
      "(21, 3, 10, 512) (21, 3, 10, 512)\n",
      "(21, 3, 10, 512)\n",
      "372 126\n",
      "124 42\n",
      "124 42\n",
      "\n",
      "Train: torch.Size([498, 512])\n",
      "Validation: torch.Size([166, 512])\n",
      "Test: torch.Size([166, 512])\n",
      "Allocated: 0.00 GB\n"
     ]
    }
   ],
   "source": [
    "from torch.utils.data import DataLoader\n",
    "from torch.utils.data.sampler import SubsetRandomSampler\n",
    "from dataset_builder import GenericDataset\n",
    "import numpy as np\n",
    "from utils import by_experiment\n",
    "from glob import glob\n",
    "import json\n",
    "\n",
    "def process_rgb(raw_path, subjects, name, num_experiments=15):\n",
    "    experiments = np.full((len(subjects), num_experiments, 10, 512), np.nan)\n",
    "    undetected = []\n",
    "\n",
    "    for sub, subject in enumerate(tqdm(subjects)):\n",
    "        for img_path in sorted(glob(rf\"{raw_path}\\{subject}\\*_colour.npy\"), key=by_experiment):\n",
    "            exp = by_experiment(img_path)\n",
    "            experiment_embs = np.full((10, 512), np.nan)\n",
    "            for frame, img in enumerate(np.load(img_path).astype(np.float32)):\n",
    "                # Reformat to BGR for OpenCV\n",
    "                img = img[..., ::-1]\n",
    "                bboxes, kpss = det_model.detect(img, max_num=0, metric=\"default\")\n",
    "                if len(bboxes) != 1:\n",
    "                    undetected.append((img_path.split('\\\\')[-1], frame))\n",
    "                    continue\n",
    "                face = Face(bbox=bboxes[0, :4], kps=kpss[0], det_score=bboxes[0, 4])\n",
    "                rec_model.get(img, face)\n",
    "                experiment_embs[frame] = face.normed_embedding\n",
    "            \n",
    "            experiments[sub, exp] = np.array(experiment_embs)\n",
    "    \n",
    "    np.save(f\"data/InsightFace_embs/{name}_insightface_embs.npy\", np.array(experiments))\n",
    "    print(np.array(experiments).shape)\n",
    "    \n",
    "    if len(undetected) > 0:\n",
    "        with open('data/InsightFace_embs/undetected.json', 'a', encoding='utf-8') as f:\n",
    "            json.dump(undetected, f, ensure_ascii=False, indent=4)\n",
    "\n",
    "def load_rgb_embs(raw_path, subjects, batch_size=64, train_split=0.6, test_split=0.2, device=\"cuda\", seed=333):\n",
    "    np.random.seed(seed)\n",
    "    if not os.path.exists(\"data/InsightFace_embs/real_insightface_embs.npy\"):\n",
    "        process_rgb(raw_path, subjects, name=\"real\")\n",
    "        process_rgb(raw_path, [f\"9{s}\" for s in subjects], name=\"fake\")\n",
    "\n",
    "    # Subjects x Experiments x Frames x Embedding_Size\n",
    "    real_dataset = np.load(\"data/InsightFace_embs/real_insightface_embs.npy\")[:, [0, 5, 10]]\n",
    "    fake_dataset = np.load(\"data/InsightFace_embs/fake_insightface_embs.npy\")[:, [0, 5, 10]]\n",
    "\n",
    "    print(real_dataset.shape, fake_dataset.shape)\n",
    "\n",
    "    train, val, test = [], [], []\n",
    "    train_fake, val_fake, test_fake = [], [], []\n",
    "    val_split_end = train_split + test_split\n",
    "\n",
    "    print(real_dataset.shape)\n",
    "    for subject in real_dataset:\n",
    "        for experiment in subject:\n",
    "            filtered = experiment[~np.isnan(experiment).any(axis=1)]\n",
    "            np.random.shuffle(filtered)\n",
    "            train.append(filtered[:int(train_split*len(filtered))])\n",
    "            val.append(filtered[int(train_split*len(filtered)):int(val_split_end*len(filtered))])\n",
    "            test.append(filtered[int(val_split_end*len(filtered)):])\n",
    "\n",
    "    for subject in fake_dataset:\n",
    "        for experiment in subject:\n",
    "            filtered = experiment[~np.isnan(experiment).any(axis=1)]\n",
    "            np.random.shuffle(filtered)\n",
    "            train_fake.append(filtered[:int(train_split*len(filtered))])\n",
    "            val_fake.append(filtered[int(train_split*len(filtered)):int(val_split_end*len(filtered))])\n",
    "            test_fake.append(filtered[int(val_split_end*len(filtered)):])\n",
    "\n",
    "    train = np.concatenate(train)\n",
    "    train_fake = np.concatenate(train_fake)\n",
    "    val = np.concatenate(val)\n",
    "    val_fake = np.concatenate(val_fake)\n",
    "    test = np.concatenate(test)\n",
    "    test_fake = np.concatenate(test_fake)\n",
    "\n",
    "    train_labels = torch.tensor([0]*len(train) + [1]*len(train_fake), device=device, dtype=torch.int64)\n",
    "    val_labels = torch.tensor([0]*len(val) + [1]*len(val_fake), device=device, dtype=torch.int64)\n",
    "    test_labels = torch.tensor([0]*len(test) + [1]*len(test_fake), device=device, dtype=torch.int64)\n",
    "\n",
    "    print(len(train), len(train_fake))\n",
    "    print(len(val), len(val_fake))\n",
    "    print(len(test), len(test_fake))\n",
    "    print()\n",
    "\n",
    "    train = torch.tensor(np.concatenate((train, train_fake)), device=device, dtype=torch.float32)\n",
    "    val = torch.tensor(np.concatenate((val, val_fake)), device=device, dtype=torch.float32)\n",
    "    test = torch.tensor(np.concatenate((test, test_fake)), device=device, dtype=torch.float32)\n",
    "\n",
    "    print(f\"Train: {train.shape}\")\n",
    "    print(f\"Validation: {val.shape}\")\n",
    "    print(f\"Test: {test.shape}\")\n",
    "    print(f\"Allocated: {torch.cuda.memory_allocated(0)/1024**3:.2f} GB\")\n",
    "\n",
    "    train_dataset = GenericDataset(train, train_labels, \"train\")\n",
    "    val_dataset = GenericDataset(val, val_labels, \"validation\")\n",
    "    test_dataset = GenericDataset(test, test_labels, \"test\")\n",
    "\n",
    "    train_loader = DataLoader(train_dataset, batch_size, sampler=SubsetRandomSampler(np.random.permutation(len(train_dataset))))\n",
    "    val_loader = DataLoader(val_dataset, batch_size, sampler=SubsetRandomSampler(np.random.permutation(len(val_dataset))))\n",
    "    test_loader = DataLoader(test_dataset, batch_size, sampler=SubsetRandomSampler(np.random.permutation(len(test_dataset))))\n",
    "\n",
    "    return train_loader, val_loader, test_loader\n",
    "\n",
    "    \n",
    "num_subjects = 21\n",
    "    \n",
    "torch.cuda.empty_cache()\n",
    "train, validation, test = load_rgb_embs(os.path.relpath(\"../../Soli/soli_realsense/data\"), range(num_subjects), batch_size=128, device=device)"
   ]
  },
  {
   "cell_type": "code",
   "execution_count": 6,
   "metadata": {},
   "outputs": [
    {
     "name": "stdout",
     "output_type": "stream",
     "text": [
      "[Errno 2] No such file or directory: 'models/insightface-liveness_classifier.pt'\n"
     ]
    }
   ],
   "source": [
    "from neural_nets import InsightFaceClassifier\n",
    "from torch import nn\n",
    "from utils import load_model, load_history\n",
    "\n",
    "num_epochs = 20\n",
    "learning_rate = 0.01\n",
    "\n",
    "# model = InsightFaceClassifier(num_subjects).to(device)\n",
    "# Liveness Classifier\n",
    "model = InsightFaceClassifier(2).to(device)\n",
    "\n",
    "# Loss + Optimiser\n",
    "criterion = nn.CrossEntropyLoss()\n",
    "optimiser = torch.optim.SGD(model.parameters(), lr=learning_rate, weight_decay=0.001, momentum=0.9)\n",
    "\n",
    "model_name = f\"insightface-liveness_classifier.pt\"\n",
    "cur_epoch, loss_history, train_acc, val_acc = load_model(model_name, model, optimiser)\n",
    "\n",
    "if len(loss_history) > 0:\n",
    "    print(f\"{model_name}\\n\\tEpoch: {cur_epoch}\\n\\tLoss: {loss_history[-1]:.4f}\\n\\tTrain Accuracy: {train_acc[-1]:.4f}\\n\\tValidation Accuracy: {val_acc[-1]:.4f}\")"
   ]
  },
  {
   "cell_type": "markdown",
   "metadata": {},
   "source": [
    "### Training"
   ]
  },
  {
   "cell_type": "code",
   "execution_count": 7,
   "metadata": {},
   "outputs": [
    {
     "name": "stdout",
     "output_type": "stream",
     "text": [
      "\n",
      "Epoch [0/19]:\n"
     ]
    },
    {
     "name": "stderr",
     "output_type": "stream",
     "text": [
      "100%|██████████| 6/6 [00:00<00:00, 182.30it/s]\n"
     ]
    },
    {
     "name": "stdout",
     "output_type": "stream",
     "text": [
      "\tAverage Train Loss: 0.5845\n",
      "\tTrain Accuracy: 81.3333%\n",
      "\tValidation Accuracy: 83.2000%\n",
      "\n",
      "Epoch [1/19]:\n"
     ]
    },
    {
     "name": "stderr",
     "output_type": "stream",
     "text": [
      "100%|██████████| 6/6 [00:00<00:00, 204.56it/s]\n"
     ]
    },
    {
     "name": "stdout",
     "output_type": "stream",
     "text": [
      "\tAverage Train Loss: 0.4333\n",
      "\tTrain Accuracy: 86.0000%\n",
      "\tValidation Accuracy: 66.4000%\n",
      "\n",
      "Epoch [2/19]:\n"
     ]
    },
    {
     "name": "stderr",
     "output_type": "stream",
     "text": [
      "100%|██████████| 6/6 [00:00<00:00, 240.63it/s]\n"
     ]
    },
    {
     "name": "stdout",
     "output_type": "stream",
     "text": [
      "\tAverage Train Loss: 0.3095\n",
      "\tTrain Accuracy: 87.8667%\n",
      "\tValidation Accuracy: 96.0000%\n",
      "\n",
      "Epoch [3/19]:\n"
     ]
    },
    {
     "name": "stderr",
     "output_type": "stream",
     "text": [
      "100%|██████████| 6/6 [00:00<00:00, 260.38it/s]\n"
     ]
    },
    {
     "name": "stdout",
     "output_type": "stream",
     "text": [
      "\tAverage Train Loss: 0.2077\n",
      "\tTrain Accuracy: 95.3333%\n",
      "\tValidation Accuracy: 80.0000%\n",
      "\n",
      "Epoch [4/19]:\n"
     ]
    },
    {
     "name": "stderr",
     "output_type": "stream",
     "text": [
      "100%|██████████| 6/6 [00:00<00:00, 201.50it/s]\n"
     ]
    },
    {
     "name": "stdout",
     "output_type": "stream",
     "text": [
      "\tAverage Train Loss: 0.1470\n",
      "\tTrain Accuracy: 97.0667%\n",
      "\tValidation Accuracy: 100.0000%\n",
      "\n",
      "Epoch [5/19]:\n"
     ]
    },
    {
     "name": "stderr",
     "output_type": "stream",
     "text": [
      "100%|██████████| 6/6 [00:00<00:00, 222.80it/s]\n"
     ]
    },
    {
     "name": "stdout",
     "output_type": "stream",
     "text": [
      "\tAverage Train Loss: 0.1183\n",
      "\tTrain Accuracy: 98.8000%\n",
      "\tValidation Accuracy: 98.0000%\n",
      "\n",
      "Epoch [6/19]:\n"
     ]
    },
    {
     "name": "stderr",
     "output_type": "stream",
     "text": [
      "100%|██████████| 6/6 [00:00<00:00, 214.84it/s]\n"
     ]
    },
    {
     "name": "stdout",
     "output_type": "stream",
     "text": [
      "\tAverage Train Loss: 0.0956\n",
      "\tTrain Accuracy: 99.8667%\n",
      "\tValidation Accuracy: 100.0000%\n",
      "\n",
      "Epoch [7/19]:\n"
     ]
    },
    {
     "name": "stderr",
     "output_type": "stream",
     "text": [
      "100%|██████████| 6/6 [00:00<00:00, 246.06it/s]\n"
     ]
    },
    {
     "name": "stdout",
     "output_type": "stream",
     "text": [
      "\tAverage Train Loss: 0.0856\n",
      "\tTrain Accuracy: 99.3333%\n",
      "\tValidation Accuracy: 100.0000%\n",
      "\n",
      "Epoch [8/19]:\n"
     ]
    },
    {
     "name": "stderr",
     "output_type": "stream",
     "text": [
      "100%|██████████| 6/6 [00:00<00:00, 234.24it/s]\n"
     ]
    },
    {
     "name": "stdout",
     "output_type": "stream",
     "text": [
      "\tAverage Train Loss: 0.0692\n",
      "\tTrain Accuracy: 100.0000%\n",
      "\tValidation Accuracy: 100.0000%\n",
      "\n",
      "Epoch [9/19]:\n"
     ]
    },
    {
     "name": "stderr",
     "output_type": "stream",
     "text": [
      "100%|██████████| 6/6 [00:00<00:00, 208.14it/s]"
     ]
    },
    {
     "name": "stdout",
     "output_type": "stream",
     "text": [
      "\tAverage Train Loss: 0.0615\n",
      "\tTrain Accuracy: 100.0000%\n"
     ]
    },
    {
     "name": "stderr",
     "output_type": "stream",
     "text": [
      "\n"
     ]
    },
    {
     "name": "stdout",
     "output_type": "stream",
     "text": [
      "\tValidation Accuracy: 100.0000%\n",
      "\n",
      "Epoch [10/19]:\n"
     ]
    },
    {
     "name": "stderr",
     "output_type": "stream",
     "text": [
      "100%|██████████| 6/6 [00:00<00:00, 222.81it/s]\n"
     ]
    },
    {
     "name": "stdout",
     "output_type": "stream",
     "text": [
      "\tAverage Train Loss: 0.0555\n",
      "\tTrain Accuracy: 100.0000%\n",
      "\tValidation Accuracy: 100.0000%\n",
      "\n",
      "Epoch [11/19]:\n"
     ]
    },
    {
     "name": "stderr",
     "output_type": "stream",
     "text": [
      "100%|██████████| 6/6 [00:00<00:00, 214.87it/s]\n"
     ]
    },
    {
     "name": "stdout",
     "output_type": "stream",
     "text": [
      "\tAverage Train Loss: 0.0497\n",
      "\tTrain Accuracy: 100.0000%\n",
      "\tValidation Accuracy: 100.0000%\n",
      "\n",
      "Epoch [12/19]:\n"
     ]
    },
    {
     "name": "stderr",
     "output_type": "stream",
     "text": [
      "100%|██████████| 6/6 [00:00<00:00, 227.72it/s]\n"
     ]
    },
    {
     "name": "stdout",
     "output_type": "stream",
     "text": [
      "\tAverage Train Loss: 0.0464\n",
      "\tTrain Accuracy: 100.0000%\n",
      "\tValidation Accuracy: 100.0000%\n",
      "\n",
      "Epoch [13/19]:\n"
     ]
    },
    {
     "name": "stderr",
     "output_type": "stream",
     "text": [
      "100%|██████████| 6/6 [00:00<00:00, 251.29it/s]\n"
     ]
    },
    {
     "name": "stdout",
     "output_type": "stream",
     "text": [
      "\tAverage Train Loss: 0.0433\n",
      "\tTrain Accuracy: 100.0000%\n",
      "\tValidation Accuracy: 100.0000%\n",
      "\n",
      "Epoch [14/19]:\n"
     ]
    },
    {
     "name": "stderr",
     "output_type": "stream",
     "text": [
      "100%|██████████| 6/6 [00:00<00:00, 256.95it/s]\n"
     ]
    },
    {
     "name": "stdout",
     "output_type": "stream",
     "text": [
      "\tAverage Train Loss: 0.0408\n",
      "\tTrain Accuracy: 100.0000%\n",
      "\tValidation Accuracy: 100.0000%\n",
      "\n",
      "Epoch [15/19]:\n"
     ]
    },
    {
     "name": "stderr",
     "output_type": "stream",
     "text": [
      "100%|██████████| 6/6 [00:00<00:00, 139.91it/s]\n"
     ]
    },
    {
     "name": "stdout",
     "output_type": "stream",
     "text": [
      "\tAverage Train Loss: 0.0385\n",
      "\tTrain Accuracy: 100.0000%\n",
      "\tValidation Accuracy: 100.0000%\n",
      "\n",
      "Epoch [16/19]:\n"
     ]
    },
    {
     "name": "stderr",
     "output_type": "stream",
     "text": [
      "100%|██████████| 6/6 [00:00<00:00, 128.00it/s]\n"
     ]
    },
    {
     "name": "stdout",
     "output_type": "stream",
     "text": [
      "\tAverage Train Loss: 0.0457\n",
      "\tTrain Accuracy: 100.0000%\n",
      "\tValidation Accuracy: 100.0000%\n",
      "\n",
      "Epoch [17/19]:\n"
     ]
    },
    {
     "name": "stderr",
     "output_type": "stream",
     "text": [
      "100%|██████████| 6/6 [00:00<00:00, 117.97it/s]\n"
     ]
    },
    {
     "name": "stdout",
     "output_type": "stream",
     "text": [
      "\tAverage Train Loss: 0.0338\n",
      "\tTrain Accuracy: 100.0000%\n",
      "\tValidation Accuracy: 100.0000%\n",
      "\n",
      "Epoch [18/19]:\n"
     ]
    },
    {
     "name": "stderr",
     "output_type": "stream",
     "text": [
      "100%|██████████| 6/6 [00:00<00:00, 146.75it/s]\n"
     ]
    },
    {
     "name": "stdout",
     "output_type": "stream",
     "text": [
      "\tAverage Train Loss: 0.0333\n",
      "\tTrain Accuracy: 100.0000%\n",
      "\tValidation Accuracy: 100.0000%\n",
      "\n",
      "Epoch [19/19]:\n"
     ]
    },
    {
     "name": "stderr",
     "output_type": "stream",
     "text": [
      "100%|██████████| 6/6 [00:00<00:00, 167.12it/s]"
     ]
    },
    {
     "name": "stdout",
     "output_type": "stream",
     "text": [
      "\tAverage Train Loss: 0.0330\n",
      "\tTrain Accuracy: 100.0000%\n",
      "\tValidation Accuracy: 100.0000%\n"
     ]
    },
    {
     "name": "stderr",
     "output_type": "stream",
     "text": [
      "\n"
     ]
    }
   ],
   "source": [
    "for epoch in range(cur_epoch, num_epochs):\n",
    "    print(f\"\\nEpoch [{epoch}/{num_epochs-1}]:\")\n",
    "    if os.path.exists(f\"models/{model_name}\"):\n",
    "        loss_history, train_acc, val_acc = load_history(f\"models/{model_name}\")\n",
    "\n",
    "    model.train()\n",
    "    # Running Loss and Accuracy\n",
    "    running_loss, running_acc, total = 0., 0., 0.\n",
    "\n",
    "    for data, labels in tqdm(train):\n",
    "        # Forward Pass\n",
    "        outputs = model(data)\n",
    "        _, predicted = torch.max(outputs.data, 1)\n",
    "        loss = criterion(outputs, labels)\n",
    "\n",
    "        # Backward Pass and Optimise\n",
    "        optimiser.zero_grad()\n",
    "        loss.backward()\n",
    "        optimiser.step()\n",
    "\n",
    "        running_loss += loss.item()\n",
    "        total += labels.size(0)\n",
    "        running_acc += (predicted == labels).sum().item()\n",
    "\n",
    "        del data, labels, outputs\n",
    "        torch.cuda.empty_cache()\n",
    "    \n",
    "    avg_train_loss = running_loss/len(train)\n",
    "    avg_train_acc = 100*running_acc/total\n",
    "    print(f\"\\tAverage Train Loss: {avg_train_loss:.4f}\")\n",
    "    print(f\"\\tTrain Accuracy: {avg_train_acc:.4f}%\")\n",
    "\n",
    "    torch.save({\"epoch\": epoch+1,\n",
    "                \"model_state_dict\": model.state_dict(),\n",
    "                \"optimiser_state_dict\": optimiser.state_dict(),\n",
    "                \"loss_history\": loss_history + [avg_train_loss],\n",
    "                \"train_acc\": train_acc + [avg_train_acc],\n",
    "                \"val_acc\": val_acc},\n",
    "                f\"models/{model_name}\")\n",
    "    \n",
    "    # Validation\n",
    "    model.eval()\n",
    "    with torch.no_grad():\n",
    "        correct = 0\n",
    "        total = 0\n",
    "        for data, labels in validation:\n",
    "            outputs = model(data)\n",
    "            _, predicted = torch.max(outputs.data, 1)\n",
    "            total += labels.size(0)\n",
    "            correct += (predicted == labels).sum().item()\n",
    "            del data, labels, outputs\n",
    "        \n",
    "        avg_val_acc = 100*correct/total\n",
    "        print(f\"\\tValidation Accuracy: {avg_val_acc:.4f}%\")\n",
    "\n",
    "    model_checkpoint = torch.load(f\"models/{model_name}\")\n",
    "    model_checkpoint[\"val_acc\"].append(avg_val_acc)\n",
    "    torch.save(model_checkpoint, f\"models/{model_name}\")"
   ]
  },
  {
   "cell_type": "markdown",
   "metadata": {},
   "source": [
    "### Testing and Evaluation"
   ]
  },
  {
   "cell_type": "code",
   "execution_count": 8,
   "metadata": {},
   "outputs": [
    {
     "name": "stdout",
     "output_type": "stream",
     "text": [
      "Test Accuracy of mmFace: 100.0000%\n"
     ]
    }
   ],
   "source": [
    "y_pred = []\n",
    "y_true = []\n",
    "\n",
    "model.eval()\n",
    "with torch.no_grad():\n",
    "    correct = 0\n",
    "    total = 0\n",
    "    for data, labels in test:\n",
    "        outputs = model(data)\n",
    "        _, predicted = torch.max(outputs.data, 1)\n",
    "        total += labels.size(0)\n",
    "        correct += (predicted == labels).sum().item()\n",
    "\n",
    "        y_pred.extend(predicted.cpu().numpy())\n",
    "        y_true.extend(labels.data.cpu().numpy())\n",
    "        del data, labels, outputs\n",
    "    \n",
    "    print(f\"Test Accuracy of mmFace: {100*correct/total:.4f}%\")"
   ]
  },
  {
   "cell_type": "code",
   "execution_count": 9,
   "metadata": {},
   "outputs": [
    {
     "data": {
      "image/png": "[encoded data removed]",
      "text/plain": [
       "<Figure size 1200x360 with 2 Axes>"
      ]
     },
     "metadata": {},
     "output_type": "display_data"
    }
   ],
   "source": [
    "import matplotlib.pyplot as plt\n",
    "\n",
    "losses, train_acc, val_acc = load_history(f\"models/{model_name}\")\n",
    "\n",
    "fig, axs = plt.subplots(1, 2, figsize=(10, 3), dpi=120)\n",
    "\n",
    "axs[0].plot(range(len(train_acc)), train_acc)\n",
    "axs[0].plot(range(len(val_acc)), val_acc)\n",
    "axs[0].set_xlabel(\"Epoch\")\n",
    "axs[0].set_ylabel(\"Accuracy (%)\")\n",
    "\n",
    "axs[1].plot(range(len(losses)), losses)\n",
    "axs[1].set_xlabel(\"Epoch\")\n",
    "axs[1].set_ylabel(\"Loss\")\n",
    "\n",
    "axs[0].set_title(model_name)\n",
    "plt.show()"
   ]
  },
  {
   "cell_type": "code",
   "execution_count": 10,
   "metadata": {},
   "outputs": [
    {
     "data": {
      "text/plain": [
       "[Text(0.5, 25.722222222222214, 'Predictions'),\n",
       " Text(145.72222222222223, 0.5, 'Actual'),\n",
       " Text(0.5, 1.0, 'Precision Confusion Matrix')]"
      ]
     },
     "execution_count": 10,
     "metadata": {},
     "output_type": "execute_result"
    },
    {
     "data": {
      "image/png": "[encoded data removed]",
      "text/plain": [
       "<Figure size 1400x500 with 2 Axes>"
      ]
     },
     "metadata": {},
     "output_type": "display_data"
    }
   ],
   "source": [
    "from sklearn.metrics import confusion_matrix\n",
    "import seaborn as sn\n",
    "import pandas as pd\n",
    "import numpy as np\n",
    "import sys\n",
    "sys.path.insert(1, \"../../Soli/soli_realsense/\")\n",
    "from names import anon_names\n",
    "\n",
    "subjects = range(2)\n",
    "# subject_names = np.array(anon_names)[subjects]\n",
    "\n",
    "# Build confusion matrix\n",
    "cf_matrix = confusion_matrix(y_true, y_pred)\n",
    "df_cm = pd.DataFrame(cf_matrix / np.sum(cf_matrix, axis=1)[:, None], index=subjects, columns=subjects)\n",
    "plt.figure(figsize = (14, 5))\n",
    "heatmap = sn.heatmap(df_cm, annot=True)\n",
    "heatmap.set(xlabel =\"Predictions\", ylabel = \"Actual\", title ='Precision Confusion Matrix')"
   ]
  }
 ],
 "metadata": {
  "kernelspec": {
   "display_name": "3dfr",
   "language": "python",
   "name": "python3"
  },
  "language_info": {
   "codemirror_mode": {
    "name": "ipython",
    "version": 3
   },
   "file_extension": ".py",
   "mimetype": "text/x-python",
   "name": "python",
   "nbconvert_exporter": "python",
   "pygments_lexer": "ipython3",
   "version": "3.9.2"
  }
 },
 "nbformat": 4,
 "nbformat_minor": 2
}
