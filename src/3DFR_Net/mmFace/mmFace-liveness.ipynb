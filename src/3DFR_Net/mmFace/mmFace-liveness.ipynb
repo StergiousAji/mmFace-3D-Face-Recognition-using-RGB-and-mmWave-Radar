{
 "cells": [
  {
   "cell_type": "markdown",
   "metadata": {},
   "source": [
    "# mmFace Liveness Classification\n",
    "## Dataset Building and Loading"
   ]
  },
  {
   "cell_type": "code",
   "execution_count": 1,
   "metadata": {},
   "outputs": [
    {
     "name": "stdout",
     "output_type": "stream",
     "text": [
      "cuda\n",
      "(3465, 3, 32, 16) (3654, 3, 32, 16)\n",
      "(630, 3, 32, 16) (504, 3, 32, 16)\n",
      "(630, 3, 32, 16) (504, 3, 32, 16)\n",
      "\n",
      "Train: torch.Size([7119, 3, 32, 16])\n",
      "Validation: torch.Size([1134, 3, 32, 16])\n",
      "Test: torch.Size([1134, 3, 32, 16])\n",
      "Allocated: 0.05 GB\n"
     ]
    }
   ],
   "source": [
    "from torch.utils.data import DataLoader\n",
    "from torch.utils.data.sampler import SubsetRandomSampler\n",
    "from utils import by_experiment, get_crd_data\n",
    "from dataset_builder import GenericDataset\n",
    "from glob import glob\n",
    "from tqdm import tqdm\n",
    "import torch\n",
    "import json\n",
    "import os\n",
    "import numpy as np\n",
    "\n",
    "device = torch.device('cuda' if torch.cuda.is_available() else 'cpu')\n",
    "print(device)\n",
    "\n",
    "def auxillary_build(data_path, subjects, train, val, test, train_split, test_split, num_frames, real=True):\n",
    "    val_split_end = train_split + test_split\n",
    "    for i, subject in enumerate(tqdm(subjects)):\n",
    "        radar_paths = sorted(glob(rf\"{data_path}\\{subject}\\*_radar.json\"), key=by_experiment)\n",
    "        for rp in radar_paths:\n",
    "            with open(rp, 'r') as f:\n",
    "                exp_ard = np.abs(get_crd_data(json.load(f), num_chirps_per_burst=16))[:num_frames].astype(np.float32)\n",
    "                shuffled = np.random.permutation(len(exp_ard))\n",
    "                exp_ard = exp_ard[shuffled]\n",
    "                \n",
    "                # Take 15 frames per experiment to evenly distribute 225 total frames per paper subject\n",
    "                n = 15 if real else len(exp_ard)\n",
    "                if len(train) <= i:\n",
    "                    train.append([exp_ard[:int(n*train_split)]])\n",
    "                    val.append([exp_ard[int(n*train_split):int(n*val_split_end)]])\n",
    "                    test.append([exp_ard[int(n*val_split_end):n]])\n",
    "                else:\n",
    "                    train[i].append(exp_ard[:int(n*train_split)])\n",
    "                    val[i].append(exp_ard[int(n*train_split):int(n*val_split_end)])\n",
    "                    test[i].append(exp_ard[int(n*val_split_end):n])\n",
    "        \n",
    "        train[i] = np.concatenate(train[i])\n",
    "        val[i] = np.concatenate(val[i])\n",
    "        test[i] = np.concatenate(test[i])\n",
    "\n",
    "# Defaults to convenient even splits according to final dataset sizes\n",
    "def build_dataset_liveness(data_path, subjects, fake_subjects, train_split=22/28, test_split=3/28, seed=42):\n",
    "    np.random.seed(seed)\n",
    "\n",
    "    train, val, test = [], [], []\n",
    "    train_fake, val_fake, test_fake = [], [], []\n",
    "\n",
    "    # Take 15 frames per experiment to evenly distribute 225 total frames per paper subject\n",
    "    # REAL DATASET\n",
    "    auxillary_build(data_path, subjects, train, val, test, train_split, test_split, 250)\n",
    "    # FAKE DATASET\n",
    "    auxillary_build(data_path, fake_subjects, train_fake, val_fake, test_fake, train_split, test_split, 74, real=False)\n",
    "\n",
    "    np.save(f\"data/liveness{len(subjects)}/real_train.npy\", np.array(train))\n",
    "    np.save(f\"data/liveness{len(subjects)}/fake_train.npy\", np.array(train_fake))\n",
    "    np.save(f\"data/liveness{len(subjects)}/real_val.npy\", np.array(val))\n",
    "    np.save(f\"data/liveness{len(subjects)}/fake_val.npy\", np.array(val_fake))\n",
    "    np.save(f\"data/liveness{len(subjects)}/real_test.npy\", np.array(test))\n",
    "    np.save(f\"data/liveness{len(subjects)}/fake_test.npy\", np.array(test_fake))\n",
    "\n",
    "\n",
    "def load_dataset_liveness(data_path, subjects, batch_size=64, device=\"cuda\", seed=333):\n",
    "    if not os.path.exists(f\"data/liveness{len(subjects)}/real_train.npy\"):\n",
    "        build_dataset_liveness(data_path, range(21), [f\"9{s}\" for s in range(21)])\n",
    "    \n",
    "    train = np.concatenate(np.load(f\"data/liveness{len(subjects)}/real_train.npy\"))\n",
    "    train_fake = np.concatenate(np.load(f\"data/liveness{len(subjects)}/fake_train.npy\"))\n",
    "    val = np.concatenate(np.load(f\"data/liveness{len(subjects)}/real_val.npy\"))\n",
    "    val_fake = np.concatenate(np.load(f\"data/liveness{len(subjects)}/fake_val.npy\"))\n",
    "    test = np.concatenate(np.load(f\"data/liveness{len(subjects)}/real_test.npy\"))\n",
    "    test_fake = np.concatenate(np.load(f\"data/liveness{len(subjects)}/fake_test.npy\"))\n",
    "\n",
    "    train_labels = torch.tensor([0]*len(train) + [1]*len(train_fake), device=device, dtype=torch.int64)\n",
    "    val_labels = torch.tensor([0]*len(val) + [1]*len(val_fake), device=device, dtype=torch.int64)\n",
    "    test_labels = torch.tensor([0]*len(test) + [1]*len(test_fake), device=device, dtype=torch.int64)\n",
    "\n",
    "    print(train.shape, train_fake.shape)\n",
    "    print(val.shape, val_fake.shape)\n",
    "    print(test.shape, test_fake.shape)\n",
    "    print()\n",
    "\n",
    "    train = torch.tensor(np.concatenate((train, train_fake)), device=device)\n",
    "    val = torch.tensor(np.concatenate((val, val_fake)), device=device)\n",
    "    test = torch.tensor(np.concatenate((test, test_fake)), device=device)\n",
    "\n",
    "    print(f\"Train: {train.shape}\")\n",
    "    print(f\"Validation: {val.shape}\")\n",
    "    print(f\"Test: {test.shape}\")\n",
    "    print(f\"Allocated: {torch.cuda.memory_allocated(0)/1024**3:.2f} GB\")\n",
    "\n",
    "    train_dataset = GenericDataset(train, train_labels, \"train\")\n",
    "    val_dataset = GenericDataset(val, val_labels, \"validation\")\n",
    "    test_dataset = GenericDataset(test, test_labels, \"test\")\n",
    "\n",
    "    np.random.seed(seed)\n",
    "    train_loader = DataLoader(train_dataset, batch_size, sampler=SubsetRandomSampler(np.random.permutation(len(train_dataset))))\n",
    "    val_loader = DataLoader(val_dataset, batch_size, sampler=SubsetRandomSampler(np.random.permutation(len(val_dataset))))\n",
    "    test_loader = DataLoader(test_dataset, batch_size, sampler=SubsetRandomSampler(np.random.permutation(len(test_dataset))))\n",
    "\n",
    "    return train_loader, val_loader, test_loader\n",
    "\n",
    "\n",
    "\n",
    "DATA_PATH = os.path.relpath(\"../../Soli/soli_realsense/data\")\n",
    "num_subjects = 21\n",
    "\n",
    "torch.cuda.empty_cache()\n",
    "train, validation, test = load_dataset_liveness(DATA_PATH, range(num_subjects), batch_size=128)"
   ]
  },
  {
   "cell_type": "markdown",
   "metadata": {},
   "source": [
    "## Model Creation and Loading"
   ]
  },
  {
   "cell_type": "code",
   "execution_count": 37,
   "metadata": {},
   "outputs": [
    {
     "name": "stdout",
     "output_type": "stream",
     "text": [
      "mmFace-liveness-99.7.pt\n",
      "\tEpoch: 50\n",
      "\tLoss: 0.0125\n",
      "\tTrain Accuracy: 99.7612\n",
      "\tValidation Accuracy: 99.7354\n"
     ]
    }
   ],
   "source": [
    "from neural_nets import MMFace\n",
    "from utils import load_model, load_history\n",
    "from torch import nn\n",
    "\n",
    "num_epochs = 150\n",
    "learning_rate = 0.01\n",
    "\n",
    "model = MMFace(2).to(device)\n",
    "\n",
    "# Loss + Optimiser\n",
    "criterion = nn.CrossEntropyLoss()\n",
    "optimiser = torch.optim.SGD(model.parameters(), lr=learning_rate, weight_decay=0.001, momentum=0.9)\n",
    "\n",
    "model_name = f\"mmFace-liveness-99.7.pt\"\n",
    "cur_epoch, loss_history, train_acc, val_acc = load_model(model_name, model, optimiser)\n",
    "\n",
    "if len(loss_history) > 0:\n",
    "    print(f\"{model_name}\\n\\tEpoch: {cur_epoch}\\n\\tLoss: {loss_history[-1]:.4f}\\n\\tTrain Accuracy: {train_acc[-1]:.4f}\\n\\tValidation Accuracy: {val_acc[-1]:.4f}\")"
   ]
  },
  {
   "cell_type": "markdown",
   "metadata": {},
   "source": [
    "## Training"
   ]
  },
  {
   "cell_type": "code",
   "execution_count": 38,
   "metadata": {},
   "outputs": [
    {
     "name": "stdout",
     "output_type": "stream",
     "text": [
      "\n",
      "Epoch [50/149]:\n"
     ]
    },
    {
     "name": "stderr",
     "output_type": "stream",
     "text": [
      "100%|██████████| 56/56 [00:01<00:00, 51.49it/s]\n"
     ]
    },
    {
     "name": "stdout",
     "output_type": "stream",
     "text": [
      "\tAverage Train Loss: 0.0127\n",
      "\tTrain Accuracy: 99.6769%\n",
      "\tValidation Accuracy: 99.8236%\n",
      "\n",
      "Epoch [51/149]:\n"
     ]
    },
    {
     "name": "stderr",
     "output_type": "stream",
     "text": [
      "100%|██████████| 56/56 [00:00<00:00, 60.12it/s]\n"
     ]
    },
    {
     "name": "stdout",
     "output_type": "stream",
     "text": [
      "\tAverage Train Loss: 0.0129\n",
      "\tTrain Accuracy: 99.7050%\n",
      "\tValidation Accuracy: 99.8236%\n",
      "\n",
      "Epoch [52/149]:\n"
     ]
    },
    {
     "name": "stderr",
     "output_type": "stream",
     "text": [
      "100%|██████████| 56/56 [00:00<00:00, 60.79it/s]\n"
     ]
    },
    {
     "name": "stdout",
     "output_type": "stream",
     "text": [
      "\tAverage Train Loss: 0.0122\n",
      "\tTrain Accuracy: 99.6910%\n",
      "\tValidation Accuracy: 99.7354%\n",
      "\n",
      "Epoch [53/149]:\n"
     ]
    },
    {
     "name": "stderr",
     "output_type": "stream",
     "text": [
      "100%|██████████| 56/56 [00:00<00:00, 59.87it/s]\n"
     ]
    },
    {
     "name": "stdout",
     "output_type": "stream",
     "text": [
      "\tAverage Train Loss: 0.0119\n",
      "\tTrain Accuracy: 99.7331%\n",
      "\tValidation Accuracy: 99.8236%\n",
      "\n",
      "Epoch [54/149]:\n"
     ]
    },
    {
     "name": "stderr",
     "output_type": "stream",
     "text": [
      "100%|██████████| 56/56 [00:00<00:00, 59.44it/s]\n"
     ]
    },
    {
     "name": "stdout",
     "output_type": "stream",
     "text": [
      "\tAverage Train Loss: 0.0127\n",
      "\tTrain Accuracy: 99.7191%\n",
      "\tValidation Accuracy: 99.7354%\n",
      "\n",
      "Epoch [55/149]:\n"
     ]
    },
    {
     "name": "stderr",
     "output_type": "stream",
     "text": [
      "100%|██████████| 56/56 [00:00<00:00, 61.36it/s]\n"
     ]
    },
    {
     "name": "stdout",
     "output_type": "stream",
     "text": [
      "\tAverage Train Loss: 0.0119\n",
      "\tTrain Accuracy: 99.7331%\n",
      "\tValidation Accuracy: 99.8236%\n",
      "\n",
      "Epoch [56/149]:\n"
     ]
    },
    {
     "name": "stderr",
     "output_type": "stream",
     "text": [
      "100%|██████████| 56/56 [00:00<00:00, 60.79it/s]\n"
     ]
    },
    {
     "name": "stdout",
     "output_type": "stream",
     "text": [
      "\tAverage Train Loss: 0.0114\n",
      "\tTrain Accuracy: 99.7050%\n",
      "\tValidation Accuracy: 99.8236%\n",
      "\n",
      "Epoch [57/149]:\n"
     ]
    },
    {
     "name": "stderr",
     "output_type": "stream",
     "text": [
      "100%|██████████| 56/56 [00:00<00:00, 60.97it/s]\n"
     ]
    },
    {
     "name": "stdout",
     "output_type": "stream",
     "text": [
      "\tAverage Train Loss: 0.0121\n",
      "\tTrain Accuracy: 99.7331%\n",
      "\tValidation Accuracy: 99.8236%\n",
      "\n",
      "Epoch [58/149]:\n"
     ]
    },
    {
     "name": "stderr",
     "output_type": "stream",
     "text": [
      "100%|██████████| 56/56 [00:00<00:00, 56.18it/s]\n"
     ]
    },
    {
     "name": "stdout",
     "output_type": "stream",
     "text": [
      "\tAverage Train Loss: 0.0118\n",
      "\tTrain Accuracy: 99.7050%\n",
      "\tValidation Accuracy: 99.8236%\n",
      "\n",
      "Epoch [59/149]:\n"
     ]
    },
    {
     "name": "stderr",
     "output_type": "stream",
     "text": [
      "100%|██████████| 56/56 [00:01<00:00, 54.42it/s]\n"
     ]
    },
    {
     "name": "stdout",
     "output_type": "stream",
     "text": [
      "\tAverage Train Loss: 0.0126\n",
      "\tTrain Accuracy: 99.6769%\n",
      "\tValidation Accuracy: 99.7354%\n",
      "\n",
      "Epoch [60/149]:\n"
     ]
    },
    {
     "name": "stderr",
     "output_type": "stream",
     "text": [
      "100%|██████████| 56/56 [00:00<00:00, 60.59it/s]\n"
     ]
    },
    {
     "name": "stdout",
     "output_type": "stream",
     "text": [
      "\tAverage Train Loss: 0.0123\n",
      "\tTrain Accuracy: 99.6769%\n",
      "\tValidation Accuracy: 99.5591%\n",
      "\n",
      "Epoch [61/149]:\n"
     ]
    },
    {
     "name": "stderr",
     "output_type": "stream",
     "text": [
      "100%|██████████| 56/56 [00:00<00:00, 60.03it/s]\n"
     ]
    },
    {
     "name": "stdout",
     "output_type": "stream",
     "text": [
      "\tAverage Train Loss: 0.0108\n",
      "\tTrain Accuracy: 99.7472%\n",
      "\tValidation Accuracy: 99.8236%\n",
      "\n",
      "Epoch [62/149]:\n"
     ]
    },
    {
     "name": "stderr",
     "output_type": "stream",
     "text": [
      "100%|██████████| 56/56 [00:00<00:00, 59.36it/s]\n"
     ]
    },
    {
     "name": "stdout",
     "output_type": "stream",
     "text": [
      "\tAverage Train Loss: 0.0126\n",
      "\tTrain Accuracy: 99.7191%\n",
      "\tValidation Accuracy: 99.8236%\n",
      "\n",
      "Epoch [63/149]:\n"
     ]
    },
    {
     "name": "stderr",
     "output_type": "stream",
     "text": [
      "100%|██████████| 56/56 [00:01<00:00, 54.38it/s]\n"
     ]
    },
    {
     "name": "stdout",
     "output_type": "stream",
     "text": [
      "\tAverage Train Loss: 0.0133\n",
      "\tTrain Accuracy: 99.6910%\n",
      "\tValidation Accuracy: 99.8236%\n",
      "\n",
      "Epoch [64/149]:\n"
     ]
    },
    {
     "name": "stderr",
     "output_type": "stream",
     "text": [
      "100%|██████████| 56/56 [00:00<00:00, 60.91it/s]\n"
     ]
    },
    {
     "name": "stdout",
     "output_type": "stream",
     "text": [
      "\tAverage Train Loss: 0.0111\n",
      "\tTrain Accuracy: 99.7191%\n",
      "\tValidation Accuracy: 99.8236%\n",
      "\n",
      "Epoch [65/149]:\n"
     ]
    },
    {
     "name": "stderr",
     "output_type": "stream",
     "text": [
      "100%|██████████| 56/56 [00:00<00:00, 60.43it/s]\n"
     ]
    },
    {
     "name": "stdout",
     "output_type": "stream",
     "text": [
      "\tAverage Train Loss: 0.0108\n",
      "\tTrain Accuracy: 99.7612%\n",
      "\tValidation Accuracy: 99.8236%\n",
      "\n",
      "Epoch [66/149]:\n"
     ]
    },
    {
     "name": "stderr",
     "output_type": "stream",
     "text": [
      "100%|██████████| 56/56 [00:00<00:00, 60.80it/s]\n"
     ]
    },
    {
     "name": "stdout",
     "output_type": "stream",
     "text": [
      "\tAverage Train Loss: 0.0119\n",
      "\tTrain Accuracy: 99.6910%\n",
      "\tValidation Accuracy: 99.8236%\n",
      "\n",
      "Epoch [67/149]:\n"
     ]
    },
    {
     "name": "stderr",
     "output_type": "stream",
     "text": [
      "100%|██████████| 56/56 [00:00<00:00, 60.55it/s]\n"
     ]
    },
    {
     "name": "stdout",
     "output_type": "stream",
     "text": [
      "\tAverage Train Loss: 0.0117\n",
      "\tTrain Accuracy: 99.7191%\n",
      "\tValidation Accuracy: 99.7354%\n",
      "\n",
      "Epoch [68/149]:\n"
     ]
    },
    {
     "name": "stderr",
     "output_type": "stream",
     "text": [
      "100%|██████████| 56/56 [00:00<00:00, 58.02it/s]\n"
     ]
    },
    {
     "name": "stdout",
     "output_type": "stream",
     "text": [
      "\tAverage Train Loss: 0.0117\n",
      "\tTrain Accuracy: 99.7050%\n",
      "\tValidation Accuracy: 99.7354%\n",
      "\n",
      "Epoch [69/149]:\n"
     ]
    },
    {
     "name": "stderr",
     "output_type": "stream",
     "text": [
      "100%|██████████| 56/56 [00:00<00:00, 60.75it/s]\n"
     ]
    },
    {
     "name": "stdout",
     "output_type": "stream",
     "text": [
      "\tAverage Train Loss: 0.0134\n",
      "\tTrain Accuracy: 99.7050%\n",
      "\tValidation Accuracy: 99.8236%\n",
      "\n",
      "Epoch [70/149]:\n"
     ]
    },
    {
     "name": "stderr",
     "output_type": "stream",
     "text": [
      "100%|██████████| 56/56 [00:00<00:00, 61.25it/s]\n"
     ]
    },
    {
     "name": "stdout",
     "output_type": "stream",
     "text": [
      "\tAverage Train Loss: 0.0112\n",
      "\tTrain Accuracy: 99.7472%\n",
      "\tValidation Accuracy: 99.7354%\n",
      "\n",
      "Epoch [71/149]:\n"
     ]
    },
    {
     "name": "stderr",
     "output_type": "stream",
     "text": [
      "100%|██████████| 56/56 [00:00<00:00, 60.92it/s]\n"
     ]
    },
    {
     "name": "stdout",
     "output_type": "stream",
     "text": [
      "\tAverage Train Loss: 0.0101\n",
      "\tTrain Accuracy: 99.7612%\n",
      "\tValidation Accuracy: 99.8236%\n",
      "\n",
      "Epoch [72/149]:\n"
     ]
    },
    {
     "name": "stderr",
     "output_type": "stream",
     "text": [
      "100%|██████████| 56/56 [00:00<00:00, 61.07it/s]\n"
     ]
    },
    {
     "name": "stdout",
     "output_type": "stream",
     "text": [
      "\tAverage Train Loss: 0.0106\n",
      "\tTrain Accuracy: 99.7331%\n",
      "\tValidation Accuracy: 99.8236%\n",
      "\n",
      "Epoch [73/149]:\n"
     ]
    },
    {
     "name": "stderr",
     "output_type": "stream",
     "text": [
      "100%|██████████| 56/56 [00:00<00:00, 61.21it/s]\n"
     ]
    },
    {
     "name": "stdout",
     "output_type": "stream",
     "text": [
      "\tAverage Train Loss: 0.0104\n",
      "\tTrain Accuracy: 99.7331%\n",
      "\tValidation Accuracy: 99.8236%\n",
      "\n",
      "Epoch [74/149]:\n"
     ]
    },
    {
     "name": "stderr",
     "output_type": "stream",
     "text": [
      "100%|██████████| 56/56 [00:00<00:00, 59.65it/s]\n"
     ]
    },
    {
     "name": "stdout",
     "output_type": "stream",
     "text": [
      "\tAverage Train Loss: 0.0105\n",
      "\tTrain Accuracy: 99.7472%\n",
      "\tValidation Accuracy: 99.8236%\n",
      "\n",
      "Epoch [75/149]:\n"
     ]
    },
    {
     "name": "stderr",
     "output_type": "stream",
     "text": [
      "100%|██████████| 56/56 [00:00<00:00, 60.71it/s]\n"
     ]
    },
    {
     "name": "stdout",
     "output_type": "stream",
     "text": [
      "\tAverage Train Loss: 0.0097\n",
      "\tTrain Accuracy: 99.7331%\n",
      "\tValidation Accuracy: 99.8236%\n",
      "\n",
      "Epoch [76/149]:\n"
     ]
    },
    {
     "name": "stderr",
     "output_type": "stream",
     "text": [
      "100%|██████████| 56/56 [00:00<00:00, 60.98it/s]\n"
     ]
    },
    {
     "name": "stdout",
     "output_type": "stream",
     "text": [
      "\tAverage Train Loss: 0.0104\n",
      "\tTrain Accuracy: 99.7472%\n",
      "\tValidation Accuracy: 99.6473%\n",
      "\n",
      "Epoch [77/149]:\n"
     ]
    },
    {
     "name": "stderr",
     "output_type": "stream",
     "text": [
      "100%|██████████| 56/56 [00:00<00:00, 60.87it/s]\n"
     ]
    },
    {
     "name": "stdout",
     "output_type": "stream",
     "text": [
      "\tAverage Train Loss: 0.0101\n",
      "\tTrain Accuracy: 99.7331%\n",
      "\tValidation Accuracy: 99.8236%\n",
      "\n",
      "Epoch [78/149]:\n"
     ]
    },
    {
     "name": "stderr",
     "output_type": "stream",
     "text": [
      "100%|██████████| 56/56 [00:00<00:00, 61.34it/s]\n"
     ]
    },
    {
     "name": "stdout",
     "output_type": "stream",
     "text": [
      "\tAverage Train Loss: 0.0093\n",
      "\tTrain Accuracy: 99.7893%\n",
      "\tValidation Accuracy: 99.8236%\n",
      "\n",
      "Epoch [79/149]:\n"
     ]
    },
    {
     "name": "stderr",
     "output_type": "stream",
     "text": [
      "100%|██████████| 56/56 [00:00<00:00, 60.88it/s]\n"
     ]
    },
    {
     "name": "stdout",
     "output_type": "stream",
     "text": [
      "\tAverage Train Loss: 0.0099\n",
      "\tTrain Accuracy: 99.8033%\n",
      "\tValidation Accuracy: 99.8236%\n"
     ]
    }
   ],
   "source": [
    "for epoch in range(cur_epoch, num_epochs):\n",
    "    print(f\"\\nEpoch [{epoch}/{num_epochs-1}]:\")\n",
    "    if os.path.exists(f\"models/{model_name}\"):\n",
    "        loss_history, train_acc, val_acc = load_history(f\"models/{model_name}\")\n",
    "\n",
    "    model.train()\n",
    "    # Running Loss and Accuracy\n",
    "    running_loss, running_acc, total = 0., 0., 0.\n",
    "\n",
    "    for data, labels in tqdm(train):\n",
    "        # Forward Pass\n",
    "        outputs = model(data)\n",
    "        _, predicted = torch.max(outputs.data, 1)\n",
    "        loss = criterion(outputs, labels)\n",
    "\n",
    "        # Backward Pass and Optimise\n",
    "        optimiser.zero_grad()\n",
    "        loss.backward()\n",
    "        optimiser.step()\n",
    "\n",
    "        running_loss += loss.item()\n",
    "        total += labels.size(0)\n",
    "        running_acc += (predicted == labels).sum().item()\n",
    "\n",
    "        del data, labels, outputs\n",
    "        torch.cuda.empty_cache()\n",
    "    \n",
    "    avg_train_loss = running_loss/len(train)\n",
    "    avg_train_acc = 100*running_acc/total\n",
    "    print(f\"\\tAverage Train Loss: {avg_train_loss:.4f}\")\n",
    "    print(f\"\\tTrain Accuracy: {avg_train_acc:.4f}%\")\n",
    "\n",
    "    torch.save({\"epoch\": epoch+1,\n",
    "                \"model_state_dict\": model.state_dict(),\n",
    "                \"optimiser_state_dict\": optimiser.state_dict(),\n",
    "                \"loss_history\": loss_history + [avg_train_loss],\n",
    "                \"train_acc\": train_acc + [avg_train_acc],\n",
    "                \"val_acc\": val_acc},\n",
    "                f\"models/{model_name}\")\n",
    "    \n",
    "    # Validation\n",
    "    model.eval()\n",
    "    with torch.no_grad():\n",
    "        correct = 0\n",
    "        total = 0\n",
    "        for data, labels in validation:\n",
    "            outputs = model(data)\n",
    "            _, predicted = torch.max(outputs.data, 1)\n",
    "            total += labels.size(0)\n",
    "            correct += (predicted == labels).sum().item()\n",
    "            del data, labels, outputs\n",
    "        \n",
    "        avg_val_acc = 100*correct/total\n",
    "        print(f\"\\tValidation Accuracy: {avg_val_acc:.4f}%\")\n",
    "\n",
    "    model_checkpoint = torch.load(f\"models/{model_name}\")\n",
    "    model_checkpoint[\"val_acc\"].append(avg_val_acc)\n",
    "    torch.save(model_checkpoint, f\"models/{model_name}\")\n",
    "\n",
    "    # Stop if overfitting\n",
    "    if avg_train_acc > 99.8:\n",
    "        break"
   ]
  },
  {
   "cell_type": "markdown",
   "metadata": {},
   "source": [
    "## Testing"
   ]
  },
  {
   "cell_type": "code",
   "execution_count": 39,
   "metadata": {},
   "outputs": [
    {
     "name": "stdout",
     "output_type": "stream",
     "text": [
      "Test Accuracy of mmFace: 99.6473%\n"
     ]
    }
   ],
   "source": [
    "y_pred = []\n",
    "y_true = []\n",
    "\n",
    "model.eval()\n",
    "with torch.no_grad():\n",
    "    correct = 0\n",
    "    total = 0\n",
    "    for data, labels in test:\n",
    "        outputs = model(data)\n",
    "        _, predicted = torch.max(outputs.data, 1)\n",
    "        total += labels.size(0)\n",
    "        correct += (predicted == labels).sum().item()\n",
    "\n",
    "        y_pred.extend(predicted.cpu().numpy())\n",
    "        y_true.extend(labels.data.cpu().numpy())\n",
    "        del data, labels, outputs\n",
    "    \n",
    "    print(f\"Test Accuracy of mmFace: {100*correct/total:.4f}%\")"
   ]
  },
  {
   "cell_type": "code",
   "execution_count": 40,
   "metadata": {},
   "outputs": [
    {
     "data": {
      "image/png": "[encoded data removed]",
      "text/plain": [
       "<Figure size 1200x360 with 2 Axes>"
      ]
     },
     "metadata": {},
     "output_type": "display_data"
    }
   ],
   "source": [
    "import matplotlib.pyplot as plt\n",
    "\n",
    "losses, train_acc, val_acc = load_history(f\"models/{model_name}\")\n",
    "\n",
    "fig, axs = plt.subplots(1, 2, figsize=(10, 3), dpi=120)\n",
    "\n",
    "axs[0].plot(range(len(train_acc)), train_acc)\n",
    "axs[0].plot(range(len(val_acc)), val_acc)\n",
    "axs[0].set_xlabel(\"Epoch\")\n",
    "axs[0].set_ylabel(\"Accuracy (%)\")\n",
    "\n",
    "axs[1].plot(range(len(losses)), losses)\n",
    "axs[1].set_xlabel(\"Epoch\")\n",
    "axs[1].set_ylabel(\"Loss\")\n",
    "\n",
    "axs[0].set_title(model_name)\n",
    "plt.show()"
   ]
  },
  {
   "cell_type": "code",
   "execution_count": 41,
   "metadata": {},
   "outputs": [
    {
     "data": {
      "text/plain": [
       "[Text(0.5, 25.722222222222214, 'Predictions'),\n",
       " Text(145.72222222222223, 0.5, 'Actual'),\n",
       " Text(0.5, 1.0, 'Precision Confusion Matrix')]"
      ]
     },
     "execution_count": 41,
     "metadata": {},
     "output_type": "execute_result"
    },
    {
     "data": {
      "image/png": "[encoded data removed]",
      "text/plain": [
       "<Figure size 1400x500 with 2 Axes>"
      ]
     },
     "metadata": {},
     "output_type": "display_data"
    }
   ],
   "source": [
    "from sklearn.metrics import confusion_matrix\n",
    "import seaborn as sn\n",
    "import pandas as pd\n",
    "import sys\n",
    "\n",
    "# Build confusion matrix\n",
    "cf_matrix = confusion_matrix(y_true, y_pred)\n",
    "df_cm = pd.DataFrame(cf_matrix / np.sum(cf_matrix, axis=1)[:, None], index=[\"Real\", \"Fake\"], columns=[\"Real\", \"Fake\"])\n",
    "plt.figure(figsize = (14, 5))\n",
    "heatmap = sn.heatmap(df_cm, annot=True)\n",
    "heatmap.set(xlabel =\"Predictions\", ylabel = \"Actual\", title ='Precision Confusion Matrix')"
   ]
  }
 ],
 "metadata": {
  "kernelspec": {
   "display_name": "3dfr",
   "language": "python",
   "name": "python3"
  },
  "language_info": {
   "codemirror_mode": {
    "name": "ipython",
    "version": 3
   },
   "file_extension": ".py",
   "mimetype": "text/x-python",
   "name": "python",
   "nbconvert_exporter": "python",
   "pygments_lexer": "ipython3",
   "version": "3.9.2"
  }
 },
 "nbformat": 4,
 "nbformat_minor": 2
}
