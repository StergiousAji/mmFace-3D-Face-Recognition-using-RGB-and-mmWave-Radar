{
 "cells": [
  {
   "cell_type": "code",
   "execution_count": null,
   "metadata": {},
   "outputs": [],
   "source": [
    "import insightface\n",
    "from insightface.app.common import Face\n",
    "from insightface.model_zoo import model_zoo\n",
    "from neural_nets import MMFaceFE, MMFaceClassifier, insightface_model, InsightFaceClassifier\n",
    "# REQUIRED FOR CUDA TO BE USED\n",
    "import torch\n",
    "\n",
    "def recognise(rgb_input, radar_input, device=\"cuda\"):\n",
    "    det_model = model_zoo.get_model(\"../models/buffalo_l/det_10g.onnx\")\n",
    "    det_model.prepare(ctx_id=0, input_size=(480, 640), det_thres=0.5)\n",
    "    rec_model = model_zoo.get_model(\"../models/buffalo_l/w600k_r50.onnx\")\n",
    "\n",
    "    mmface_model = MMFaceFE().to(device)\n",
    "    mmface_model.eval()\n",
    "\n",
    "    with torch.no_grad():\n",
    "        rgb_emb = insightface_model(rgb_input[..., ::-1], det_model, Face, rec_model)\n",
    "        radar_emb = mmface_model(radar_input)\n",
    "    \n",
    "    return rgb_emb, radar_emb\n",
    "\n",
    "\n",
    "def classify(rgb_emb, radar_emb, num_subjects=21, device=\"cuda\"):\n",
    "    insightface_classifier = InsightFaceClassifier(num_subjects).to(device)\n",
    "    insightface_classifier.eval()\n",
    "\n",
    "    mmface_classifier = MMFaceClassifier().to(device)\n",
    "    mmface_classifier.eval()\n",
    "\n",
    "    with torch.no_grad():\n",
    "        subject = insightface_classifier(rgb_emb)\n",
    "        liveness = mmface_classifier(radar_emb)\n",
    "    \n",
    "    return subject, liveness"
   ]
  }
 ],
 "metadata": {
  "kernelspec": {
   "display_name": "3dfr",
   "language": "python",
   "name": "python3"
  },
  "language_info": {
   "name": "python",
   "version": "3.9.2"
  }
 },
 "nbformat": 4,
 "nbformat_minor": 2
}
