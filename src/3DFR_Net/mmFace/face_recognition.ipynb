{
 "cells": [
  {
   "cell_type": "code",
   "execution_count": null,
   "metadata": {},
   "outputs": [],
   "source": [
    "import insightface\n",
    "from insightface.app.common import Face\n",
    "from insightface.model_zoo import model_zoo\n",
    "from neural_nets import MMFace, insightface_model, InsightFaceClassifier, IntermediateFusionClassifier\n",
    "from utils import load_model\n",
    "import numpy as np\n",
    "# REQUIRED FOR CUDA TO BE USED\n",
    "import torch\n",
    "\n",
    "device = torch.device(\"cuda\" if torch.cuda.is_available() else \"cpu\")\n",
    "num_subjects = 21\n",
    "\n",
    "det_model = model_zoo.get_model(\"../models/buffalo_l/det_10g.onnx\")\n",
    "det_model.prepare(ctx_id=0, input_size=(480, 640), det_thres=0.5)\n",
    "rec_model = model_zoo.get_model(\"../models/buffalo_l/w600k_r50.onnx\")\n",
    "\n",
    "mmface_model = MMFace(2).to(device)\n",
    "mmface_model.load_state_dict(torch.load(f\"models/mmFace-liveness-99.6.pt\")[\"model_state_dict\"])\n",
    "mmface_model.eval()\n",
    "# TODO: MAKE READY FOR FEATURE EXTRACTION LAST LAYER\n",
    "\n",
    "insightface_classifier = InsightFaceClassifier(num_subjects).to(device)\n",
    "insightface_classifier.load_state_dict(torch.load(\"models/insightface_classifier.pt\")[\"model_state_dict\"])\n",
    "insightface_classifier.eval()\n",
    "\n",
    "# TODO: TRAIN (ONCE PAPER DATASET COLLECTED)\n",
    "insightface_classifier_liveness = InsightFaceClassifier(2).to(device)\n",
    "insightface_classifier_liveness.eval()\n",
    "#\n",
    "# mmface_classifier_liveness = MMFaceClassifier_Liveness().to(device)\n",
    "# mmface_classifier_liveness.load_state_dict(torch.load(\"models/mmFace-21_classifier.pt\")[\"model_state_dict\"])\n",
    "# mmface_classifier_liveness.eval()\n",
    "\n",
    "# TODO: NEED DATASET FOR THIS\n",
    "intermediate_fusion_clf = IntermediateFusionClassifier(512*2, num_subjects).to(device)\n",
    "\n",
    "# TODO: LOOP THROUGH DATASET IN ORDER AND RECOGNISE AND CLASSIFY FOR EVALUATION (LOAD DATA FOR EACH SUBJECT)\n",
    "def recognise(rgb_input, radar_input):\n",
    "    with torch.no_grad():\n",
    "        rgb_emb = insightface_model(rgb_input[..., ::-1], det_model, Face, rec_model)\n",
    "        # TODO: EXTRACT EMBEDDING FROM MODEL.FC2\n",
    "        radar_emb = mmface_model(radar_input)\n",
    "    \n",
    "    return rgb_emb, radar_emb\n",
    "\n",
    "def classify_no_radar(rgb_emb):\n",
    "    with torch.no_grad():\n",
    "        subject = insightface_classifier(rgb_emb)\n",
    "        liveness = insightface_classifier_liveness(rgb_emb)\n",
    "\n",
    "    return subject, liveness\n",
    "\n",
    "def classify(rgb_emb, radar_emb):\n",
    "    with torch.no_grad():\n",
    "        subject = insightface_classifier(rgb_emb)\n",
    "        liveness = mmface_classifier_liveness(radar_emb)\n",
    "    \n",
    "    return subject, liveness"
   ]
  },
  {
   "cell_type": "code",
   "execution_count": 31,
   "metadata": {},
   "outputs": [],
   "source": [
    "import matplotlib.pyplot as plt\n",
    "\n",
    "DATA_PATH = \"../../Soli/soli_realsense/data\"\n",
    "\n",
    "def load_rgb(subject, experiment):\n",
    "    return np.load(f\"{DATA_PATH}/{subject}/{subject}-{experiment}_colour.npy\").astype(np.float32)\n",
    "\n",
    "# Rewrite to take embedding from files\n",
    "def recognise_rgb(rgb_input):\n",
    "    return insightface_model(rgb_input[..., ::-1], det_model, Face, rec_model)\n",
    "\n",
    "x = recognise_rgb(load_rgb(0, 0)[0])\n",
    "y = recognise_rgb(load_rgb(90, 10)[0])"
   ]
  },
  {
   "cell_type": "code",
   "execution_count": 32,
   "metadata": {},
   "outputs": [
    {
     "name": "stdout",
     "output_type": "stream",
     "text": [
      "0.593906819820404 0.0\n"
     ]
    }
   ],
   "source": [
    "score_good = np.clip(np.dot(x, y.T), 0., 1.)\n",
    "# score_bad = np.clip(np.dot(fake_0, real_1.T), 0., 1.)\n",
    "\n",
    "print(score_good, score_bad)"
   ]
  }
 ],
 "metadata": {
  "kernelspec": {
   "display_name": "3dfr",
   "language": "python",
   "name": "python3"
  },
  "language_info": {
   "codemirror_mode": {
    "name": "ipython",
    "version": 3
   },
   "file_extension": ".py",
   "mimetype": "text/x-python",
   "name": "python",
   "nbconvert_exporter": "python",
   "pygments_lexer": "ipython3",
   "version": "3.9.2"
  }
 },
 "nbformat": 4,
 "nbformat_minor": 2
}
