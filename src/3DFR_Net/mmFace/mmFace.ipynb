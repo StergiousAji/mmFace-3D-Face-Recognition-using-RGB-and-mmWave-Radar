{
 "cells": [
  {
   "cell_type": "markdown",
   "metadata": {},
   "source": [
    "# ResNet-Based mmFace"
   ]
  },
  {
   "cell_type": "code",
   "execution_count": 1,
   "metadata": {},
   "outputs": [
    {
     "name": "stdout",
     "output_type": "stream",
     "text": [
      "cuda\n"
     ]
    }
   ],
   "source": [
    "import torch\n",
    "import torch.nn as nn\n",
    "# from torchvision.models import resnet18, ResNet18_Weights\n",
    "from torchvision.models import resnet50, ResNet50_Weights\n",
    "from tqdm import tqdm\n",
    "\n",
    "device = torch.device('cuda' if torch.cuda.is_available() else 'cpu')\n",
    "print(device)\n",
    "\n",
    "class ResidualBlock(nn.Module):\n",
    "    def __init__(self, in_channels, out_channels, stride=1, downsample=None):\n",
    "        super(ResidualBlock, self).__init__()\n",
    "        self.conv1 = nn.Sequential(\n",
    "            nn.Conv2d(in_channels, out_channels, kernel_size=3, stride=stride, padding=1),\n",
    "            nn.BatchNorm2d(out_channels),\n",
    "            nn.ReLU()\n",
    "        )\n",
    "        self.conv2 = nn.Sequential(\n",
    "            nn.Conv2d(out_channels, out_channels, kernel_size=3, stride=1, padding=1),\n",
    "            nn.BatchNorm2d(out_channels)\n",
    "        )\n",
    "        self.downsample = downsample\n",
    "        self.relu = nn.ReLU()\n",
    "        self.out_channels = out_channels\n",
    "    \n",
    "    def forward(self, x):\n",
    "        residual = x\n",
    "        out = self.conv1(x)\n",
    "        out = self.conv2(out)\n",
    "        if self.downsample:\n",
    "            residual = self.downsample(x)\n",
    "        out += residual\n",
    "        out = self.relu(out)\n",
    "\n",
    "        return out\n",
    "    \n",
    "class ResNet(nn.Module):\n",
    "    def __init__(self, block, layers, num_classes=50):\n",
    "        super(ResNet, self).__init__()\n",
    "        self.inplanes = 64\n",
    "        self.conv1 = nn.Sequential(\n",
    "            nn.Conv2d(3, 64, kernel_size=3, stride=1),\n",
    "            nn.BatchNorm2d(64),\n",
    "            nn.ReLU()\n",
    "        )\n",
    "        self.maxpool = nn.MaxPool2d(kernel_size=3, stride=1)\n",
    "        self.layer0 = self._make_layer(block, 64, layers[0], stride=1)\n",
    "        self.layer1 = self._make_layer(block, 128, layers[1], stride=1)\n",
    "        self.layer2 = self._make_layer(block, 256, layers[2], stride=2)\n",
    "        self.layer3 = self._make_layer(block, 512, layers[3], stride=2)\n",
    "        self.avgpool = nn.AvgPool2d(1, stride=2)\n",
    "        self.fc1 = nn.Sequential(\n",
    "            nn.Linear(512*4*2, 512),\n",
    "            nn.ReLU()\n",
    "        )\n",
    "        self.fc2 = nn.Linear(512, num_classes)\n",
    "    \n",
    "    def _make_layer(self, block, planes, blocks, stride=1):\n",
    "        downsample = None\n",
    "        if stride != 1 or self.inplanes != planes:\n",
    "            downsample = nn.Sequential(\n",
    "                nn.Conv2d(self.inplanes, planes, kernel_size=1, stride=stride),\n",
    "                nn.BatchNorm2d(planes)\n",
    "            )\n",
    "        layers = [block(self.inplanes, planes, stride, downsample)] + [block(planes, planes) for _ in range(blocks-1)]\n",
    "        self.inplanes = planes\n",
    "\n",
    "        return nn.Sequential(*layers)\n",
    "\n",
    "    def forward(self, x):\n",
    "        x = self.conv1(x)\n",
    "        x = self.maxpool(x)\n",
    "        x = self.layer0(x)\n",
    "        x = self.layer1(x)\n",
    "        x = self.layer2(x)\n",
    "        x = self.layer3(x)\n",
    "\n",
    "        # TODO: MAYBE STOP HERE FOR 512D EMBEDDING???\n",
    "        x = self.avgpool(x)\n",
    "        x = x.reshape(x.size(0), -1)\n",
    "        x = self.fc1(x)\n",
    "        x = self.fc2(x)\n",
    "\n",
    "        return x\n",
    "\n",
    "class MMFace(nn.Module):\n",
    "    def __init__(self, num_classes=50):\n",
    "        super(MMFace, self).__init__()\n",
    "        self.conv1 = nn.Sequential(\n",
    "            nn.Conv2d(3, 16, kernel_size=3, stride=1),\n",
    "            nn.BatchNorm2d(16),\n",
    "            nn.ReLU()\n",
    "        )\n",
    "        self.conv2 = nn.Sequential(\n",
    "            nn.Conv2d(16, 32, kernel_size=3, stride=1),\n",
    "            nn.ReLU()\n",
    "        )\n",
    "        self.conv3 = nn.Sequential(\n",
    "            nn.Conv2d(32, 64, kernel_size=3, stride=1),\n",
    "            nn.ReLU()\n",
    "        )\n",
    "        self.conv4 = nn.Sequential(\n",
    "            nn.Conv2d(64, 128, kernel_size=3, stride=1),\n",
    "            nn.ReLU()\n",
    "        )\n",
    "        self.maxpool =  nn.MaxPool2d(kernel_size=3)\n",
    "        self.fc1 = nn.Sequential(\n",
    "            nn.Linear(128*8*2, 1024),\n",
    "            nn.ReLU()\n",
    "        )\n",
    "        self.fc2 = nn.Sequential(\n",
    "            nn.Linear(1024, 512),\n",
    "            nn.ReLU()\n",
    "        )\n",
    "        self.fc3 = nn.Sequential(\n",
    "            nn.Linear(512, 32),\n",
    "            nn.ReLU()\n",
    "        )\n",
    "        self.fc4 = nn.Linear(32, num_classes)\n",
    "    \n",
    "    def forward(self, x):\n",
    "        x = self.conv1(x)\n",
    "        x = self.conv2(x)\n",
    "        x = self.conv3(x)\n",
    "        x = self.conv4(x)\n",
    "        x = self.maxpool(x)\n",
    "        # Flatten vector before FC layers\n",
    "        x = x.reshape(-1, 128*8*2)\n",
    "        x = self.fc1(x)\n",
    "        x = self.fc2(x)\n",
    "        x = self.fc3(x)\n",
    "        x = self.fc4(x)\n",
    "\n",
    "        return x"
   ]
  },
  {
   "cell_type": "markdown",
   "metadata": {},
   "source": [
    "## Loading Dataset and Model"
   ]
  },
  {
   "cell_type": "code",
   "execution_count": 2,
   "metadata": {},
   "outputs": [
    {
     "data": {
      "text/plain": [
       "array(['Joseph Parker', 'Amy Eden', 'Chloë Smart', 'Barkin Bryce',\n",
       "       'Chaitanya Kaul'], dtype='<U19')"
      ]
     },
     "execution_count": 2,
     "metadata": {},
     "output_type": "execute_result"
    }
   ],
   "source": [
    "import sys\n",
    "import numpy as np\n",
    "sys.path.insert(1, \"../../Soli/soli_realsense/\")\n",
    "from names import anon_names\n",
    "\n",
    "subjects = sorted(list(np.random.choice(range(1, 20), 1, replace=False)) + [4, 14, 16, 20])\n",
    "np.array(anon_names)[subjects]"
   ]
  },
  {
   "cell_type": "code",
   "execution_count": 2,
   "metadata": {},
   "outputs": [
    {
     "name": "stdout",
     "output_type": "stream",
     "text": [
      "Train: torch.Size([17985, 3, 32, 16])\n",
      "Validation: torch.Size([2250, 3, 32, 16])\n",
      "Test: torch.Size([2250, 3, 32, 16])\n",
      "Allocated: 0.28 GB\n"
     ]
    }
   ],
   "source": [
    "from dataset_builder import normalise, load_dataset_DL, load_dataset\n",
    "from torchvision.transforms import Compose, ToTensor\n",
    "import os\n",
    "import numpy as np\n",
    "\n",
    "def load_model(name, model, optimiser):\n",
    "    epoch = 0\n",
    "    loss_history, train_acc, val_acc = [], [], []\n",
    "    try:\n",
    "        checkpoint = torch.load(f\"models/{name}\")\n",
    "        model.load_state_dict(checkpoint[\"model_state_dict\"])\n",
    "        optimiser.load_state_dict(checkpoint[\"optimiser_state_dict\"])\n",
    "        epoch = checkpoint[\"epoch\"]\n",
    "        loss_history = checkpoint[\"loss_history\"]\n",
    "        train_acc = checkpoint[\"train_acc\"]\n",
    "        val_acc = checkpoint[\"val_acc\"]\n",
    "    except Exception as ex:\n",
    "        print(ex)\n",
    "    \n",
    "    return epoch, loss_history, train_acc, val_acc\n",
    "\n",
    "def load_history(model_path):\n",
    "    checkpoint = torch.load(model_path)\n",
    "    return checkpoint[\"loss_history\"], checkpoint[\"train_acc\"], checkpoint[\"val_acc\"]\n",
    "\n",
    "num_frames = 250\n",
    "# train, validation, test = load_dataset_DL(os.path.relpath(\"../../Soli/soli_realsense/data\"), range(num_classes), batch_size=128, transform=Compose([normalise, ToTensor()]))\n",
    "\n",
    "subjects = [0, 4, 9, 14, 16, 20]\n",
    "# subjects = sorted(np.random.choice(range(19), 4, replace=False))\n",
    "# subjects = [4, 14, 16, 20] # -> 55%\n",
    "num_classes = len(subjects)\n",
    "experiments = list(range(15))\n",
    "lighting_only = experiments[:5] + experiments[10:]\n",
    "torch.cuda.empty_cache()\n",
    "train, validation, test = load_dataset(os.path.relpath(\"../../Soli/soli_realsense/data\"), subjects, experiments=experiments, num_frames=num_frames, batch_size=128)"
   ]
  },
  {
   "cell_type": "markdown",
   "metadata": {},
   "source": [
    "## Hyperparameters + Loss + Optimiser"
   ]
  },
  {
   "cell_type": "code",
   "execution_count": 3,
   "metadata": {},
   "outputs": [
    {
     "name": "stdout",
     "output_type": "stream",
     "text": [
      "[Errno 2] No such file or directory: 'models/mmFace-simple6-hope.pt'\n"
     ]
    }
   ],
   "source": [
    "# from neural_nets import MMFace_Padding, MMFace\n",
    "\n",
    "num_epochs = 50\n",
    "learning_rate = 0.01\n",
    "\n",
    "# model = ResNet(ResidualBlock, [3, 4, 6, 3], num_classes).to(device)\n",
    "model = MMFace(num_classes).to(device)\n",
    "\n",
    "# model = resnet18(weights=ResNet18_Weights.DEFAULT)\n",
    "# model = resnet50(weights=ResNet50_Weights.DEFAULT)\n",
    "# model.fc = nn.Linear(model.fc.in_features, num_classes)\n",
    "\n",
    "# Loss + Optimiser\n",
    "criterion = nn.CrossEntropyLoss()\n",
    "optimiser = torch.optim.SGD(model.parameters(), lr=learning_rate, weight_decay=0.001, momentum=0.9)\n",
    "\n",
    "model_name = f\"mmFace-simple{num_classes}-hope.pt\"\n",
    "cur_epoch, loss_history, train_acc, val_acc = load_model(model_name, model, optimiser)\n",
    "\n",
    "# FINETUNING: FREEZE PRETRAINED PARAMETERS FOR FIRST FEW EPOCHS\n",
    "# for param in model.parameters():\n",
    "#     param.requires_grad = True\n",
    "# model = model.to(device)\n",
    "\n",
    "if len(loss_history) > 0:\n",
    "    print(f\"{model_name}\\n\\tEpoch: {cur_epoch}\\n\\tLoss: {loss_history[-1]:.4f}\\n\\tTrain Accuracy: {train_acc[-1]:.4f}\\n\\tValidation Accuracy: {val_acc[-1]:.4f}\")"
   ]
  },
  {
   "cell_type": "markdown",
   "metadata": {},
   "source": [
    "## Training\n",
    "- Load training data in ***batches*** for every epoch, moving to `device`\n",
    "  - `train_loader` = `[([data*], [labels*])*]`\n",
    "- `model(data)` to predict label, then calculate loss between predictions and ground truth labels using `criterion(preds, labels)`\n",
    "- Backpropagate to learn with `loss.backward()`, and update weights with `optimiser.step()`. Gradients must be reset to 0 after every update with `optimiser.zero_grad()` otherwise gradients will accumulate (default PyTorch).\n",
    "- After every epoch, test model on validation set but can turn off gradients for faster evaluation using `with torch.no_grad()`."
   ]
  },
  {
   "cell_type": "code",
   "execution_count": 4,
   "metadata": {},
   "outputs": [
    {
     "name": "stdout",
     "output_type": "stream",
     "text": [
      "\n",
      "Epoch [0/49]:\n"
     ]
    },
    {
     "name": "stderr",
     "output_type": "stream",
     "text": [
      "100%|██████████| 141/141 [00:02<00:00, 52.15it/s]\n"
     ]
    },
    {
     "name": "stdout",
     "output_type": "stream",
     "text": [
      "\tAverage Train Loss: 1.7313\n",
      "\tTrain Accuracy: 22.5799%\n",
      "\tValidation Accuracy: 29.0222%\n",
      "\n",
      "Epoch [1/49]:\n"
     ]
    },
    {
     "name": "stderr",
     "output_type": "stream",
     "text": [
      "100%|██████████| 141/141 [00:02<00:00, 60.75it/s]\n"
     ]
    },
    {
     "name": "stdout",
     "output_type": "stream",
     "text": [
      "\tAverage Train Loss: 1.5253\n",
      "\tTrain Accuracy: 33.8449%\n",
      "\tValidation Accuracy: 35.7333%\n",
      "\n",
      "Epoch [2/49]:\n"
     ]
    },
    {
     "name": "stderr",
     "output_type": "stream",
     "text": [
      "100%|██████████| 141/141 [00:02<00:00, 64.46it/s]\n"
     ]
    },
    {
     "name": "stdout",
     "output_type": "stream",
     "text": [
      "\tAverage Train Loss: 1.4739\n",
      "\tTrain Accuracy: 36.3581%\n",
      "\tValidation Accuracy: 36.3111%\n",
      "\n",
      "Epoch [3/49]:\n"
     ]
    },
    {
     "name": "stderr",
     "output_type": "stream",
     "text": [
      "100%|██████████| 141/141 [00:02<00:00, 63.12it/s]\n"
     ]
    },
    {
     "name": "stdout",
     "output_type": "stream",
     "text": [
      "\tAverage Train Loss: 1.4531\n",
      "\tTrain Accuracy: 37.1254%\n",
      "\tValidation Accuracy: 37.2444%\n",
      "\n",
      "Epoch [4/49]:\n"
     ]
    },
    {
     "name": "stderr",
     "output_type": "stream",
     "text": [
      "100%|██████████| 141/141 [00:02<00:00, 61.98it/s]\n"
     ]
    },
    {
     "name": "stdout",
     "output_type": "stream",
     "text": [
      "\tAverage Train Loss: 1.4375\n",
      "\tTrain Accuracy: 38.0484%\n",
      "\tValidation Accuracy: 37.6000%\n",
      "\n",
      "Epoch [5/49]:\n"
     ]
    },
    {
     "name": "stderr",
     "output_type": "stream",
     "text": [
      "100%|██████████| 141/141 [00:02<00:00, 62.78it/s]\n"
     ]
    },
    {
     "name": "stdout",
     "output_type": "stream",
     "text": [
      "\tAverage Train Loss: 1.4229\n",
      "\tTrain Accuracy: 38.8657%\n",
      "\tValidation Accuracy: 37.9111%\n",
      "\n",
      "Epoch [6/49]:\n"
     ]
    },
    {
     "name": "stderr",
     "output_type": "stream",
     "text": [
      "100%|██████████| 141/141 [00:02<00:00, 63.99it/s]\n"
     ]
    },
    {
     "name": "stdout",
     "output_type": "stream",
     "text": [
      "\tAverage Train Loss: 1.4114\n",
      "\tTrain Accuracy: 39.1493%\n",
      "\tValidation Accuracy: 38.2222%\n",
      "\n",
      "Epoch [7/49]:\n"
     ]
    },
    {
     "name": "stderr",
     "output_type": "stream",
     "text": [
      "100%|██████████| 141/141 [00:02<00:00, 63.12it/s]\n"
     ]
    },
    {
     "name": "stdout",
     "output_type": "stream",
     "text": [
      "\tAverage Train Loss: 1.4009\n",
      "\tTrain Accuracy: 39.3495%\n",
      "\tValidation Accuracy: 38.8000%\n",
      "\n",
      "Epoch [8/49]:\n"
     ]
    },
    {
     "name": "stderr",
     "output_type": "stream",
     "text": [
      "100%|██████████| 141/141 [00:02<00:00, 63.16it/s]\n"
     ]
    },
    {
     "name": "stdout",
     "output_type": "stream",
     "text": [
      "\tAverage Train Loss: 1.3912\n",
      "\tTrain Accuracy: 39.6775%\n",
      "\tValidation Accuracy: 39.2889%\n",
      "\n",
      "Epoch [9/49]:\n"
     ]
    },
    {
     "name": "stderr",
     "output_type": "stream",
     "text": [
      "100%|██████████| 141/141 [00:02<00:00, 60.92it/s]\n"
     ]
    },
    {
     "name": "stdout",
     "output_type": "stream",
     "text": [
      "\tAverage Train Loss: 1.3821\n",
      "\tTrain Accuracy: 40.3281%\n",
      "\tValidation Accuracy: 39.5556%\n",
      "\n",
      "Epoch [10/49]:\n"
     ]
    },
    {
     "name": "stderr",
     "output_type": "stream",
     "text": [
      "100%|██████████| 141/141 [00:02<00:00, 63.20it/s]\n"
     ]
    },
    {
     "name": "stdout",
     "output_type": "stream",
     "text": [
      "\tAverage Train Loss: 1.3736\n",
      "\tTrain Accuracy: 40.6561%\n",
      "\tValidation Accuracy: 40.0444%\n",
      "\n",
      "Epoch [11/49]:\n"
     ]
    },
    {
     "name": "stderr",
     "output_type": "stream",
     "text": [
      "100%|██████████| 141/141 [00:02<00:00, 60.57it/s]\n"
     ]
    },
    {
     "name": "stdout",
     "output_type": "stream",
     "text": [
      "\tAverage Train Loss: 1.3656\n",
      "\tTrain Accuracy: 41.0342%\n",
      "\tValidation Accuracy: 39.6444%\n",
      "\n",
      "Epoch [12/49]:\n"
     ]
    },
    {
     "name": "stderr",
     "output_type": "stream",
     "text": [
      "100%|██████████| 141/141 [00:02<00:00, 61.61it/s]\n"
     ]
    },
    {
     "name": "stdout",
     "output_type": "stream",
     "text": [
      "\tAverage Train Loss: 1.3590\n",
      "\tTrain Accuracy: 41.3789%\n",
      "\tValidation Accuracy: 39.4222%\n",
      "\n",
      "Epoch [13/49]:\n"
     ]
    },
    {
     "name": "stderr",
     "output_type": "stream",
     "text": [
      "100%|██████████| 141/141 [00:02<00:00, 60.08it/s]\n"
     ]
    },
    {
     "name": "stdout",
     "output_type": "stream",
     "text": [
      "\tAverage Train Loss: 1.3529\n",
      "\tTrain Accuracy: 41.7070%\n",
      "\tValidation Accuracy: 39.7333%\n",
      "\n",
      "Epoch [14/49]:\n"
     ]
    },
    {
     "name": "stderr",
     "output_type": "stream",
     "text": [
      "100%|██████████| 141/141 [00:02<00:00, 61.48it/s]\n"
     ]
    },
    {
     "name": "stdout",
     "output_type": "stream",
     "text": [
      "\tAverage Train Loss: 1.3466\n",
      "\tTrain Accuracy: 41.9794%\n",
      "\tValidation Accuracy: 39.6889%\n",
      "\n",
      "Epoch [15/49]:\n"
     ]
    },
    {
     "name": "stderr",
     "output_type": "stream",
     "text": [
      "100%|██████████| 141/141 [00:02<00:00, 58.05it/s]\n"
     ]
    },
    {
     "name": "stdout",
     "output_type": "stream",
     "text": [
      "\tAverage Train Loss: 1.3395\n",
      "\tTrain Accuracy: 42.4242%\n",
      "\tValidation Accuracy: 39.1111%\n",
      "\n",
      "Epoch [16/49]:\n"
     ]
    },
    {
     "name": "stderr",
     "output_type": "stream",
     "text": [
      "100%|██████████| 141/141 [00:02<00:00, 59.36it/s]\n"
     ]
    },
    {
     "name": "stdout",
     "output_type": "stream",
     "text": [
      "\tAverage Train Loss: 1.3322\n",
      "\tTrain Accuracy: 42.7245%\n",
      "\tValidation Accuracy: 39.4222%\n",
      "\n",
      "Epoch [17/49]:\n"
     ]
    },
    {
     "name": "stderr",
     "output_type": "stream",
     "text": [
      "100%|██████████| 141/141 [00:02<00:00, 57.59it/s]\n"
     ]
    },
    {
     "name": "stdout",
     "output_type": "stream",
     "text": [
      "\tAverage Train Loss: 1.3246\n",
      "\tTrain Accuracy: 43.1915%\n",
      "\tValidation Accuracy: 39.7333%\n",
      "\n",
      "Epoch [18/49]:\n"
     ]
    },
    {
     "name": "stderr",
     "output_type": "stream",
     "text": [
      "100%|██████████| 141/141 [00:02<00:00, 59.93it/s]\n"
     ]
    },
    {
     "name": "stdout",
     "output_type": "stream",
     "text": [
      "\tAverage Train Loss: 1.3169\n",
      "\tTrain Accuracy: 43.5752%\n",
      "\tValidation Accuracy: 39.7778%\n",
      "\n",
      "Epoch [19/49]:\n"
     ]
    },
    {
     "name": "stderr",
     "output_type": "stream",
     "text": [
      "100%|██████████| 141/141 [00:02<00:00, 58.27it/s]\n"
     ]
    },
    {
     "name": "stdout",
     "output_type": "stream",
     "text": [
      "\tAverage Train Loss: 1.3099\n",
      "\tTrain Accuracy: 43.9477%\n",
      "\tValidation Accuracy: 39.9111%\n",
      "\n",
      "Epoch [20/49]:\n"
     ]
    },
    {
     "name": "stderr",
     "output_type": "stream",
     "text": [
      "100%|██████████| 141/141 [00:02<00:00, 57.42it/s]\n"
     ]
    },
    {
     "name": "stdout",
     "output_type": "stream",
     "text": [
      "\tAverage Train Loss: 1.3018\n",
      "\tTrain Accuracy: 44.2202%\n",
      "\tValidation Accuracy: 40.4889%\n",
      "\n",
      "Epoch [21/49]:\n"
     ]
    },
    {
     "name": "stderr",
     "output_type": "stream",
     "text": [
      "100%|██████████| 141/141 [00:02<00:00, 56.43it/s]\n"
     ]
    },
    {
     "name": "stdout",
     "output_type": "stream",
     "text": [
      "\tAverage Train Loss: 1.2898\n",
      "\tTrain Accuracy: 44.9541%\n",
      "\tValidation Accuracy: 40.9778%\n",
      "\n",
      "Epoch [22/49]:\n"
     ]
    },
    {
     "name": "stderr",
     "output_type": "stream",
     "text": [
      "100%|██████████| 141/141 [00:02<00:00, 57.11it/s]\n"
     ]
    },
    {
     "name": "stdout",
     "output_type": "stream",
     "text": [
      "\tAverage Train Loss: 1.2755\n",
      "\tTrain Accuracy: 45.6158%\n",
      "\tValidation Accuracy: 41.1111%\n",
      "\n",
      "Epoch [23/49]:\n"
     ]
    },
    {
     "name": "stderr",
     "output_type": "stream",
     "text": [
      "100%|██████████| 141/141 [00:02<00:00, 54.98it/s]\n"
     ]
    },
    {
     "name": "stdout",
     "output_type": "stream",
     "text": [
      "\tAverage Train Loss: 1.2611\n",
      "\tTrain Accuracy: 46.5277%\n",
      "\tValidation Accuracy: 41.0222%\n",
      "\n",
      "Epoch [24/49]:\n"
     ]
    },
    {
     "name": "stderr",
     "output_type": "stream",
     "text": [
      "100%|██████████| 141/141 [00:02<00:00, 55.93it/s]\n"
     ]
    },
    {
     "name": "stdout",
     "output_type": "stream",
     "text": [
      "\tAverage Train Loss: 1.2442\n",
      "\tTrain Accuracy: 47.1615%\n",
      "\tValidation Accuracy: 40.6667%\n",
      "\n",
      "Epoch [25/49]:\n"
     ]
    },
    {
     "name": "stderr",
     "output_type": "stream",
     "text": [
      "100%|██████████| 141/141 [00:02<00:00, 55.17it/s]\n"
     ]
    },
    {
     "name": "stdout",
     "output_type": "stream",
     "text": [
      "\tAverage Train Loss: 1.2245\n",
      "\tTrain Accuracy: 48.5238%\n",
      "\tValidation Accuracy: 40.4000%\n",
      "\n",
      "Epoch [26/49]:\n"
     ]
    },
    {
     "name": "stderr",
     "output_type": "stream",
     "text": [
      "100%|██████████| 141/141 [00:02<00:00, 55.72it/s]\n"
     ]
    },
    {
     "name": "stdout",
     "output_type": "stream",
     "text": [
      "\tAverage Train Loss: 1.1979\n",
      "\tTrain Accuracy: 49.4078%\n",
      "\tValidation Accuracy: 41.3778%\n",
      "\n",
      "Epoch [27/49]:\n"
     ]
    },
    {
     "name": "stderr",
     "output_type": "stream",
     "text": [
      "100%|██████████| 141/141 [00:02<00:00, 53.36it/s]\n"
     ]
    },
    {
     "name": "stdout",
     "output_type": "stream",
     "text": [
      "\tAverage Train Loss: 1.1698\n",
      "\tTrain Accuracy: 50.7089%\n",
      "\tValidation Accuracy: 42.1333%\n",
      "\n",
      "Epoch [28/49]:\n"
     ]
    },
    {
     "name": "stderr",
     "output_type": "stream",
     "text": [
      "100%|██████████| 141/141 [00:02<00:00, 54.41it/s]\n"
     ]
    },
    {
     "name": "stdout",
     "output_type": "stream",
     "text": [
      "\tAverage Train Loss: 1.1413\n",
      "\tTrain Accuracy: 51.9266%\n",
      "\tValidation Accuracy: 40.3111%\n"
     ]
    }
   ],
   "source": [
    "for epoch in range(cur_epoch, num_epochs):\n",
    "    print(f\"\\nEpoch [{epoch}/{num_epochs-1}]:\")\n",
    "    if os.path.exists(f\"models/{model_name}\"):\n",
    "        loss_history, train_acc, val_acc = load_history(f\"models/{model_name}\")\n",
    "\n",
    "    model.train()\n",
    "    # Running Loss and Accuracy\n",
    "    running_loss, running_acc, total = 0., 0., 0.\n",
    "\n",
    "    for data, labels in tqdm(train):\n",
    "        # Forward Pass\n",
    "        outputs = model(data)\n",
    "        _, predicted = torch.max(outputs.data, 1)\n",
    "        loss = criterion(outputs, labels)\n",
    "\n",
    "        # Backward Pass and Optimise\n",
    "        optimiser.zero_grad()\n",
    "        loss.backward()\n",
    "        optimiser.step()\n",
    "\n",
    "        running_loss += loss.item()\n",
    "        total += labels.size(0)\n",
    "        running_acc += (predicted == labels).sum().item()\n",
    "\n",
    "        del data, labels, outputs\n",
    "        torch.cuda.empty_cache()\n",
    "    \n",
    "    avg_train_loss = running_loss/len(train)\n",
    "    avg_train_acc = 100*running_acc/total\n",
    "    print(f\"\\tAverage Train Loss: {avg_train_loss:.4f}\")\n",
    "    print(f\"\\tTrain Accuracy: {avg_train_acc:.4f}%\")\n",
    "\n",
    "    torch.save({\"epoch\": epoch+1,\n",
    "                \"model_state_dict\": model.state_dict(),\n",
    "                \"optimiser_state_dict\": optimiser.state_dict(),\n",
    "                \"loss_history\": loss_history + [avg_train_loss],\n",
    "                \"train_acc\": train_acc + [avg_train_acc],\n",
    "                \"val_acc\": val_acc},\n",
    "                f\"models/{model_name}\")\n",
    "    \n",
    "    # Validation\n",
    "    model.eval()\n",
    "    with torch.no_grad():\n",
    "        correct = 0\n",
    "        total = 0\n",
    "        for data, labels in validation:\n",
    "            outputs = model(data)\n",
    "            _, predicted = torch.max(outputs.data, 1)\n",
    "            total += labels.size(0)\n",
    "            correct += (predicted == labels).sum().item()\n",
    "            del data, labels, outputs\n",
    "        \n",
    "        avg_val_acc = 100*correct/total\n",
    "        print(f\"\\tValidation Accuracy: {avg_val_acc:.4f}%\")\n",
    "\n",
    "    model_checkpoint = torch.load(f\"models/{model_name}\")\n",
    "    model_checkpoint[\"val_acc\"].append(avg_val_acc)\n",
    "    torch.save(model_checkpoint, f\"models/{model_name}\")\n",
    "\n",
    "    # Stop if overfitting\n",
    "    if avg_train_acc - avg_val_acc > 10:\n",
    "        break"
   ]
  },
  {
   "cell_type": "markdown",
   "metadata": {},
   "source": [
    "## Testing"
   ]
  },
  {
   "cell_type": "code",
   "execution_count": 5,
   "metadata": {},
   "outputs": [
    {
     "name": "stdout",
     "output_type": "stream",
     "text": [
      "Test Accuracy of mmFace: 42.1333%\n"
     ]
    }
   ],
   "source": [
    "y_pred = []\n",
    "y_true = []\n",
    "\n",
    "model.eval()\n",
    "with torch.no_grad():\n",
    "    correct = 0\n",
    "    total = 0\n",
    "    for data, labels in test:\n",
    "        outputs = model(data)\n",
    "        _, predicted = torch.max(outputs.data, 1)\n",
    "        total += labels.size(0)\n",
    "        correct += (predicted == labels).sum().item()\n",
    "\n",
    "        y_pred.extend(predicted.cpu().numpy())\n",
    "        y_true.extend(labels.data.cpu().numpy())\n",
    "        del data, labels, outputs\n",
    "    \n",
    "    print(f\"Test Accuracy of mmFace: {100*correct/total:.4f}%\")"
   ]
  },
  {
   "cell_type": "markdown",
   "metadata": {},
   "source": [
    "# Evaluation"
   ]
  },
  {
   "cell_type": "code",
   "execution_count": 6,
   "metadata": {},
   "outputs": [
    {
     "data": {
      "image/png": "[encoded data removed]",
      "text/plain": [
       "<Figure size 1200x360 with 2 Axes>"
      ]
     },
     "metadata": {},
     "output_type": "display_data"
    }
   ],
   "source": [
    "import matplotlib.pyplot as plt\n",
    "\n",
    "losses, train_acc, val_acc = load_history(f\"models/{model_name}\")\n",
    "\n",
    "fig, axs = plt.subplots(1, 2, figsize=(10, 3), dpi=120)\n",
    "\n",
    "axs[0].plot(range(len(train_acc)), train_acc)\n",
    "axs[0].plot(range(len(val_acc)), val_acc)\n",
    "axs[0].set_xlabel(\"Epoch\")\n",
    "axs[0].set_ylabel(\"Accuracy (%)\")\n",
    "\n",
    "axs[1].plot(range(len(losses)), losses)\n",
    "axs[1].set_xlabel(\"Epoch\")\n",
    "axs[1].set_ylabel(\"Loss\")\n",
    "\n",
    "axs[0].set_title(model_name)\n",
    "plt.show()"
   ]
  },
  {
   "cell_type": "code",
   "execution_count": 7,
   "metadata": {},
   "outputs": [
    {
     "data": {
      "text/plain": [
       "[Text(0.5, 25.722222222222214, 'Predictions'),\n",
       " Text(145.72222222222223, 0.5, 'Actual'),\n",
       " Text(0.5, 1.0, 'Precision Confusion Matrix')]"
      ]
     },
     "execution_count": 7,
     "metadata": {},
     "output_type": "execute_result"
    },
    {
     "data": {
      "image/png": "[encoded data removed]",
      "text/plain": [
       "<Figure size 1400x500 with 2 Axes>"
      ]
     },
     "metadata": {},
     "output_type": "display_data"
    }
   ],
   "source": [
    "from sklearn.metrics import confusion_matrix\n",
    "import seaborn as sn\n",
    "import pandas as pd\n",
    "import sys\n",
    "sys.path.insert(1, \"../../Soli/soli_realsense/\")\n",
    "from names import anon_names\n",
    "\n",
    "subject_names = np.array(anon_names)[subjects]\n",
    "# subjects = range(num_classes)\n",
    "\n",
    "# Build confusion matrix\n",
    "cf_matrix = confusion_matrix(y_true, y_pred)\n",
    "df_cm = pd.DataFrame(cf_matrix / np.sum(cf_matrix, axis=1)[:, None], index=subject_names, columns=subject_names)\n",
    "plt.figure(figsize = (14, 5))\n",
    "heatmap = sn.heatmap(df_cm, annot=True)\n",
    "heatmap.set(xlabel =\"Predictions\", ylabel = \"Actual\", title ='Precision Confusion Matrix')"
   ]
  }
 ],
 "metadata": {
  "kernelspec": {
   "display_name": "3dfr",
   "language": "python",
   "name": "python3"
  },
  "language_info": {
   "codemirror_mode": {
    "name": "ipython",
    "version": 3
   },
   "file_extension": ".py",
   "mimetype": "text/x-python",
   "name": "python",
   "nbconvert_exporter": "python",
   "pygments_lexer": "ipython3",
   "version": "3.9.2"
  }
 },
 "nbformat": 4,
 "nbformat_minor": 2
}
