{
 "cells": [
  {
   "cell_type": "markdown",
   "metadata": {},
   "source": [
    "# ResNet-Based mmFace"
   ]
  },
  {
   "cell_type": "code",
   "execution_count": 5,
   "metadata": {},
   "outputs": [
    {
     "name": "stdout",
     "output_type": "stream",
     "text": [
      "cuda\n"
     ]
    }
   ],
   "source": [
    "import numpy as np\n",
    "import torch\n",
    "import torch.nn as nn\n",
    "from torchvision.transforms import ToTensor\n",
    "\n",
    "device = torch.device('cuda' if torch.cuda.is_available() else 'cpu')\n",
    "print(device)\n",
    "\n",
    "class ResidualBlock(nn.Module):\n",
    "    def __init__(self, in_channels, out_channels, stride=1, downsample=None):\n",
    "        super(ResidualBlock, self).__init__()\n",
    "        self.conv1 = nn.Sequential(\n",
    "            nn.Conv2d(in_channels, out_channels, kernel_size=3, stride=stride, padding=1),\n",
    "            nn.BatchNorm2d(out_channels),\n",
    "            nn.ReLU()\n",
    "        )\n",
    "        self.conv2 = nn.Sequential(\n",
    "            nn.Conv2d(out_channels, out_channels, kernel_size=3, stride=1, padding=1),\n",
    "            nn.BatchNorm2d(out_channels)\n",
    "        )\n",
    "        self.downsample = downsample\n",
    "        self.relu = nn.ReLU()\n",
    "        self.out_channels = out_channels\n",
    "    \n",
    "    def forward(self, x):\n",
    "        residual = x\n",
    "        out = self.conv1(x)\n",
    "        out = self.conv2(out)\n",
    "        if self.downsample:\n",
    "            residual = self.downsample(x)\n",
    "        out += residual\n",
    "        out = self.relu(out)\n",
    "\n",
    "        return out\n",
    "    \n",
    "class ResNet(nn.Module):\n",
    "    def __init__(self, block, layers, num_classes=50):\n",
    "        super(ResNet, self).__init__()\n",
    "        self.inplanes = 64\n",
    "        self.conv1 = nn.Sequential(\n",
    "            nn.Conv2d(3, 64, kernel_size=7, stride=2, padding=3),\n",
    "            nn.BatchNorm2d(64),\n",
    "            nn.ReLU()\n",
    "        )\n",
    "        self.maxpool = nn.MaxPool2d(kernel_size=3, stride=2, padding=1)\n",
    "        self.layer0 = self._make_layer(block, 64, layers[0], stride=1)\n",
    "        self.layer1 = self._make_layer(block, 128, layers[1], stride=2)\n",
    "        self.layer2 = self._make_layer(block, 256, layers[2], stride=2)\n",
    "        self.layer3 = self._make_layer(block, 512, layers[3], stride=2)\n",
    "        self.avgpool = nn.AvgPool2d(1, stride=1)\n",
    "        self.fc = nn.Linear(512, num_classes)\n",
    "    \n",
    "    def _make_layer(self, block, planes, blocks, stride=1):\n",
    "        downsample = None\n",
    "        if stride != 1 or self.inplanes != planes:\n",
    "            downsample = nn.Sequential(\n",
    "                nn.Conv2d(self.inplanes, planes, kernel_size=1, stride=stride),\n",
    "                nn.BatchNorm2d(planes)\n",
    "            )\n",
    "        layers = [block(self.inplanes, planes, stride, downsample)] + [block(planes, planes) for _ in range(blocks-1)]\n",
    "        self.inplanes = planes\n",
    "\n",
    "        return nn.Sequential(*layers)\n",
    "\n",
    "    def forward(self, x):\n",
    "        # print(x.shape)\n",
    "        # x = self.conv1(x)\n",
    "        # print(x.shape)\n",
    "        # x = self.maxpool(x)\n",
    "        # print(x.shape)\n",
    "        # x = self.layer0(x)\n",
    "        # print(x.shape)\n",
    "        # x = self.layer1(x)\n",
    "        # print(x.shape)\n",
    "        # x = self.layer2(x)\n",
    "        # print(x.shape)\n",
    "        # x = self.layer3(x)\n",
    "        # print(x.shape)\n",
    "        \n",
    "        # x = self.avgpool(x)\n",
    "        # print(x.shape)\n",
    "        # x = x.view(x.size(0), -1)\n",
    "        # print(x.shape)\n",
    "        # x = self.fc(x)\n",
    "        # print(x.shape)\n",
    "        x = self.conv1(x)\n",
    "        x = self.maxpool(x)\n",
    "        x = self.layer0(x)\n",
    "        x = self.layer1(x)\n",
    "        x = self.layer2(x)\n",
    "        x = self.layer3(x)\n",
    "\n",
    "        # TODO: MAYBE STOP HERE FOR 512D EMBEDDING???\n",
    "        x = self.avgpool(x)\n",
    "        x = x.view(x.size(0), -1)\n",
    "        x = self.fc(x)\n",
    "\n",
    "        return x"
   ]
  },
  {
   "cell_type": "markdown",
   "metadata": {},
   "source": [
    "## Loading Dataset and Model"
   ]
  },
  {
   "cell_type": "code",
   "execution_count": 24,
   "metadata": {},
   "outputs": [],
   "source": [
    "from torch.utils.data import DataLoader\n",
    "from torch.utils.data.sampler import SubsetRandomSampler\n",
    "import os\n",
    "import numpy as np\n",
    "from glob import glob\n",
    "import json\n",
    "from utils import get_crd_data\n",
    "from tqdm import tqdm\n",
    "\n",
    "def collate_crds(path, subjects, frames):\n",
    "    exact_frames = []\n",
    "    for subject in tqdm(subjects):\n",
    "        if not os.path.exists(f\"data/{frames}/crd{frames}_{subject}.npy\"):\n",
    "            data = None\n",
    "            subject_radars = sorted(glob(f\"{path}\\\\{subject}\\\\*_radar.json\"), key=lambda p: int(p.split('\\\\')[6].split('-')[1].split('_')[0]))\n",
    "            for file in subject_radars:\n",
    "                with open(file, 'r') as f:\n",
    "                    exp_crd = np.einsum(\"fcrd->frdc\", np.abs(get_crd_data(json.load(f), num_chirps_per_burst=16)[:250]).astype(np.float32))\n",
    "                    if data is None:\n",
    "                        data = exp_crd\n",
    "                    else:\n",
    "                        data = np.concatenate((data, exp_crd))\n",
    "\n",
    "            np.save(f\"data/{frames}/crd{frames}_{subject}.npy\", data)\n",
    "            exact_frames.append(str(data.shape[0]))\n",
    "            del data\n",
    "\n",
    "    if len(exact_frames) > 0:\n",
    "        with open(f\"data/{frames}/exact_frames.txt\", 'w') as ef:\n",
    "            ef.write('\\n'.join(exact_frames))\n",
    "\n",
    "class MMFaceDataset(torch.utils.data.Dataset):\n",
    "    def __init__(self, data_path, frames_file, subjects=[0], frames=250, transform=None, target_transform=None):\n",
    "        if len(os.listdir(f\"data/{frames}\"))-1 != len(subjects):\n",
    "            collate_crds(data_path, subjects, frames)\n",
    "        \n",
    "        with open(frames_file, 'r') as f:\n",
    "            self.exact_frames = [int(x) for x in f.read().splitlines()]\n",
    "        \n",
    "        self.subjects = subjects\n",
    "        self.frames = frames\n",
    "        self.labels = [l for i in subjects for l in [i]*self.exact_frames[i]]\n",
    "        self.data_path = data_path\n",
    "        self.transform = transform\n",
    "        self.target_transform = target_transform\n",
    "    \n",
    "    def __len__(self):\n",
    "        return len(self.labels)\n",
    "\n",
    "    def __getitem__(self, idx):\n",
    "        _get_file = lambda self, i, s=0: (s, i) if s >= len(self.exact_frames) or i < self.exact_frames[s] else _get_file(self, i-self.exact_frames[s], s+1)\n",
    "        subject, mod_idx = _get_file(self, idx)\n",
    "        crd = np.load(f\"data/{self.frames}/crd{self.frames}_{subject}.npy\")[mod_idx]\n",
    "        label = self.labels[idx]\n",
    "        if self.transform:\n",
    "            crd = self.transform(crd)\n",
    "        if self.target_transform:\n",
    "            label = self.target_transform(label)\n",
    "        \n",
    "        return crd, label\n",
    "\n",
    "def load_dataset(path, subjects=[0], frames=250, batch_size=32, train_split=0.8, test_split=0.1, shuffle=True):\n",
    "    dataset = MMFaceDataset(path, f\"data/{frames}/exact_frames.txt\", subjects, transform=ToTensor())\n",
    "\n",
    "    indices = list(range(len(dataset)))\n",
    "    train_portion = int(train_split*len(dataset))\n",
    "    val_portion = train_portion + int(test_split*len(dataset))\n",
    "\n",
    "    if shuffle:\n",
    "        np.random.seed(333)\n",
    "        np.random.shuffle(indices)\n",
    "    \n",
    "    train_idx, val_idx, test_idx = indices[:train_portion], indices[train_portion:val_portion], indices[val_portion:]\n",
    "    # *16 Subjects x 15 Scenarios x 250 frames = 60,000 / 16 = 3,750 Batches\n",
    "    train_loader = DataLoader(dataset, batch_size=batch_size, sampler=SubsetRandomSampler(train_idx))\n",
    "    val_loader = DataLoader(dataset, batch_size=batch_size, sampler=SubsetRandomSampler(val_idx))\n",
    "    test_loader = DataLoader(dataset, batch_size=batch_size, sampler=SubsetRandomSampler(test_idx))\n",
    "    \n",
    "    return train_loader, val_loader, test_loader\n",
    "\n",
    "def load_model(model, optimiser):\n",
    "    epoch, loss = 0, None\n",
    "    try:\n",
    "        checkpoint = torch.load(\"model/mmFace.pt\")\n",
    "        model.load_state_dict(checkpoint[\"model_state_dict\"])\n",
    "        optimiser.load_state_dict(checkpoint[\"optimiser_state_dict\"])\n",
    "        epoch = checkpoint[\"epoch\"]\n",
    "        loss = checkpoint[\"loss\"]\n",
    "    except Exception as ex:\n",
    "        print(ex)\n",
    "    \n",
    "    return epoch, loss\n",
    "\n",
    "train, validation, test = load_dataset(path=os.path.relpath(\"../../Soli/soli_realsense/data\"), batch_size=64, subjects=list(range(16)))"
   ]
  },
  {
   "cell_type": "markdown",
   "metadata": {},
   "source": [
    "## Hyperparameters + Loss + Optimiser"
   ]
  },
  {
   "cell_type": "code",
   "execution_count": 30,
   "metadata": {},
   "outputs": [
    {
     "name": "stdout",
     "output_type": "stream",
     "text": [
      "0 2.6487598419189453\n"
     ]
    }
   ],
   "source": [
    "num_classes = 16\n",
    "num_epochs = 20\n",
    "batch_size = 16\n",
    "learning_rate = 0.01\n",
    "\n",
    "model = ResNet(ResidualBlock, [3, 4, 6, 3], num_classes).to(device)\n",
    "# Loss + Optimiser\n",
    "criterion = nn.CrossEntropyLoss()\n",
    "optimiser = torch.optim.SGD(model.parameters(), lr=learning_rate, weight_decay=0.001, momentum=0.9)\n",
    "\n",
    "cur_epoch, cur_loss = load_model(model, optimiser)\n",
    "print(cur_epoch, cur_loss.item())"
   ]
  },
  {
   "cell_type": "markdown",
   "metadata": {},
   "source": [
    "## Training\n",
    "- Load training data in ***batches*** for every epoch, moving to `device`\n",
    "  - `train_loader` = `[([data*], [labels*])*]`\n",
    "- `model(data)` to predict label, then calculate loss between predictions and ground truth labels using `criterion(preds, labels)`\n",
    "- Backpropagate to learn with `loss.backward()`, and update weights with `optimiser.step()`. Gradients must be reset to 0 after every update with `optimiser.zero_grad()` otherwise gradients will accumulate (default PyTorch).\n",
    "- After every epoch, test model on validation set but can turn off gradients for faster evaluation using `with torch.no_grad()`."
   ]
  },
  {
   "cell_type": "code",
   "execution_count": 28,
   "metadata": {},
   "outputs": [
    {
     "name": "stdout",
     "output_type": "stream",
     "text": [
      "Epoch 0:\n"
     ]
    },
    {
     "name": "stderr",
     "output_type": "stream",
     "text": [
      "100%|██████████| 750/750 [13:17<00:00,  1.06s/it] \n"
     ]
    },
    {
     "name": "stdout",
     "output_type": "stream",
     "text": [
      "Epoch [1/1], Loss: 2.6488\n",
      "Accuracy of mmFace on Validation: 10.985164194032338%\n"
     ]
    }
   ],
   "source": [
    "import gc\n",
    "\n",
    "for epoch in range(cur_epoch, num_epochs):\n",
    "    print(f\"Epoch {epoch}:\")\n",
    "    for data, labels in tqdm(train):\n",
    "        data = data.to(device)\n",
    "        labels = labels.to(device)\n",
    "\n",
    "        # Forward Pass\n",
    "        outputs = model(data)\n",
    "        loss = criterion(outputs, labels)\n",
    "\n",
    "        # Backward Pass and Optimise\n",
    "        optimiser.zero_grad()\n",
    "        loss.backward()\n",
    "        optimiser.step()\n",
    "        del data, labels, outputs\n",
    "        torch.cuda.empty_cache()\n",
    "        gc.collect()\n",
    "    \n",
    "    torch.save({\"epoch\": epoch,\n",
    "                \"model_state_dict\": model.state_dict(),\n",
    "                \"optimiser_state_dict\": optimiser.state_dict(),\n",
    "                \"loss\": loss},\n",
    "                \"model/mmFace.pt\")\n",
    "    \n",
    "    print(f\"Epoch [{epoch+1}/{num_epochs}], Loss: {loss.item():.4f}\")\n",
    "\n",
    "    # Validation\n",
    "    with torch.no_grad():\n",
    "        correct = 0\n",
    "        total = 0\n",
    "        for data, labels in validation:\n",
    "            data = data.to(device)\n",
    "            labels = labels.to(device)\n",
    "            outputs = model(data)\n",
    "            _, predicted = torch.max(outputs.data, 1)\n",
    "            total += labels.size(0)\n",
    "            correct += (predicted == labels).sum().item()\n",
    "            del data, labels, outputs\n",
    "        \n",
    "        print(f\"Accuracy of mmFace on Validation: {100*correct/total}%\")"
   ]
  },
  {
   "cell_type": "markdown",
   "metadata": {},
   "source": [
    "## Testing"
   ]
  },
  {
   "cell_type": "code",
   "execution_count": null,
   "metadata": {},
   "outputs": [],
   "source": [
    "model.eval()\n",
    "with torch.no_grad():\n",
    "    correct = 0\n",
    "    total = 0\n",
    "    for data, labels in tqdm(test):\n",
    "        data = data.to(device)\n",
    "        labels = labels.to(device)\n",
    "        outputs = model(data)\n",
    "        _, predicted = torch.max(outputs.data, 1)\n",
    "        total += labels.size(0)\n",
    "        correct += (predicted == labels).sum().item()\n",
    "        del data, labels, outputs\n",
    "    \n",
    "    print(f\"Test Accuracy of mmFace: {100*correct/total}\")"
   ]
  },
  {
   "cell_type": "code",
   "execution_count": 4,
   "metadata": {},
   "outputs": [
    {
     "name": "stderr",
     "output_type": "stream",
     "text": [
      "100%|██████████| 2/2 [00:00<?, ?it/s]"
     ]
    },
    {
     "name": "stdout",
     "output_type": "stream",
     "text": [
      "4 hello\n",
      "2 4\n"
     ]
    },
    {
     "name": "stderr",
     "output_type": "stream",
     "text": [
      "\n"
     ]
    }
   ],
   "source": [
    "from tqdm import tqdm\n",
    "\n",
    "x = [(4, \"hello\"), (2, 4)]\n",
    "for p, q in tqdm(x):\n",
    "    print(p, q)"
   ]
  }
 ],
 "metadata": {
  "kernelspec": {
   "display_name": "3dfr",
   "language": "python",
   "name": "python3"
  },
  "language_info": {
   "codemirror_mode": {
    "name": "ipython",
    "version": 3
   },
   "file_extension": ".py",
   "mimetype": "text/x-python",
   "name": "python",
   "nbconvert_exporter": "python",
   "pygments_lexer": "ipython3",
   "version": "3.9.2"
  }
 },
 "nbformat": 4,
 "nbformat_minor": 2
}
