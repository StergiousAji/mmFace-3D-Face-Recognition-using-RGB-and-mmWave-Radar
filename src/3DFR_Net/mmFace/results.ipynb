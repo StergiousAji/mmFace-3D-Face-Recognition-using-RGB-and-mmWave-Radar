{
 "cells": [
  {
   "cell_type": "code",
   "execution_count": 20,
   "metadata": {},
   "outputs": [],
   "source": [
    "import json\n",
    "\n",
    "with open(\"results_o.json\", 'r') as f:\n",
    "    data = json.load(f)"
   ]
  },
  {
   "cell_type": "code",
   "execution_count": 21,
   "metadata": {},
   "outputs": [
    {
     "name": "stdout",
     "output_type": "stream",
     "text": [
      "Averaged Accuracies: \n",
      "[91.1442  78.8854  88.6989  82.54035 77.9387  89.18385 82.22225 70.26265\n",
      " 78.83945]\n",
      "\n",
      "Averaged Micro-Accuracies: \n",
      "[0.9086  0.78515 0.83085 0.759   0.71485 0.8793  0.80935 0.58515 0.70585]\n",
      "\n",
      "Averaged F_{0.5} Scores: \n",
      "[0.9108  0.78415 0.87415 0.82    0.76935 0.8907  0.81195 0.67205 0.7665 ]\n",
      "\n",
      "Macro-Averaged AUCs: \n",
      "[0.9473, 0.895, 0.9054, 0.8888, 0.8117, 0.9412, 0.9067, 0.7791, 0.8613]\n",
      "\n",
      "KL Divergences: \n",
      "[0.4255, 0.7696, 0.287, 0.2103, 0.2725, 0.2411, 0.2462, 1.3075, 0.1658]\n",
      "\n",
      "Coverages: \n",
      "[99.6875, 99.5312, 93.6719, 91.9531, 91.7188, 98.5938, 98.4375, 83.2812, 89.5312]\n",
      "\n",
      "Subject Accuracy: \n",
      "[82.7586, 58.3987, 83.7364, 90.5692, 83.9864, 85.4992, 67.5397, 41.182, 87.3473]\n",
      "\n",
      "Liveness Accuracy: \n",
      "[99.5298, 99.3721, 93.6614, 74.5115, 71.891, 92.8685, 96.9048, 99.3433, 70.3316]\n"
     ]
    }
   ],
   "source": [
    "import numpy as np\n",
    "\n",
    "accuracies = np.array([x[\"SUBJECT\"][\"Accuracy\"] + x[\"LIVENESS\"][\"Accuracy\"] for x in data.values()])\n",
    "f1_scores = np.array([x[\"SUBJECT\"][\"Weighted-Averaged F-Score\"] + x[\"LIVENESS\"][\"Weighted-Averaged F-Score\"] for x in data.values()])\n",
    "micro_accuracies = np.array([x[\"SUBJECT\"][\"Micro-Accuracy\"] + x[\"LIVENESS\"][\"Micro-Accuracy\"] for x in data.values()])\n",
    "\n",
    "print(f\"Averaged Accuracies: \\n{accuracies / 2}\\n\")\n",
    "print(f\"Averaged Micro-Accuracies: \\n{micro_accuracies / 2}\\n\")\n",
    "print(f\"Averaged F_{{0.5}} Scores: \\n{f1_scores / 2}\\n\")\n",
    "print(f\"Macro-Averaged AUCs: \\n{[x['Macro-Averaged AUC'] for x in data.values()]}\\n\")\n",
    "print(f\"KL Divergences: \\n{[x['KL Divergence'] for x in data.values()]}\\n\")\n",
    "print(f\"Coverages: \\n{[x['Coverage'] for x in data.values()]}\\n\")\n",
    "print(f\"Subject Accuracy: \\n{[x['SUBJECT']['Accuracy'] for x in data.values()]}\\n\")\n",
    "print(f\"Liveness Accuracy: \\n{[x['LIVENESS']['Accuracy'] for x in data.values()]}\")"
   ]
  },
  {
   "cell_type": "code",
   "execution_count": 26,
   "metadata": {},
   "outputs": [
    {
     "name": "stdout",
     "output_type": "stream",
     "text": [
      "[ 0.      12.2588   2.4453   8.60385 13.2055   1.96035  8.92195 20.88155\n",
      " 12.30475]\n",
      "6.770821428571423\n"
     ]
    }
   ],
   "source": [
    "mean_accs = accuracies / 2\n",
    "diffs = mean_accs[0] - mean_accs\n",
    "print(diffs)\n",
    "print(np.mean(diffs[:-2]))\n"
   ]
  },
  {
   "cell_type": "code",
   "execution_count": 10,
   "metadata": {},
   "outputs": [
    {
     "name": "stdout",
     "output_type": "stream",
     "text": [
      "72.41645\n",
      "[91.65105 81.08615 91.88125 84.81835 77.77095 90.7027  91.34445 67.42825\n",
      " 77.40465]\n",
      "[14.2464   3.6815  14.4766   7.4137   0.3663  13.29805 13.9398 ]\n"
     ]
    },
    {
     "data": {
      "text/plain": [
       "9.63176428571428"
      ]
     },
     "execution_count": 10,
     "metadata": {},
     "output_type": "execute_result"
    }
   ],
   "source": [
    "mean_accs = accuracies / 2\n",
    "diffs = mean_accs - mean_accs[-1]#(np.mean(mean_accs[-2:]))\n",
    "print((np.mean(mean_accs[-2:])))\n",
    "print(mean_accs)\n",
    "print(diffs[:-2])\n",
    "np.mean(diffs[:-2])"
   ]
  },
  {
   "cell_type": "code",
   "execution_count": 17,
   "metadata": {},
   "outputs": [],
   "source": [
    "import json\n",
    "import numpy as np\n",
    "\n",
    "with open(\"results_rlc.json\", 'r') as f:\n",
    "    data_rlc = json.load(f)\n",
    "\n",
    "with open(\"results_dlc.json\", 'r') as f:\n",
    "    data_dlc = json.load(f)\n",
    "\n",
    "with open(\"results_o.json\", 'r') as f:\n",
    "    data_o = json.load(f)"
   ]
  },
  {
   "cell_type": "code",
   "execution_count": 18,
   "metadata": {},
   "outputs": [
    {
     "name": "stdout",
     "output_type": "stream",
     "text": [
      "Mean difference (DLC): 0.42548571428571336\n",
      "Mean difference (O): 3.861157142857143\n"
     ]
    }
   ],
   "source": [
    "subject_accs_rlc = np.array([x['SUBJECT']['Accuracy'] for x in data_rlc.values()])\n",
    "subject_accs_dlc = np.array([x['SUBJECT']['Accuracy'] for x in data_dlc.values()])\n",
    "subject_accs_o = np.array([x['SUBJECT']['Accuracy'] for x in data_o.values()])\n",
    "\n",
    "print(f\"Mean difference (DLC): {np.mean(subject_accs_rlc[:-2] - subject_accs_dlc[:-2])}\")\n",
    "print(f\"Mean difference (O): {np.mean(subject_accs_rlc[:-2] - subject_accs_o[:-2])}\")"
   ]
  },
  {
   "cell_type": "code",
   "execution_count": 19,
   "metadata": {},
   "outputs": [
    {
     "name": "stdout",
     "output_type": "stream",
     "text": [
      "Mean difference (DLC): -0.20595714285714248\n",
      "Mean difference (O): 1.7003000000000026\n"
     ]
    }
   ],
   "source": [
    "liveness_accs_rlc = np.array([x['LIVENESS']['Accuracy'] for x in data_rlc.values()])\n",
    "liveness_accs_dlc = np.array([x['LIVENESS']['Accuracy'] for x in data_dlc.values()])\n",
    "liveness_accs_o = np.array([x['LIVENESS']['Accuracy'] for x in data_o.values()])\n",
    "\n",
    "print(f\"Mean difference (DLC): {np.mean(liveness_accs_rlc[:-2] - liveness_accs_dlc[:-2])}\")\n",
    "print(f\"Mean difference (O): {np.mean(liveness_accs_rlc[:-2] - liveness_accs_o[:-2])}\")"
   ]
  }
 ],
 "metadata": {
  "kernelspec": {
   "display_name": "3dfr",
   "language": "python",
   "name": "python3"
  },
  "language_info": {
   "codemirror_mode": {
    "name": "ipython",
    "version": 3
   },
   "file_extension": ".py",
   "mimetype": "text/x-python",
   "name": "python",
   "nbconvert_exporter": "python",
   "pygments_lexer": "ipython3",
   "version": "3.9.2"
  }
 },
 "nbformat": 4,
 "nbformat_minor": 2
}
