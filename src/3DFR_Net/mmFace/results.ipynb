{
 "cells": [
  {
   "cell_type": "code",
   "execution_count": 2,
   "metadata": {},
   "outputs": [],
   "source": [
    "import json\n",
    "\n",
    "with open(\"results.json\", 'r') as f:\n",
    "    data = json.load(f)"
   ]
  },
  {
   "cell_type": "code",
   "execution_count": 3,
   "metadata": {},
   "outputs": [
    {
     "name": "stdout",
     "output_type": "stream",
     "text": [
      "Averaged Accuracies: \n",
      "[91.65105 81.08615 91.88125 84.81835 77.77095 90.7027  91.34445 67.42825\n",
      " 77.40465]\n",
      "\n",
      "Averaged Micro-Accuracies: \n",
      "[0.914  0.81   0.901  0.808  0.743  0.8875 0.845  0.5385 0.7435]\n",
      "\n",
      "Averaged F_{0.5} Scores: \n",
      "[0.9151  0.8105  0.9158  0.84415 0.7777  0.9029  0.90045 0.64305 0.77775]\n",
      "\n",
      "Macro-Averaged AUCs: \n",
      "[0.7427, 0.6672, 0.7282, 0.9204, 0.8511, 0.8562, 0.8229, 0.5377, 0.9117]\n",
      "\n",
      "KL Divergences: \n",
      "[0.9501, 1.2934, 0.5468, 0.2155, 0.2394, 0.3653, 0.4775, 2.0042, 0.1948]\n",
      "\n",
      "Coverages: \n",
      "[99.7194, 99.9065, 98.0823, 95.276, 95.58, 97.8485, 92.5398, 79.841, 97.4977]\n"
     ]
    }
   ],
   "source": [
    "import numpy as np\n",
    "\n",
    "accuracies = np.array([x[\"SUBJECT\"][\"Accuracy\"] + x[\"LIVENESS\"][\"Accuracy\"] for x in data.values()])\n",
    "f1_scores = np.array([x[\"SUBJECT\"][\"Weighted-Averaged F-Score\"] + x[\"LIVENESS\"][\"Weighted-Averaged F-Score\"] for x in data.values()])\n",
    "micro_accuracies = np.array([x[\"SUBJECT\"][\"Micro-Accuracy\"] + x[\"LIVENESS\"][\"Micro-Accuracy\"] for x in data.values()])\n",
    "\n",
    "print(f\"Averaged Accuracies: \\n{accuracies / 2}\\n\")\n",
    "print(f\"Averaged Micro-Accuracies: \\n{micro_accuracies / 2}\\n\")\n",
    "print(f\"Averaged F_{{0.5}} Scores: \\n{f1_scores / 2}\\n\")\n",
    "print(f\"Macro-Averaged AUCs: \\n{[x['Macro-Averaged AUC'] for x in data.values()]}\\n\")\n",
    "print(f\"KL Divergences: \\n{[x['KL Divergence'] for x in data.values()]}\\n\")\n",
    "print(f\"Coverages: \\n{[x['Coverage'] for x in data.values()]}\")"
   ]
  }
 ],
 "metadata": {
  "kernelspec": {
   "display_name": "3dfr",
   "language": "python",
   "name": "python3"
  },
  "language_info": {
   "codemirror_mode": {
    "name": "ipython",
    "version": 3
   },
   "file_extension": ".py",
   "mimetype": "text/x-python",
   "name": "python",
   "nbconvert_exporter": "python",
   "pygments_lexer": "ipython3",
   "version": "3.9.2"
  }
 },
 "nbformat": 4,
 "nbformat_minor": 2
}
