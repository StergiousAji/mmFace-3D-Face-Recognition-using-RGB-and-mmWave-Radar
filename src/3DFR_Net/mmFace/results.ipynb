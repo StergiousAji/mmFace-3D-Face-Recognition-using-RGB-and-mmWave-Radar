{
 "cells": [
  {
   "cell_type": "code",
   "execution_count": 6,
   "metadata": {},
   "outputs": [],
   "source": [
    "import json\n",
    "\n",
    "with open(\"results_o.json\", 'r') as f:\n",
    "    data = json.load(f)"
   ]
  },
  {
   "cell_type": "code",
   "execution_count": 7,
   "metadata": {},
   "outputs": [
    {
     "name": "stdout",
     "output_type": "stream",
     "text": [
      "Averaged Accuracies: \n",
      "[91.41085 78.74015 88.4375  82.43145 77.56045 88.7011  82.48515 69.7244\n",
      " 78.5201 ]\n",
      "\n",
      "Averaged Micro-Accuracies: \n",
      "[0.91115 0.78125 0.8291  0.7637  0.70995 0.87145 0.8125  0.5765  0.7116 ]\n",
      "\n",
      "Averaged F_{0.5} Scores: \n",
      "[0.91305 0.781   0.87155 0.81645 0.7654  0.88525 0.8106  0.6668  0.7681 ]\n",
      "\n",
      "Macro-Averaged AUCs: \n",
      "[0.9466, 0.8945, 0.908, 0.8905, 0.8157, 0.9351, 0.9076, 0.7606, 0.8611]\n",
      "\n",
      "KL Divergences: \n",
      "[0.4534, 0.8458, 0.317, 0.2186, 0.2577, 0.2422, 0.2505, 1.443, 0.1487]\n",
      "\n",
      "Coverages: \n",
      "[99.6745, 99.2188, 93.75, 92.6432, 91.5365, 98.2422, 98.5026, 82.6823, 90.625]\n"
     ]
    }
   ],
   "source": [
    "import numpy as np\n",
    "\n",
    "accuracies = np.array([x[\"SUBJECT\"][\"Accuracy\"] + x[\"LIVENESS\"][\"Accuracy\"] for x in data.values()])\n",
    "f1_scores = np.array([x[\"SUBJECT\"][\"Weighted-Averaged F-Score\"] + x[\"LIVENESS\"][\"Weighted-Averaged F-Score\"] for x in data.values()])\n",
    "micro_accuracies = np.array([x[\"SUBJECT\"][\"Micro-Accuracy\"] + x[\"LIVENESS\"][\"Micro-Accuracy\"] for x in data.values()])\n",
    "\n",
    "print(f\"Averaged Accuracies: \\n{accuracies / 2}\\n\")\n",
    "print(f\"Averaged Micro-Accuracies: \\n{micro_accuracies / 2}\\n\")\n",
    "print(f\"Averaged F_{{0.5}} Scores: \\n{f1_scores / 2}\\n\")\n",
    "print(f\"Macro-Averaged AUCs: \\n{[x['Macro-Averaged AUC'] for x in data.values()]}\\n\")\n",
    "print(f\"KL Divergences: \\n{[x['KL Divergence'] for x in data.values()]}\\n\")\n",
    "print(f\"Coverages: \\n{[x['Coverage'] for x in data.values()]}\")"
   ]
  },
  {
   "cell_type": "code",
   "execution_count": 10,
   "metadata": {},
   "outputs": [
    {
     "name": "stdout",
     "output_type": "stream",
     "text": [
      "72.41645\n",
      "[91.65105 81.08615 91.88125 84.81835 77.77095 90.7027  91.34445 67.42825\n",
      " 77.40465]\n",
      "[14.2464   3.6815  14.4766   7.4137   0.3663  13.29805 13.9398 ]\n"
     ]
    },
    {
     "data": {
      "text/plain": [
       "9.63176428571428"
      ]
     },
     "execution_count": 10,
     "metadata": {},
     "output_type": "execute_result"
    }
   ],
   "source": [
    "mean_accs = accuracies / 2\n",
    "diffs = mean_accs - mean_accs[-1]#(np.mean(mean_accs[-2:]))\n",
    "print((np.mean(mean_accs[-2:])))\n",
    "print(mean_accs)\n",
    "print(diffs[:-2])\n",
    "np.mean(diffs[:-2])"
   ]
  }
 ],
 "metadata": {
  "kernelspec": {
   "display_name": "3dfr",
   "language": "python",
   "name": "python3"
  },
  "language_info": {
   "codemirror_mode": {
    "name": "ipython",
    "version": 3
   },
   "file_extension": ".py",
   "mimetype": "text/x-python",
   "name": "python",
   "nbconvert_exporter": "python",
   "pygments_lexer": "ipython3",
   "version": "3.9.2"
  }
 },
 "nbformat": 4,
 "nbformat_minor": 2
}
