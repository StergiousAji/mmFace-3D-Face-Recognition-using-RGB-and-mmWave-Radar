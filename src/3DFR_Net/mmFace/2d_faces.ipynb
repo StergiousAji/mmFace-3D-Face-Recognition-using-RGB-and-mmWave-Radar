{
 "cells": [
  {
   "cell_type": "code",
   "execution_count": 28,
   "metadata": {},
   "outputs": [
    {
     "name": "stderr",
     "output_type": "stream",
     "text": [
      "C:\\Users\\jovin\\AppData\\Local\\Temp\\ipykernel_4836\\1252970644.py:3: DeprecationWarning: Importing display from IPython.core.display is deprecated since IPython 7.14, please import from IPython display\n",
      "  from IPython.core.display import *\n",
      "C:\\Users\\jovin\\AppData\\Local\\Temp\\ipykernel_4836\\1252970644.py:3: DeprecationWarning: Importing clear_output from IPython.core.display is deprecated since IPython 7.14, please import from IPython display\n",
      "  from IPython.core.display import *\n",
      "C:\\Users\\jovin\\AppData\\Local\\Temp\\ipykernel_4836\\1252970644.py:3: DeprecationWarning: Importing publish_display_data from IPython.core.display is deprecated since IPython 7.14, please import from IPython display\n",
      "  from IPython.core.display import *\n",
      "C:\\Users\\jovin\\AppData\\Local\\Temp\\ipykernel_4836\\1252970644.py:3: DeprecationWarning: Importing update_display from IPython.core.display is deprecated since IPython 7.14, please import from IPython display\n",
      "  from IPython.core.display import *\n",
      "C:\\Users\\jovin\\AppData\\Local\\Temp\\ipykernel_4836\\1252970644.py:3: DeprecationWarning: Importing DisplayHandle from IPython.core.display is deprecated since IPython 7.14, please import from IPython display\n",
      "  from IPython.core.display import *\n"
     ]
    },
    {
     "name": "stderr",
     "output_type": "stream",
     "text": [
      "100%|██████████| 21/21 [00:02<00:00,  8.08it/s]\n"
     ]
    }
   ],
   "source": [
    "import matplotlib.pyplot as plt\n",
    "import numpy as np\n",
    "from IPython.core.display import *\n",
    "from IPython.lib.display import *\n",
    "from PIL import Image\n",
    "from tqdm import tqdm\n",
    "\n",
    "DATA_FOLDER = \"../../Soli/soli_realsense/data\"\n",
    "\n",
    "for subject in tqdm(range(21)):\n",
    "    for exp in [0, 5, 10]:\n",
    "        frame = np.load(f\"{DATA_FOLDER}/{subject}/{subject}-{exp}_colour.npy\").astype(np.uint8)[0]\n",
    "        Image.fromarray(frame).save(f\"frontal_images/{subject}_{exp}.jpg\")\n"
   ]
  }
 ],
 "metadata": {
  "kernelspec": {
   "display_name": "3dfr",
   "language": "python",
   "name": "python3"
  },
  "language_info": {
   "codemirror_mode": {
    "name": "ipython",
    "version": 3
   },
   "file_extension": ".py",
   "mimetype": "text/x-python",
   "name": "python",
   "nbconvert_exporter": "python",
   "pygments_lexer": "ipython3",
   "version": "3.9.2"
  }
 },
 "nbformat": 4,
 "nbformat_minor": 2
}
