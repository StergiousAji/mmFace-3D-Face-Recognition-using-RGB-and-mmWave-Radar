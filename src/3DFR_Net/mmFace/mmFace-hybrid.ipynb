{
 "cells": [
  {
   "cell_type": "markdown",
   "metadata": {},
   "source": [
    "# mmFace + InsightFace2D Hybrid Model"
   ]
  },
  {
   "cell_type": "markdown",
   "metadata": {},
   "source": [
    "## Build and Load Dataset"
   ]
  },
  {
   "cell_type": "markdown",
   "metadata": {},
   "source": [
    "Real Dataset:\n",
    "- 21 Subjects, 15 Experiments\n",
    "  * Total 250 ARD frames -> Shuffle -> Take first 15 frames and split\n",
    "  * Total 10 RGB embeddings -> Filter undetected -> Shuffle and Fill 15 frames and split\n",
    "\n",
    "`15*15*21 = 4725 Data Points`\n",
    "\n",
    "Fake Dataset:\n",
    "- 21 Subjects, 3 Experiments\n",
    "  * Total 74 ARD frames -> Shuffle -> Split\n",
    "  * Total 10 RGB embeddings -> Filter undetected -> Shuffle and Fill 74 frames and split\n",
    "\n",
    "`74*3*21 = 4662 Data Points`\n",
    "\n",
    "`NB: If no RGB embedding for an subject experiment, need to completely remove that`"
   ]
  },
  {
   "cell_type": "code",
   "execution_count": 12,
   "metadata": {},
   "outputs": [
    {
     "name": "stdout",
     "output_type": "stream",
     "text": [
      "cuda \n",
      "\n"
     ]
    },
    {
     "name": "stdout",
     "output_type": "stream",
     "text": [
      "Train (Radar): torch.Size([4628, 3, 32, 16])\n",
      "Train (RGB Embeddings): torch.Size([4628, 512])\n",
      "Validation (Radar): torch.Size([788, 3, 32, 16])\n",
      "Validation (RGB Embeddings): torch.Size([788, 512])\n",
      "Test (Radar): torch.Size([788, 3, 32, 16])\n",
      "Test (RGB Embeddings): torch.Size([788, 512])\n",
      "Allocated: 0.16 GB\n"
     ]
    }
   ],
   "source": [
    "from hybrid_dataset import load_dataset, load_dataset_subject\n",
    "from tqdm import tqdm\n",
    "import numpy as np\n",
    "import torch\n",
    "import os\n",
    "\n",
    "device = torch.device('cuda' if torch.cuda.is_available() else 'cpu')\n",
    "print(device, '\\n')\n",
    "\n",
    "RAW_PATH = os.path.relpath(\"../../Soli/soli_realsense/data\")\n",
    "num_subjects = 21\n",
    "\n",
    "torch.cuda.empty_cache()\n",
    "# train, validation, test = load_dataset(RAW_PATH, num_subjects)\n",
    "train, validation, test = load_dataset_subject(RAW_PATH, num_subjects, batch_size=128, train_split=15/21, test_split=3/21, seed=seed)"
   ]
  },
  {
   "cell_type": "markdown",
   "metadata": {},
   "source": [
    "## Model Creation and Loading"
   ]
  },
  {
   "cell_type": "code",
   "execution_count": 3,
   "metadata": {},
   "outputs": [
    {
     "name": "stdout",
     "output_type": "stream",
     "text": [
      "[Errno 2] No such file or directory: 'models/mmFace-hybrid-1,1-ZERO_SHOT-52-15.3.pt'\n"
     ]
    }
   ],
   "source": [
    "from neural_nets import MMFaceHybrid\n",
    "from utils import load_model, load_history\n",
    "from torch import nn\n",
    "\n",
    "num_epochs = 20\n",
    "learning_rate = 0.01\n",
    "\n",
    "lambda1, lambda2 = 1, 1\n",
    "\n",
    "model = MMFaceHybrid(num_subjects).to(device)\n",
    "\n",
    "# Loss + Optimiser\n",
    "criterion = nn.CrossEntropyLoss()\n",
    "optimiser = torch.optim.SGD(model.parameters(), lr=learning_rate, weight_decay=0.001, momentum=0.9)\n",
    "\n",
    "model_name = f\"mmFace-hybrid-{lambda1},{lambda2}-ZERO_SHOT-{seed}-15.3.pt\"\n",
    "cur_epoch, loss_history, train_acc, val_acc = load_model(model_name, model, optimiser)\n",
    "\n",
    "if len(loss_history) > 0:\n",
    "    print(f\"{model_name}\\n\\tEpoch: {cur_epoch}\\n\\tLoss: {loss_history[-1]:.4f}\\n\\tTrain Accuracy: {train_acc[-1]}\\n\\tValidation Accuracy: {val_acc[-1]}\")"
   ]
  },
  {
   "cell_type": "markdown",
   "metadata": {},
   "source": [
    "## Training"
   ]
  },
  {
   "cell_type": "code",
   "execution_count": 4,
   "metadata": {},
   "outputs": [
    {
     "name": "stdout",
     "output_type": "stream",
     "text": [
      "\n",
      "Epoch [0/19]:\n"
     ]
    },
    {
     "name": "stderr",
     "output_type": "stream",
     "text": [
      "  0%|          | 0/32 [00:00<?, ?it/s]"
     ]
    },
    {
     "name": "stderr",
     "output_type": "stream",
     "text": [
      "100%|██████████| 32/32 [00:01<00:00, 26.99it/s]\n"
     ]
    },
    {
     "name": "stdout",
     "output_type": "stream",
     "text": [
      "\tAverage Train Loss: 1.4869\n",
      "\tTrain Accuracy (Subjects): 84.8805%\n",
      "\tTrain Accuracy (Liveness): 90.4151%\n",
      "\tValidation Accuracy (Subject): 0.0000%\n",
      "\tValidation Accuracy (Liveness): 83.3333%\n",
      "\n",
      "Epoch [1/19]:\n"
     ]
    },
    {
     "name": "stderr",
     "output_type": "stream",
     "text": [
      "100%|██████████| 32/32 [00:00<00:00, 50.02it/s]\n"
     ]
    },
    {
     "name": "stdout",
     "output_type": "stream",
     "text": [
      "\tAverage Train Loss: 0.1981\n",
      "\tTrain Accuracy (Subjects): 100.0000%\n",
      "\tTrain Accuracy (Liveness): 99.5723%\n",
      "\tValidation Accuracy (Subject): 0.0000%\n",
      "\tValidation Accuracy (Liveness): 98.2716%\n",
      "\n",
      "Epoch [2/19]:\n"
     ]
    },
    {
     "name": "stderr",
     "output_type": "stream",
     "text": [
      "100%|██████████| 32/32 [00:00<00:00, 56.06it/s]\n"
     ]
    },
    {
     "name": "stdout",
     "output_type": "stream",
     "text": [
      "\tAverage Train Loss: 0.0710\n",
      "\tTrain Accuracy (Subjects): 100.0000%\n",
      "\tTrain Accuracy (Liveness): 99.7987%\n",
      "\tValidation Accuracy (Subject): 0.0000%\n",
      "\tValidation Accuracy (Liveness): 96.0494%\n",
      "\n",
      "Epoch [3/19]:\n"
     ]
    },
    {
     "name": "stderr",
     "output_type": "stream",
     "text": [
      "100%|██████████| 32/32 [00:00<00:00, 55.14it/s]\n"
     ]
    },
    {
     "name": "stdout",
     "output_type": "stream",
     "text": [
      "\tAverage Train Loss: 0.0475\n",
      "\tTrain Accuracy (Subjects): 100.0000%\n",
      "\tTrain Accuracy (Liveness): 99.8742%\n",
      "\tValidation Accuracy (Subject): 0.0000%\n",
      "\tValidation Accuracy (Liveness): 96.6667%\n",
      "\n",
      "Epoch [4/19]:\n"
     ]
    },
    {
     "name": "stderr",
     "output_type": "stream",
     "text": [
      "100%|██████████| 32/32 [00:00<00:00, 55.87it/s]\n"
     ]
    },
    {
     "name": "stdout",
     "output_type": "stream",
     "text": [
      "\tAverage Train Loss: 0.0419\n",
      "\tTrain Accuracy (Subjects): 100.0000%\n",
      "\tTrain Accuracy (Liveness): 99.9245%\n",
      "\tValidation Accuracy (Subject): 0.0000%\n",
      "\tValidation Accuracy (Liveness): 96.7901%\n",
      "\n",
      "Epoch [5/19]:\n"
     ]
    },
    {
     "name": "stderr",
     "output_type": "stream",
     "text": [
      "100%|██████████| 32/32 [00:00<00:00, 56.65it/s]\n"
     ]
    },
    {
     "name": "stdout",
     "output_type": "stream",
     "text": [
      "\tAverage Train Loss: 0.0332\n",
      "\tTrain Accuracy (Subjects): 100.0000%\n",
      "\tTrain Accuracy (Liveness): 99.9748%\n",
      "\tValidation Accuracy (Subject): 0.0000%\n",
      "\tValidation Accuracy (Liveness): 89.1358%\n",
      "\n",
      "Epoch [6/19]:\n"
     ]
    },
    {
     "name": "stderr",
     "output_type": "stream",
     "text": [
      "100%|██████████| 32/32 [00:00<00:00, 57.51it/s]\n"
     ]
    },
    {
     "name": "stdout",
     "output_type": "stream",
     "text": [
      "\tAverage Train Loss: 0.0291\n",
      "\tTrain Accuracy (Subjects): 100.0000%\n",
      "\tTrain Accuracy (Liveness): 100.0000%\n",
      "\tValidation Accuracy (Subject): 0.0000%\n",
      "\tValidation Accuracy (Liveness): 94.5679%\n",
      "\n",
      "Epoch [7/19]:\n"
     ]
    },
    {
     "name": "stderr",
     "output_type": "stream",
     "text": [
      "100%|██████████| 32/32 [00:00<00:00, 57.22it/s]\n"
     ]
    },
    {
     "name": "stdout",
     "output_type": "stream",
     "text": [
      "\tAverage Train Loss: 0.0341\n",
      "\tTrain Accuracy (Subjects): 100.0000%\n",
      "\tTrain Accuracy (Liveness): 99.8742%\n",
      "\tValidation Accuracy (Subject): 0.0000%\n",
      "\tValidation Accuracy (Liveness): 95.6790%\n",
      "\n",
      "Epoch [8/19]:\n"
     ]
    },
    {
     "name": "stderr",
     "output_type": "stream",
     "text": [
      "100%|██████████| 32/32 [00:00<00:00, 51.85it/s]\n"
     ]
    },
    {
     "name": "stdout",
     "output_type": "stream",
     "text": [
      "\tAverage Train Loss: 0.0235\n",
      "\tTrain Accuracy (Subjects): 100.0000%\n",
      "\tTrain Accuracy (Liveness): 99.8742%\n",
      "\tValidation Accuracy (Subject): 0.0000%\n",
      "\tValidation Accuracy (Liveness): 95.3086%\n",
      "\n",
      "Epoch [9/19]:\n"
     ]
    },
    {
     "name": "stderr",
     "output_type": "stream",
     "text": [
      "100%|██████████| 32/32 [00:00<00:00, 56.67it/s]\n"
     ]
    },
    {
     "name": "stdout",
     "output_type": "stream",
     "text": [
      "\tAverage Train Loss: 0.0174\n",
      "\tTrain Accuracy (Subjects): 100.0000%\n",
      "\tTrain Accuracy (Liveness): 100.0000%\n",
      "\tValidation Accuracy (Subject): 0.0000%\n",
      "\tValidation Accuracy (Liveness): 93.3333%\n",
      "\n",
      "Epoch [10/19]:\n"
     ]
    },
    {
     "name": "stderr",
     "output_type": "stream",
     "text": [
      "100%|██████████| 32/32 [00:00<00:00, 55.63it/s]\n"
     ]
    },
    {
     "name": "stdout",
     "output_type": "stream",
     "text": [
      "\tAverage Train Loss: 0.0157\n",
      "\tTrain Accuracy (Subjects): 100.0000%\n",
      "\tTrain Accuracy (Liveness): 100.0000%\n",
      "\tValidation Accuracy (Subject): 0.0000%\n",
      "\tValidation Accuracy (Liveness): 88.0247%\n",
      "\n",
      "Epoch [11/19]:\n"
     ]
    },
    {
     "name": "stderr",
     "output_type": "stream",
     "text": [
      "100%|██████████| 32/32 [00:00<00:00, 56.46it/s]\n"
     ]
    },
    {
     "name": "stdout",
     "output_type": "stream",
     "text": [
      "\tAverage Train Loss: 0.0137\n",
      "\tTrain Accuracy (Subjects): 100.0000%\n",
      "\tTrain Accuracy (Liveness): 99.9497%\n",
      "\tValidation Accuracy (Subject): 0.0000%\n",
      "\tValidation Accuracy (Liveness): 88.5185%\n",
      "\n",
      "Epoch [12/19]:\n"
     ]
    },
    {
     "name": "stderr",
     "output_type": "stream",
     "text": [
      "100%|██████████| 32/32 [00:00<00:00, 56.82it/s]\n"
     ]
    },
    {
     "name": "stdout",
     "output_type": "stream",
     "text": [
      "\tAverage Train Loss: 0.0162\n",
      "\tTrain Accuracy (Subjects): 100.0000%\n",
      "\tTrain Accuracy (Liveness): 100.0000%\n",
      "\tValidation Accuracy (Subject): 0.0000%\n",
      "\tValidation Accuracy (Liveness): 89.3827%\n",
      "\n",
      "Epoch [13/19]:\n"
     ]
    },
    {
     "name": "stderr",
     "output_type": "stream",
     "text": [
      "100%|██████████| 32/32 [00:00<00:00, 57.18it/s]\n"
     ]
    },
    {
     "name": "stdout",
     "output_type": "stream",
     "text": [
      "\tAverage Train Loss: 0.0130\n",
      "\tTrain Accuracy (Subjects): 100.0000%\n",
      "\tTrain Accuracy (Liveness): 100.0000%\n",
      "\tValidation Accuracy (Subject): 0.0000%\n",
      "\tValidation Accuracy (Liveness): 94.4444%\n",
      "\n",
      "Epoch [14/19]:\n"
     ]
    },
    {
     "name": "stderr",
     "output_type": "stream",
     "text": [
      "100%|██████████| 32/32 [00:00<00:00, 55.30it/s]\n"
     ]
    },
    {
     "name": "stdout",
     "output_type": "stream",
     "text": [
      "\tAverage Train Loss: 0.0137\n",
      "\tTrain Accuracy (Subjects): 100.0000%\n",
      "\tTrain Accuracy (Liveness): 100.0000%\n",
      "\tValidation Accuracy (Subject): 0.0000%\n",
      "\tValidation Accuracy (Liveness): 86.6667%\n",
      "\n",
      "Epoch [15/19]:\n"
     ]
    },
    {
     "name": "stderr",
     "output_type": "stream",
     "text": [
      "100%|██████████| 32/32 [00:00<00:00, 51.21it/s]\n"
     ]
    },
    {
     "name": "stdout",
     "output_type": "stream",
     "text": [
      "\tAverage Train Loss: 0.0164\n",
      "\tTrain Accuracy (Subjects): 100.0000%\n",
      "\tTrain Accuracy (Liveness): 100.0000%\n",
      "\tValidation Accuracy (Subject): 0.0000%\n",
      "\tValidation Accuracy (Liveness): 85.9259%\n",
      "\n",
      "Epoch [16/19]:\n"
     ]
    },
    {
     "name": "stderr",
     "output_type": "stream",
     "text": [
      "100%|██████████| 32/32 [00:00<00:00, 50.90it/s]\n"
     ]
    },
    {
     "name": "stdout",
     "output_type": "stream",
     "text": [
      "\tAverage Train Loss: 0.0154\n",
      "\tTrain Accuracy (Subjects): 100.0000%\n",
      "\tTrain Accuracy (Liveness): 99.8742%\n",
      "\tValidation Accuracy (Subject): 0.0000%\n",
      "\tValidation Accuracy (Liveness): 97.9012%\n",
      "\n",
      "Epoch [17/19]:\n"
     ]
    },
    {
     "name": "stderr",
     "output_type": "stream",
     "text": [
      "100%|██████████| 32/32 [00:00<00:00, 55.82it/s]\n"
     ]
    },
    {
     "name": "stdout",
     "output_type": "stream",
     "text": [
      "\tAverage Train Loss: 0.0138\n",
      "\tTrain Accuracy (Subjects): 100.0000%\n",
      "\tTrain Accuracy (Liveness): 99.9748%\n",
      "\tValidation Accuracy (Subject): 0.0000%\n",
      "\tValidation Accuracy (Liveness): 93.7037%\n",
      "\n",
      "Epoch [18/19]:\n"
     ]
    },
    {
     "name": "stderr",
     "output_type": "stream",
     "text": [
      "100%|██████████| 32/32 [00:00<00:00, 57.69it/s]\n"
     ]
    },
    {
     "name": "stdout",
     "output_type": "stream",
     "text": [
      "\tAverage Train Loss: 0.0115\n",
      "\tTrain Accuracy (Subjects): 100.0000%\n",
      "\tTrain Accuracy (Liveness): 100.0000%\n",
      "\tValidation Accuracy (Subject): 0.0000%\n",
      "\tValidation Accuracy (Liveness): 86.5432%\n",
      "\n",
      "Epoch [19/19]:\n"
     ]
    },
    {
     "name": "stderr",
     "output_type": "stream",
     "text": [
      "100%|██████████| 32/32 [00:00<00:00, 57.60it/s]\n"
     ]
    },
    {
     "name": "stdout",
     "output_type": "stream",
     "text": [
      "\tAverage Train Loss: 0.0134\n",
      "\tTrain Accuracy (Subjects): 100.0000%\n",
      "\tTrain Accuracy (Liveness): 100.0000%\n",
      "\tValidation Accuracy (Subject): 0.0000%\n",
      "\tValidation Accuracy (Liveness): 98.1481%\n"
     ]
    }
   ],
   "source": [
    "for epoch in range(cur_epoch, num_epochs):\n",
    "    print(f\"\\nEpoch [{epoch}/{num_epochs-1}]:\")\n",
    "    if os.path.exists(f\"models/{model_name}\"):\n",
    "        loss_history, train_acc, val_acc = load_history(f\"models/{model_name}\")\n",
    "\n",
    "    model.train()\n",
    "    # Running Loss and Accuracy\n",
    "    running_loss, running_acc_s, running_acc_l, total_s, total_l = 0., 0., 0., 0., 0.\n",
    "\n",
    "    for radar, rgb_emb, labels_s, labels_l in tqdm(train):\n",
    "        # Forward Pass\n",
    "        out1, out2 = model(radar, rgb_emb)\n",
    "        _, preds_s = torch.max(out1.data, 1)\n",
    "        _, preds_l = torch.max(out2.data, 1)\n",
    "        loss1 = criterion(out1, labels_s)\n",
    "        loss2 = criterion(out2, labels_l)\n",
    "        loss = lambda1*loss1 + lambda2*loss2\n",
    "\n",
    "        # Backward Pass and Optimise\n",
    "        optimiser.zero_grad()\n",
    "        loss.backward()\n",
    "        optimiser.step()\n",
    "\n",
    "        running_loss += loss.item()\n",
    "        total_s += labels_s.size(0)\n",
    "        total_l += labels_l.size(0)\n",
    "        running_acc_s += (preds_s == labels_s).sum().item()\n",
    "        running_acc_l += (preds_l == labels_l).sum().item()\n",
    "\n",
    "        del radar, rgb_emb, labels_s, labels_l, out1, out2\n",
    "        torch.cuda.empty_cache()\n",
    "    \n",
    "    avg_train_loss = running_loss/len(train)\n",
    "    avg_train_acc_s = 100*running_acc_s/total_s\n",
    "    avg_train_acc_l = 100*running_acc_l/total_l\n",
    "    print(f\"\\tAverage Train Loss: {avg_train_loss:.4f}\")\n",
    "    print(f\"\\tTrain Accuracy (Subjects): {avg_train_acc_s:.4f}%\")\n",
    "    print(f\"\\tTrain Accuracy (Liveness): {avg_train_acc_l:.4f}%\")\n",
    "\n",
    "    torch.save({\"epoch\": epoch+1,\n",
    "                \"model_state_dict\": model.state_dict(),\n",
    "                \"optimiser_state_dict\": optimiser.state_dict(),\n",
    "                \"loss_history\": loss_history + [avg_train_loss],\n",
    "                \"train_acc\": train_acc + [(avg_train_acc_s, avg_train_acc_l)],\n",
    "                \"val_acc\": val_acc},\n",
    "                f\"models/{model_name}\")\n",
    "    \n",
    "    # Validation\n",
    "    model.eval()\n",
    "    with torch.no_grad():\n",
    "        correct_s, correct_l, total_s, total_l = 0., 0., 0., 0.\n",
    "        for radar, rgb_emb, labels_s, labels_l in validation:\n",
    "            out1, out2 = model(radar, rgb_emb)\n",
    "            _, preds_s = torch.max(out1.data, 1)\n",
    "            _, preds_l = torch.max(out2.data, 1)\n",
    "            total_s += labels_s.size(0)\n",
    "            total_l += labels_l.size(0)\n",
    "            correct_s += (preds_s == labels_s).sum().item()\n",
    "            correct_l += (preds_l == labels_l).sum().item()\n",
    "            del radar, rgb_emb, labels_s, labels_l, out1, out2\n",
    "        \n",
    "        avg_val_acc_s = 100*correct_s/total_s\n",
    "        avg_val_acc_l = 100*correct_l/total_l\n",
    "        print(f\"\\tValidation Accuracy (Subject): {avg_val_acc_s:.4f}%\")\n",
    "        print(f\"\\tValidation Accuracy (Liveness): {avg_val_acc_l:.4f}%\")\n",
    "\n",
    "    model_checkpoint = torch.load(f\"models/{model_name}\")\n",
    "    model_checkpoint[\"val_acc\"].append((avg_val_acc_s, avg_val_acc_l))\n",
    "    torch.save(model_checkpoint, f\"models/{model_name}\")"
   ]
  },
  {
   "cell_type": "markdown",
   "metadata": {},
   "source": [
    "## Testing"
   ]
  },
  {
   "cell_type": "code",
   "execution_count": 5,
   "metadata": {},
   "outputs": [
    {
     "name": "stdout",
     "output_type": "stream",
     "text": [
      "Test Accuracy (Subject): 0.0000%\n",
      "Test Accuracy (Liveness): 98.1481%\n",
      "[10, 20, 5, 5, 5, 5, 20, 10, 20, 10, 10, 20, 10, 20, 5, 20, 20, 10, 5, 10, 5, 5, 20, 5, 5, 20, 20, 20, 10, 5, 10, 20, 20, 20, 10, 5, 5, 5, 5, 20, 5, 10, 20, 10, 20, 10, 10, 20, 5, 20, 20, 5, 20, 10, 5, 5, 10, 5, 10, 20, 5, 5, 20, 20, 5, 20, 20, 20, 10, 20, 20, 20, 10, 5, 10, 5, 20, 5, 10, 20, 10, 20, 20, 10, 20, 20, 20, 20, 10, 20, 10, 5, 10, 5, 20, 10, 10, 10, 20, 20, 10, 10, 20, 20, 10, 20, 20, 20, 5, 5, 20, 5, 5, 10, 10, 20, 10, 20, 5, 20, 5, 20, 5, 20, 20, 5, 10, 20, 5, 5, 20, 5, 10, 5, 5, 20, 10, 20, 20, 10, 5, 20, 5, 10, 5, 5, 20, 20, 5, 10, 5, 20, 10, 20, 20, 5, 5, 20, 20, 5, 10, 20, 20, 10, 10, 5, 20, 20, 20, 10, 5, 20, 10, 10, 5, 5, 10, 20, 10, 20, 10, 10, 20, 5, 10, 20, 10, 10, 20, 5, 20, 10, 5, 20, 20, 5, 10, 5, 5, 5, 5, 20, 10, 5, 5, 20, 5, 20, 20, 5, 10, 5, 5, 5, 5, 10, 20, 20, 20, 20, 10, 10, 20, 5, 10, 20, 10, 20, 5, 5, 5, 10, 10, 10, 5, 10, 20, 20, 20, 20, 10, 5, 5, 10, 20, 5, 10, 10, 20, 20, 10, 20, 5, 5, 10, 10, 20, 5, 5, 5, 20, 5, 5, 20, 5, 10, 20, 10, 10, 5, 5, 5, 10, 5, 10, 10, 10, 20, 5, 10, 5, 20, 5, 10, 5, 5, 10, 10, 10, 10, 10, 10, 10, 20, 10, 10, 10, 10, 10, 10, 20, 20, 10, 5, 5, 20, 10, 5, 20, 20, 10, 20, 5, 10, 20, 20, 20, 5, 10, 20, 5, 20, 10, 5, 20, 10, 20, 5, 10, 10, 20, 10, 20, 5, 5, 5, 5, 10, 20, 5, 10, 20, 5, 10, 10, 20, 5, 5, 10, 20, 10, 5, 10, 5, 5, 10, 20, 5, 20, 20, 20, 20, 10, 5, 20, 5, 20, 20, 5, 5, 5, 10, 10, 5, 20, 5, 5, 5, 20, 20, 10, 5, 20, 20, 5, 10, 10, 20, 20, 5, 5, 20, 10, 20, 10, 5, 5, 5, 20, 5, 10, 5, 5, 20, 20, 20, 20, 10, 20, 5, 10, 5, 5, 10, 10, 10, 5, 5, 5, 20, 5, 10, 10, 5, 5, 5, 20, 20, 10, 5, 5, 10, 20, 10, 20, 5, 10, 10, 20, 20, 5, 5, 10, 10, 5, 5, 10, 5, 20, 5, 20, 20, 10, 10, 20, 20, 5, 5, 5, 10, 20, 20, 10, 5, 10, 5, 20, 20, 5, 20, 5, 10, 10, 10, 20, 10, 10, 10, 10, 10, 10, 20, 20, 10, 20, 5, 20, 5, 10, 20, 10, 5, 20, 10, 10, 5, 10, 10, 10, 20, 20, 20, 5, 5, 10, 10, 5, 10, 20, 10, 20, 10, 20, 20, 5, 20, 5, 10, 20, 5, 10, 10, 10, 10, 10, 5, 20, 5, 20, 20, 10, 20, 5, 20, 5, 10, 10, 5, 5, 5, 10, 10, 5, 20, 5, 20, 10, 10, 10, 5, 5, 10, 5, 5, 10, 20, 20, 5, 5, 5, 20, 20, 20, 10, 20, 20, 20, 10, 10, 20, 5, 20, 5, 20, 10, 20, 20, 5, 5, 10, 10, 10, 10, 5, 10, 20, 5, 10, 5, 10, 10, 20, 5, 5, 20, 5, 5, 10, 20, 5, 10, 5, 20, 5, 10, 10, 20, 5, 5, 20, 5, 10, 5, 20, 5, 10, 10, 10, 5, 20, 20, 5, 10, 5, 20, 5, 20, 5, 5, 20, 10, 10, 20, 20, 5, 10, 5, 20, 20, 10, 20, 5, 5, 5, 10, 10, 5, 10, 20, 10, 5, 10, 20, 10, 10, 20, 5, 10, 10, 5, 10, 5, 20, 20, 20, 5, 5, 20, 10, 10, 5, 10, 5, 20, 5, 10, 10, 10, 5, 10, 5, 10, 10, 10, 5, 10, 5, 20, 10, 20, 10, 20, 5, 10, 5, 5, 5, 10, 5, 5, 10, 20, 20, 5, 20, 5, 10, 10, 20, 10, 20, 20, 10, 5, 20, 20, 5, 20, 20, 10, 20, 5, 10, 20, 10, 5, 20, 20, 5, 10, 20, 20, 5, 10, 5, 20, 20, 10, 5, 20, 5, 20, 20, 20, 20, 5, 20, 5, 5, 20, 20, 20, 20, 20, 5, 10, 20, 10, 10, 10, 10, 20, 10, 10, 5, 5, 20, 10, 5, 5, 10, 5, 20, 5, 20, 10, 10, 10, 10, 5, 10, 20, 5, 10, 10, 20, 5, 10, 10, 20, 5, 5, 5, 20, 5, 10, 10, 10, 20, 10, 10, 10, 5, 5, 5, 5, 10, 5, 10, 10]\n",
      "[2, 19, 9, 4, 3, 3, 2, 2, 7, 2, 2, 7, 2, 8, 4, 7, 7, 2, 3, 2, 3, 3, 2, 3, 3, 7, 7, 7, 2, 3, 19, 7, 7, 7, 2, 4, 3, 3, 3, 7, 3, 2, 7, 2, 7, 2, 2, 2, 3, 7, 7, 3, 7, 2, 3, 3, 2, 3, 2, 7, 3, 12, 14, 2, 3, 7, 7, 7, 2, 7, 7, 14, 2, 3, 2, 4, 7, 9, 4, 2, 2, 14, 7, 2, 7, 7, 7, 14, 2, 7, 19, 3, 2, 3, 7, 2, 2, 2, 7, 14, 2, 2, 2, 7, 2, 7, 7, 7, 3, 4, 2, 3, 3, 2, 2, 7, 19, 7, 4, 7, 7, 7, 3, 7, 14, 3, 2, 7, 4, 3, 7, 9, 2, 3, 1, 7, 2, 7, 7, 2, 3, 14, 3, 2, 4, 1, 14, 7, 3, 2, 3, 14, 4, 7, 7, 3, 3, 7, 14, 4, 2, 7, 7, 2, 2, 4, 7, 2, 14, 2, 4, 7, 2, 2, 4, 3, 2, 14, 2, 7, 2, 2, 7, 4, 2, 7, 2, 2, 14, 3, 7, 2, 3, 7, 7, 3, 2, 3, 3, 1, 3, 7, 2, 12, 3, 2, 3, 2, 7, 3, 2, 7, 3, 1, 3, 12, 7, 7, 7, 7, 2, 2, 7, 4, 2, 7, 2, 14, 3, 3, 3, 2, 2, 2, 4, 2, 14, 7, 7, 7, 2, 4, 3, 2, 14, 3, 2, 2, 7, 7, 2, 7, 3, 3, 2, 2, 7, 3, 3, 3, 14, 3, 12, 2, 3, 2, 7, 2, 4, 3, 7, 3, 2, 12, 2, 2, 2, 7, 4, 2, 3, 7, 4, 2, 3, 4, 2, 2, 2, 2, 2, 2, 2, 7, 2, 2, 2, 2, 2, 19, 7, 7, 2, 3, 3, 2, 2, 14, 7, 7, 2, 7, 3, 2, 7, 6, 7, 3, 19, 7, 3, 7, 2, 3, 7, 2, 7, 3, 2, 2, 7, 2, 7, 3, 3, 3, 3, 2, 7, 3, 4, 7, 3, 2, 2, 7, 3, 1, 2, 7, 2, 3, 2, 3, 3, 2, 7, 3, 2, 2, 8, 14, 2, 3, 7, 3, 8, 14, 3, 3, 4, 2, 2, 4, 14, 3, 3, 9, 7, 7, 2, 3, 7, 14, 3, 2, 2, 7, 2, 4, 12, 7, 2, 7, 2, 3, 4, 3, 7, 3, 2, 12, 3, 7, 7, 14, 7, 2, 7, 3, 2, 3, 3, 2, 2, 2, 3, 3, 3, 7, 3, 2, 2, 3, 3, 3, 7, 7, 2, 3, 12, 2, 7, 2, 7, 4, 2, 2, 7, 2, 12, 3, 2, 2, 12, 1, 2, 3, 6, 3, 6, 2, 2, 2, 7, 7, 3, 3, 3, 2, 7, 14, 2, 3, 19, 3, 14, 7, 3, 2, 12, 2, 2, 2, 14, 2, 2, 2, 2, 2, 2, 7, 2, 2, 14, 4, 7, 3, 2, 2, 2, 3, 14, 2, 2, 3, 2, 2, 2, 14, 7, 2, 3, 12, 2, 2, 3, 2, 7, 2, 7, 2, 2, 7, 4, 7, 3, 2, 7, 3, 2, 2, 2, 2, 2, 9, 7, 3, 14, 14, 2, 14, 3, 14, 3, 2, 19, 3, 4, 7, 2, 2, 3, 14, 3, 7, 2, 2, 2, 3, 3, 2, 4, 4, 2, 14, 2, 3, 3, 3, 7, 7, 2, 2, 7, 7, 7, 2, 2, 7, 3, 14, 3, 7, 2, 7, 14, 3, 3, 2, 2, 19, 2, 3, 2, 7, 3, 2, 4, 2, 2, 7, 12, 3, 7, 3, 3, 4, 7, 3, 2, 4, 7, 3, 2, 2, 7, 4, 9, 7, 1, 2, 3, 7, 3, 2, 2, 2, 3, 7, 2, 3, 2, 3, 14, 3, 7, 1, 4, 7, 2, 2, 14, 2, 3, 2, 3, 8, 7, 2, 7, 3, 3, 3, 2, 2, 3, 2, 7, 2, 4, 2, 2, 2, 2, 7, 4, 2, 2, 12, 2, 4, 7, 7, 6, 3, 3, 7, 2, 2, 4, 2, 3, 7, 3, 2, 2, 2, 4, 2, 3, 2, 2, 2, 4, 2, 3, 7, 2, 7, 2, 7, 3, 2, 3, 1, 3, 2, 4, 3, 2, 7, 7, 1, 6, 3, 2, 2, 7, 2, 7, 7, 2, 3, 14, 7, 3, 14, 7, 2, 7, 3, 2, 7, 2, 3, 7, 7, 3, 2, 7, 8, 3, 2, 3, 7, 7, 2, 3, 7, 3, 14, 14, 7, 7, 3, 7, 3, 3, 7, 7, 7, 7, 2, 3, 2, 7, 2, 19, 2, 19, 7, 2, 2, 3, 3, 14, 2, 12, 4, 2, 3, 7, 3, 7, 2, 2, 2, 2, 4, 2, 7, 3, 2, 2, 2, 3, 2, 2, 7, 3, 4, 3, 7, 7, 2, 2, 2, 7, 2, 2, 2, 4, 3, 3, 3, 2, 4, 2, 2]\n"
     ]
    }
   ],
   "source": [
    "preds_subject, preds_liveness = [], []\n",
    "true_subject, true_liveness = [], []\n",
    "\n",
    "model.eval()\n",
    "with torch.no_grad():\n",
    "    correct_s, correct_l, total_s, total_l = 0., 0., 0., 0.\n",
    "    for radar, rgb_emb, labels_s, labels_l in validation:\n",
    "        out1, out2 = model(radar, rgb_emb)\n",
    "        _, preds_s = torch.max(out1.data, 1)\n",
    "        _, preds_l = torch.max(out2.data, 1)\n",
    "        total_s += labels_s.size(0)\n",
    "        total_l += labels_l.size(0)\n",
    "        correct_s += (preds_s == labels_s).sum().item()\n",
    "        correct_l += (preds_l == labels_l).sum().item()\n",
    "\n",
    "        preds_subject.extend(preds_s.cpu().numpy())\n",
    "        preds_liveness.extend(preds_l.cpu().numpy())\n",
    "        true_subject.extend(labels_s.data.cpu().numpy())\n",
    "        true_liveness.extend(labels_l.data.cpu().numpy())\n",
    "        del radar, rgb_emb, labels_s, labels_l, out1, out2\n",
    "    \n",
    "    print(f\"Test Accuracy (Subject): {100*correct_s/total_s:.4f}%\")\n",
    "    print(f\"Test Accuracy (Liveness): {100*correct_l/total_l:.4f}%\")\n",
    "\n",
    "print(true_subject)\n",
    "print(preds_subject)"
   ]
  },
  {
   "cell_type": "code",
   "execution_count": 6,
   "metadata": {},
   "outputs": [
    {
     "data": {
      "image/png": "[encoded data removed]",
      "text/plain": [
       "<Figure size 1200x360 with 2 Axes>"
      ]
     },
     "metadata": {},
     "output_type": "display_data"
    }
   ],
   "source": [
    "import matplotlib.pyplot as plt\n",
    "\n",
    "losses, train_acc, val_acc = load_history(f\"models/{model_name}\")\n",
    "\n",
    "fig, axs = plt.subplots(1, 2, figsize=(10, 3), dpi=120)\n",
    "\n",
    "axs[0].plot(range(len(train_acc)), train_acc)\n",
    "axs[0].plot(range(len(val_acc)), val_acc)\n",
    "axs[0].set_xlabel(\"Epoch\")\n",
    "axs[0].set_ylabel(\"Accuracy (%)\")\n",
    "\n",
    "axs[1].plot(range(len(losses)), losses)\n",
    "axs[1].set_xlabel(\"Epoch\")\n",
    "axs[1].set_ylabel(\"Loss\")\n",
    "\n",
    "axs[0].set_title(model_name)\n",
    "plt.show()"
   ]
  },
  {
   "cell_type": "markdown",
   "metadata": {},
   "source": [
    "### Subject Confusion Matrix"
   ]
  },
  {
   "cell_type": "code",
   "execution_count": null,
   "metadata": {},
   "outputs": [
    {
     "name": "stderr",
     "output_type": "stream",
     "text": [
      "C:\\Users\\jovin\\AppData\\Local\\Temp\\ipykernel_18044\\1227521707.py:12: RuntimeWarning: invalid value encountered in divide\n",
      "  df_cm = pd.DataFrame(cf_matrix / np.sum(cf_matrix, axis=1)[:, None], index=subject_names, columns=subject_names)\n"
     ]
    },
    {
     "ename": "ValueError",
     "evalue": "Shape of passed values is (14, 14), indices imply (21, 21)",
     "output_type": "error",
     "traceback": [
      "\u001b[1;31m---------------------------------------------------------------------------\u001b[0m",
      "\u001b[1;31mValueError\u001b[0m                                Traceback (most recent call last)",
      "Cell \u001b[1;32mIn[6], line 12\u001b[0m\n\u001b[0;32m     10\u001b[0m \u001b[38;5;66;03m# Build confusion matrix\u001b[39;00m\n\u001b[0;32m     11\u001b[0m cf_matrix \u001b[38;5;241m=\u001b[39m confusion_matrix(preds_subject, true_subject)\n\u001b[1;32m---> 12\u001b[0m df_cm \u001b[38;5;241m=\u001b[39m \u001b[43mpd\u001b[49m\u001b[38;5;241;43m.\u001b[39;49m\u001b[43mDataFrame\u001b[49m\u001b[43m(\u001b[49m\u001b[43mcf_matrix\u001b[49m\u001b[43m \u001b[49m\u001b[38;5;241;43m/\u001b[39;49m\u001b[43m \u001b[49m\u001b[43mnp\u001b[49m\u001b[38;5;241;43m.\u001b[39;49m\u001b[43msum\u001b[49m\u001b[43m(\u001b[49m\u001b[43mcf_matrix\u001b[49m\u001b[43m,\u001b[49m\u001b[43m \u001b[49m\u001b[43maxis\u001b[49m\u001b[38;5;241;43m=\u001b[39;49m\u001b[38;5;241;43m1\u001b[39;49m\u001b[43m)\u001b[49m\u001b[43m[\u001b[49m\u001b[43m:\u001b[49m\u001b[43m,\u001b[49m\u001b[43m \u001b[49m\u001b[38;5;28;43;01mNone\u001b[39;49;00m\u001b[43m]\u001b[49m\u001b[43m,\u001b[49m\u001b[43m \u001b[49m\u001b[43mindex\u001b[49m\u001b[38;5;241;43m=\u001b[39;49m\u001b[43msubject_names\u001b[49m\u001b[43m,\u001b[49m\u001b[43m \u001b[49m\u001b[43mcolumns\u001b[49m\u001b[38;5;241;43m=\u001b[39;49m\u001b[43msubject_names\u001b[49m\u001b[43m)\u001b[49m\n\u001b[0;32m     13\u001b[0m plt\u001b[38;5;241m.\u001b[39mfigure(figsize \u001b[38;5;241m=\u001b[39m (\u001b[38;5;241m14\u001b[39m, \u001b[38;5;241m5\u001b[39m))\n\u001b[0;32m     14\u001b[0m heatmap \u001b[38;5;241m=\u001b[39m sn\u001b[38;5;241m.\u001b[39mheatmap(df_cm, annot\u001b[38;5;241m=\u001b[39m\u001b[38;5;28;01mTrue\u001b[39;00m)\n",
      "File \u001b[1;32mc:\\Users\\jovin\\Documents\\Computer Science (FR)\\Year 5\\Level 5 Individual Project\\3D-Face-Recognition-from-RGB-Camera-and-Radar-Sensors\\3dfr\\lib\\site-packages\\pandas\\core\\frame.py:785\u001b[0m, in \u001b[0;36mDataFrame.__init__\u001b[1;34m(self, data, index, columns, dtype, copy)\u001b[0m\n\u001b[0;32m    774\u001b[0m         mgr \u001b[38;5;241m=\u001b[39m dict_to_mgr(\n\u001b[0;32m    775\u001b[0m             \u001b[38;5;66;03m# error: Item \"ndarray\" of \"Union[ndarray, Series, Index]\" has no\u001b[39;00m\n\u001b[0;32m    776\u001b[0m             \u001b[38;5;66;03m# attribute \"name\"\u001b[39;00m\n\u001b[1;32m   (...)\u001b[0m\n\u001b[0;32m    782\u001b[0m             copy\u001b[38;5;241m=\u001b[39m_copy,\n\u001b[0;32m    783\u001b[0m         )\n\u001b[0;32m    784\u001b[0m     \u001b[38;5;28;01melse\u001b[39;00m:\n\u001b[1;32m--> 785\u001b[0m         mgr \u001b[38;5;241m=\u001b[39m \u001b[43mndarray_to_mgr\u001b[49m\u001b[43m(\u001b[49m\n\u001b[0;32m    786\u001b[0m \u001b[43m            \u001b[49m\u001b[43mdata\u001b[49m\u001b[43m,\u001b[49m\n\u001b[0;32m    787\u001b[0m \u001b[43m            \u001b[49m\u001b[43mindex\u001b[49m\u001b[43m,\u001b[49m\n\u001b[0;32m    788\u001b[0m \u001b[43m            \u001b[49m\u001b[43mcolumns\u001b[49m\u001b[43m,\u001b[49m\n\u001b[0;32m    789\u001b[0m \u001b[43m            \u001b[49m\u001b[43mdtype\u001b[49m\u001b[38;5;241;43m=\u001b[39;49m\u001b[43mdtype\u001b[49m\u001b[43m,\u001b[49m\n\u001b[0;32m    790\u001b[0m \u001b[43m            \u001b[49m\u001b[43mcopy\u001b[49m\u001b[38;5;241;43m=\u001b[39;49m\u001b[43mcopy\u001b[49m\u001b[43m,\u001b[49m\n\u001b[0;32m    791\u001b[0m \u001b[43m            \u001b[49m\u001b[43mtyp\u001b[49m\u001b[38;5;241;43m=\u001b[39;49m\u001b[43mmanager\u001b[49m\u001b[43m,\u001b[49m\n\u001b[0;32m    792\u001b[0m \u001b[43m        \u001b[49m\u001b[43m)\u001b[49m\n\u001b[0;32m    794\u001b[0m \u001b[38;5;66;03m# For data is list-like, or Iterable (will consume into list)\u001b[39;00m\n\u001b[0;32m    795\u001b[0m \u001b[38;5;28;01melif\u001b[39;00m is_list_like(data):\n",
      "File \u001b[1;32mc:\\Users\\jovin\\Documents\\Computer Science (FR)\\Year 5\\Level 5 Individual Project\\3D-Face-Recognition-from-RGB-Camera-and-Radar-Sensors\\3dfr\\lib\\site-packages\\pandas\\core\\internals\\construction.py:336\u001b[0m, in \u001b[0;36mndarray_to_mgr\u001b[1;34m(values, index, columns, dtype, copy, typ)\u001b[0m\n\u001b[0;32m    331\u001b[0m \u001b[38;5;66;03m# _prep_ndarraylike ensures that values.ndim == 2 at this point\u001b[39;00m\n\u001b[0;32m    332\u001b[0m index, columns \u001b[38;5;241m=\u001b[39m _get_axes(\n\u001b[0;32m    333\u001b[0m     values\u001b[38;5;241m.\u001b[39mshape[\u001b[38;5;241m0\u001b[39m], values\u001b[38;5;241m.\u001b[39mshape[\u001b[38;5;241m1\u001b[39m], index\u001b[38;5;241m=\u001b[39mindex, columns\u001b[38;5;241m=\u001b[39mcolumns\n\u001b[0;32m    334\u001b[0m )\n\u001b[1;32m--> 336\u001b[0m \u001b[43m_check_values_indices_shape_match\u001b[49m\u001b[43m(\u001b[49m\u001b[43mvalues\u001b[49m\u001b[43m,\u001b[49m\u001b[43m \u001b[49m\u001b[43mindex\u001b[49m\u001b[43m,\u001b[49m\u001b[43m \u001b[49m\u001b[43mcolumns\u001b[49m\u001b[43m)\u001b[49m\n\u001b[0;32m    338\u001b[0m \u001b[38;5;28;01mif\u001b[39;00m typ \u001b[38;5;241m==\u001b[39m \u001b[38;5;124m\"\u001b[39m\u001b[38;5;124marray\u001b[39m\u001b[38;5;124m\"\u001b[39m:\n\u001b[0;32m    339\u001b[0m     \u001b[38;5;28;01mif\u001b[39;00m \u001b[38;5;28missubclass\u001b[39m(values\u001b[38;5;241m.\u001b[39mdtype\u001b[38;5;241m.\u001b[39mtype, \u001b[38;5;28mstr\u001b[39m):\n",
      "File \u001b[1;32mc:\\Users\\jovin\\Documents\\Computer Science (FR)\\Year 5\\Level 5 Individual Project\\3D-Face-Recognition-from-RGB-Camera-and-Radar-Sensors\\3dfr\\lib\\site-packages\\pandas\\core\\internals\\construction.py:420\u001b[0m, in \u001b[0;36m_check_values_indices_shape_match\u001b[1;34m(values, index, columns)\u001b[0m\n\u001b[0;32m    418\u001b[0m passed \u001b[38;5;241m=\u001b[39m values\u001b[38;5;241m.\u001b[39mshape\n\u001b[0;32m    419\u001b[0m implied \u001b[38;5;241m=\u001b[39m (\u001b[38;5;28mlen\u001b[39m(index), \u001b[38;5;28mlen\u001b[39m(columns))\n\u001b[1;32m--> 420\u001b[0m \u001b[38;5;28;01mraise\u001b[39;00m \u001b[38;5;167;01mValueError\u001b[39;00m(\u001b[38;5;124mf\u001b[39m\u001b[38;5;124m\"\u001b[39m\u001b[38;5;124mShape of passed values is \u001b[39m\u001b[38;5;132;01m{\u001b[39;00mpassed\u001b[38;5;132;01m}\u001b[39;00m\u001b[38;5;124m, indices imply \u001b[39m\u001b[38;5;132;01m{\u001b[39;00mimplied\u001b[38;5;132;01m}\u001b[39;00m\u001b[38;5;124m\"\u001b[39m)\n",
      "\u001b[1;31mValueError\u001b[0m: Shape of passed values is (14, 14), indices imply (21, 21)"
     ]
    }
   ],
   "source": [
    "from sklearn.metrics import confusion_matrix\n",
    "import seaborn as sn\n",
    "import pandas as pd\n",
    "import sys\n",
    "sys.path.insert(1, \"../../Soli/soli_realsense/\")\n",
    "from names import anon_names\n",
    "\n",
    "subject_names = np.array(anon_names)\n",
    "\n",
    "# Build confusion matrix\n",
    "cf_matrix = confusion_matrix(preds_subject, true_subject)\n",
    "df_cm = pd.DataFrame(cf_matrix / np.sum(cf_matrix, axis=1)[:, None], index=subject_names, columns=subject_names)\n",
    "plt.figure(figsize = (14, 5))\n",
    "heatmap = sn.heatmap(df_cm, annot=True)\n",
    "heatmap.set(xlabel =\"Predictions\", ylabel = \"Actual\", title ='Precision Confusion Matrix')"
   ]
  },
  {
   "cell_type": "markdown",
   "metadata": {},
   "source": [
    "### Liveness Confusion Matrix"
   ]
  },
  {
   "cell_type": "code",
   "execution_count": null,
   "metadata": {},
   "outputs": [
    {
     "data": {
      "text/plain": [
       "[Text(0.5, 25.722222222222214, 'Predictions'),\n",
       " Text(145.72222222222223, 0.5, 'Actual'),\n",
       " Text(0.5, 1.0, 'Precision Confusion Matrix')]"
      ]
     },
     "execution_count": 7,
     "metadata": {},
     "output_type": "execute_result"
    },
    {
     "data": {
      "image/png": "[encoded data removed]",
      "text/plain": [
       "<Figure size 1400x500 with 2 Axes>"
      ]
     },
     "metadata": {},
     "output_type": "display_data"
    }
   ],
   "source": [
    "from sklearn.metrics import confusion_matrix\n",
    "import seaborn as sn\n",
    "import pandas as pd\n",
    "import sys\n",
    "\n",
    "# Build confusion matrix\n",
    "cf_matrix = confusion_matrix(preds_liveness, true_liveness)\n",
    "df_cm = pd.DataFrame(cf_matrix / np.sum(cf_matrix, axis=1)[:, None], index=[\"Real\", \"Fake\"], columns=[\"Real\", \"Fake\"])\n",
    "plt.figure(figsize = (14, 5))\n",
    "heatmap = sn.heatmap(df_cm, annot=True)\n",
    "heatmap.set(xlabel =\"Predictions\", ylabel = \"Actual\", title ='Precision Confusion Matrix')"
   ]
  }
 ],
 "metadata": {
  "kernelspec": {
   "display_name": "3dfr",
   "language": "python",
   "name": "python3"
  },
  "language_info": {
   "codemirror_mode": {
    "name": "ipython",
    "version": 3
   },
   "file_extension": ".py",
   "mimetype": "text/x-python",
   "name": "python",
   "nbconvert_exporter": "python",
   "pygments_lexer": "ipython3",
   "version": "3.9.2"
  }
 },
 "nbformat": 4,
 "nbformat_minor": 2
}
