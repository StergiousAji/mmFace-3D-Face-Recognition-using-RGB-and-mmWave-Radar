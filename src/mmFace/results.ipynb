{
 "cells": [
  {
   "cell_type": "code",
   "execution_count": 20,
   "metadata": {},
   "outputs": [],
   "source": [
    "import json\n",
    "\n",
    "with open(\"results_o.json\", 'r') as f:\n",
    "    data = json.load(f)"
   ]
  },
  {
   "cell_type": "code",
   "execution_count": null,
   "metadata": {},
   "outputs": [],
   "source": [
    "import numpy as np\n",
    "\n",
    "accuracies = np.array([x[\"SUBJECT\"][\"Accuracy\"] + x[\"LIVENESS\"][\"Accuracy\"] for x in data.values()])\n",
    "f1_scores = np.array([x[\"SUBJECT\"][\"Weighted-Averaged F-Score\"] + x[\"LIVENESS\"][\"Weighted-Averaged F-Score\"] for x in data.values()])\n",
    "micro_accuracies = np.array([x[\"SUBJECT\"][\"Micro-Accuracy\"] + x[\"LIVENESS\"][\"Micro-Accuracy\"] for x in data.values()])\n",
    "\n",
    "print(f\"Averaged Accuracies: \\n{accuracies / 2}\\n\")\n",
    "print(f\"Averaged Micro-Accuracies: \\n{micro_accuracies / 2}\\n\")\n",
    "print(f\"Averaged F_{{0.5}} Scores: \\n{f1_scores / 2}\\n\")\n",
    "print(f\"Macro-Averaged AUCs: \\n{[x['Macro-Averaged AUC'] for x in data.values()]}\\n\")\n",
    "print(f\"KL Divergences: \\n{[x['KL Divergence'] for x in data.values()]}\\n\")\n",
    "print(f\"Coverages: \\n{[x['Coverage'] for x in data.values()]}\\n\")\n",
    "print(f\"Subject Accuracy: \\n{[x['SUBJECT']['Accuracy'] for x in data.values()]}\\n\")\n",
    "print(f\"Liveness Accuracy: \\n{[x['LIVENESS']['Accuracy'] for x in data.values()]}\")"
   ]
  },
  {
   "cell_type": "code",
   "execution_count": null,
   "metadata": {},
   "outputs": [],
   "source": [
    "mean_accs = accuracies / 2\n",
    "diffs = mean_accs[0] - mean_accs\n",
    "print(diffs)\n",
    "print(np.mean(diffs[:-2]))\n"
   ]
  },
  {
   "cell_type": "code",
   "execution_count": null,
   "metadata": {},
   "outputs": [],
   "source": [
    "mean_accs = accuracies / 2\n",
    "diffs = mean_accs - mean_accs[-1]#(np.mean(mean_accs[-2:]))\n",
    "print((np.mean(mean_accs[-2:])))\n",
    "print(mean_accs)\n",
    "print(diffs[:-2])\n",
    "np.mean(diffs[:-2])"
   ]
  },
  {
   "cell_type": "code",
   "execution_count": 17,
   "metadata": {},
   "outputs": [],
   "source": [
    "import json\n",
    "import numpy as np\n",
    "\n",
    "with open(\"results_rlc.json\", 'r') as f:\n",
    "    data_rlc = json.load(f)\n",
    "\n",
    "with open(\"results_dlc.json\", 'r') as f:\n",
    "    data_dlc = json.load(f)\n",
    "\n",
    "with open(\"results_o.json\", 'r') as f:\n",
    "    data_o = json.load(f)"
   ]
  },
  {
   "cell_type": "code",
   "execution_count": 18,
   "metadata": {},
   "outputs": [
    {
     "name": "stdout",
     "output_type": "stream",
     "text": [
      "Mean difference (DLC): 0.42548571428571336\n",
      "Mean difference (O): 3.861157142857143\n"
     ]
    }
   ],
   "source": [
    "subject_accs_rlc = np.array([x['SUBJECT']['Accuracy'] for x in data_rlc.values()])\n",
    "subject_accs_dlc = np.array([x['SUBJECT']['Accuracy'] for x in data_dlc.values()])\n",
    "subject_accs_o = np.array([x['SUBJECT']['Accuracy'] for x in data_o.values()])\n",
    "\n",
    "print(f\"Mean difference (DLC): {np.mean(subject_accs_rlc[:-2] - subject_accs_dlc[:-2])}\")\n",
    "print(f\"Mean difference (O): {np.mean(subject_accs_rlc[:-2] - subject_accs_o[:-2])}\")"
   ]
  },
  {
   "cell_type": "code",
   "execution_count": 19,
   "metadata": {},
   "outputs": [
    {
     "name": "stdout",
     "output_type": "stream",
     "text": [
      "Mean difference (DLC): -0.20595714285714248\n",
      "Mean difference (O): 1.7003000000000026\n"
     ]
    }
   ],
   "source": [
    "liveness_accs_rlc = np.array([x['LIVENESS']['Accuracy'] for x in data_rlc.values()])\n",
    "liveness_accs_dlc = np.array([x['LIVENESS']['Accuracy'] for x in data_dlc.values()])\n",
    "liveness_accs_o = np.array([x['LIVENESS']['Accuracy'] for x in data_o.values()])\n",
    "\n",
    "print(f\"Mean difference (DLC): {np.mean(liveness_accs_rlc[:-2] - liveness_accs_dlc[:-2])}\")\n",
    "print(f\"Mean difference (O): {np.mean(liveness_accs_rlc[:-2] - liveness_accs_o[:-2])}\")"
   ]
  }
 ],
 "metadata": {
  "kernelspec": {
   "display_name": "3dfr",
   "language": "python",
   "name": "python3"
  },
  "language_info": {
   "codemirror_mode": {
    "name": "ipython",
    "version": 3
   },
   "file_extension": ".py",
   "mimetype": "text/x-python",
   "name": "python",
   "nbconvert_exporter": "python",
   "pygments_lexer": "ipython3",
   "version": "3.9.2"
  }
 },
 "nbformat": 4,
 "nbformat_minor": 2
}
